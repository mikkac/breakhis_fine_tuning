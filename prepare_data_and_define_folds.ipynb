{
 "cells": [
  {
   "attachments": {},
   "cell_type": "markdown",
   "id": "d6ae1d62",
   "metadata": {
    "papermill": {
     "duration": 0.013196,
     "end_time": "2022-08-06T22:25:45.372402",
     "exception": false,
     "start_time": "2022-08-06T22:25:45.359206",
     "status": "completed"
    },
    "tags": []
   },
   "source": [
    "# Breast Cancer Detection based on Histopathology Images"
   ]
  },
  {
   "attachments": {},
   "cell_type": "markdown",
   "id": "2a64676e",
   "metadata": {
    "papermill": {
     "duration": 0.011338,
     "end_time": "2022-08-06T22:25:45.395459",
     "exception": false,
     "start_time": "2022-08-06T22:25:45.384121",
     "status": "completed"
    },
    "tags": []
   },
   "source": [
    "## About the Data:"
   ]
  },
  {
   "attachments": {},
   "cell_type": "markdown",
   "id": "683b909c",
   "metadata": {
    "papermill": {
     "duration": 0.011207,
     "end_time": "2022-08-06T22:25:45.419463",
     "exception": false,
     "start_time": "2022-08-06T22:25:45.408256",
     "status": "completed"
    },
    "tags": []
   },
   "source": [
    "- **Data Source:** https://www.kaggle.com/code/nasrulhakim86/breast-cancer-histopathology-images-classification/data\n",
    "- The Breast Cancer Histopathological Image Classification (BreakHis) is composed of 9,109 microscopic images of breast tumor tissue collected from 82 patients.\n",
    "- The images are collected using different magnifying factors (40X, 100X, 200X, and 400X). \n",
    "- To date, it contains 2,480 benign and 5,429 malignant samples (700X460 pixels, 3-channel RGB, 8-bit depth in each channel, PNG format).\n",
    "- This database has been built in collaboration with the P&D Laboratory – Pathological Anatomy and Cytopathology, Parana, Brazil (http://www.prevencaoediagnose.com.br). \n",
    "- Each image filename stores information about the image itself: method of procedure biopsy, tumor class, tumor type, patient identification, and magnification factor. \n",
    "- For example, SOBBTA-14-4659-40-001.png is the image 1, at magnification factor 40X, of a benign tumor of type tubular adenoma, original from the slide 14-4659, which was collected by procedure SOB."
   ]
  },
  {
   "cell_type": "code",
   "execution_count": 1,
   "id": "d6385c4b",
   "metadata": {
    "execution": {
     "iopub.execute_input": "2022-08-06T22:25:45.444681Z",
     "iopub.status.busy": "2022-08-06T22:25:45.444196Z",
     "iopub.status.idle": "2022-08-06T22:25:46.763951Z",
     "shell.execute_reply": "2022-08-06T22:25:46.762993Z"
    },
    "papermill": {
     "duration": 1.33507,
     "end_time": "2022-08-06T22:25:46.766487",
     "exception": false,
     "start_time": "2022-08-06T22:25:45.431417",
     "status": "completed"
    },
    "tags": []
   },
   "outputs": [],
   "source": [
    "import cv2\n",
    "import matplotlib.pyplot as plt\n",
    "import os\n",
    "import pandas as pd\n",
    "from pathlib import Path\n",
    "import seaborn as sns\n",
    "import shutil\n"
   ]
  },
  {
   "attachments": {},
   "cell_type": "markdown",
   "id": "90a29ef3",
   "metadata": {},
   "source": [
    "### Prepare directories"
   ]
  },
  {
   "cell_type": "code",
   "execution_count": 2,
   "id": "8686061c",
   "metadata": {},
   "outputs": [],
   "source": [
    "zoom = 400\n",
    "\n",
    "cwd = Path().absolute()\n",
    "input_path = cwd / 'breakhis'\n",
    "output_path = cwd / f'breakhis_{zoom}x'\n"
   ]
  },
  {
   "cell_type": "code",
   "execution_count": 3,
   "id": "c65e677d",
   "metadata": {},
   "outputs": [],
   "source": [
    "shutil.rmtree(output_path, ignore_errors=True)\n"
   ]
  },
  {
   "cell_type": "code",
   "execution_count": 4,
   "id": "a668139f",
   "metadata": {},
   "outputs": [],
   "source": [
    "os.makedirs(output_path)\n",
    "os.makedirs(output_path / 'benign')\n",
    "os.makedirs(output_path / 'malignant')\n"
   ]
  },
  {
   "attachments": {},
   "cell_type": "markdown",
   "id": "a9038f9b",
   "metadata": {},
   "source": [
    "### Load data"
   ]
  },
  {
   "cell_type": "code",
   "execution_count": 5,
   "id": "2534a5a3",
   "metadata": {
    "execution": {
     "iopub.execute_input": "2022-08-06T22:25:51.911891Z",
     "iopub.status.busy": "2022-08-06T22:25:51.911616Z",
     "iopub.status.idle": "2022-08-06T22:25:52.010172Z",
     "shell.execute_reply": "2022-08-06T22:25:52.009231Z"
    },
    "papermill": {
     "duration": 0.113244,
     "end_time": "2022-08-06T22:25:52.012404",
     "exception": false,
     "start_time": "2022-08-06T22:25:51.899160",
     "status": "completed"
    },
    "tags": []
   },
   "outputs": [],
   "source": [
    "input_data_df = pd.read_csv(input_path / 'Folds.csv')\n"
   ]
  },
  {
   "cell_type": "code",
   "execution_count": 6,
   "id": "9090ecbe",
   "metadata": {
    "execution": {
     "iopub.execute_input": "2022-08-06T22:25:52.091578Z",
     "iopub.status.busy": "2022-08-06T22:25:52.091280Z",
     "iopub.status.idle": "2022-08-06T22:25:52.109658Z",
     "shell.execute_reply": "2022-08-06T22:25:52.108701Z"
    },
    "papermill": {
     "duration": 0.032818,
     "end_time": "2022-08-06T22:25:52.111611",
     "exception": false,
     "start_time": "2022-08-06T22:25:52.078793",
     "status": "completed"
    },
    "tags": []
   },
   "outputs": [
    {
     "data": {
      "text/html": [
       "<div>\n",
       "<style scoped>\n",
       "    .dataframe tbody tr th:only-of-type {\n",
       "        vertical-align: middle;\n",
       "    }\n",
       "\n",
       "    .dataframe tbody tr th {\n",
       "        vertical-align: top;\n",
       "    }\n",
       "\n",
       "    .dataframe thead th {\n",
       "        text-align: right;\n",
       "    }\n",
       "</style>\n",
       "<table border=\"1\" class=\"dataframe\">\n",
       "  <thead>\n",
       "    <tr style=\"text-align: right;\">\n",
       "      <th></th>\n",
       "      <th>fold</th>\n",
       "      <th>mag</th>\n",
       "      <th>grp</th>\n",
       "      <th>path</th>\n",
       "    </tr>\n",
       "  </thead>\n",
       "  <tbody>\n",
       "    <tr>\n",
       "      <th>0</th>\n",
       "      <td>1</td>\n",
       "      <td>100</td>\n",
       "      <td>train</td>\n",
       "      <td>BreaKHis_v1/histology_slides/breast/benign/SOB...</td>\n",
       "    </tr>\n",
       "    <tr>\n",
       "      <th>1</th>\n",
       "      <td>1</td>\n",
       "      <td>100</td>\n",
       "      <td>train</td>\n",
       "      <td>BreaKHis_v1/histology_slides/breast/benign/SOB...</td>\n",
       "    </tr>\n",
       "    <tr>\n",
       "      <th>2</th>\n",
       "      <td>1</td>\n",
       "      <td>100</td>\n",
       "      <td>train</td>\n",
       "      <td>BreaKHis_v1/histology_slides/breast/benign/SOB...</td>\n",
       "    </tr>\n",
       "  </tbody>\n",
       "</table>\n",
       "</div>"
      ],
      "text/plain": [
       "   fold  mag    grp                                               path\n",
       "0     1  100  train  BreaKHis_v1/histology_slides/breast/benign/SOB...\n",
       "1     1  100  train  BreaKHis_v1/histology_slides/breast/benign/SOB...\n",
       "2     1  100  train  BreaKHis_v1/histology_slides/breast/benign/SOB..."
      ]
     },
     "execution_count": 6,
     "metadata": {},
     "output_type": "execute_result"
    }
   ],
   "source": [
    "input_data_df = input_data_df.rename(columns={\"filename\": \"path\"})\n",
    "input_data_df.head(3)\n"
   ]
  },
  {
   "cell_type": "code",
   "execution_count": 7,
   "id": "3d2e14ef",
   "metadata": {
    "execution": {
     "iopub.execute_input": "2022-08-06T22:25:52.137484Z",
     "iopub.status.busy": "2022-08-06T22:25:52.136730Z",
     "iopub.status.idle": "2022-08-06T22:25:52.144300Z",
     "shell.execute_reply": "2022-08-06T22:25:52.143374Z"
    },
    "papermill": {
     "duration": 0.022682,
     "end_time": "2022-08-06T22:25:52.146259",
     "exception": false,
     "start_time": "2022-08-06T22:25:52.123577",
     "status": "completed"
    },
    "tags": []
   },
   "outputs": [
    {
     "data": {
      "text/plain": [
       "'BreaKHis_v1/histology_slides/breast/benign/SOB/adenosis/SOB_B_A_14-22549AB/100X/SOB_B_A-14-22549AB-100-002.png'"
      ]
     },
     "execution_count": 7,
     "metadata": {},
     "output_type": "execute_result"
    }
   ],
   "source": [
    "input_data_df['path'][1]\n"
   ]
  },
  {
   "cell_type": "code",
   "execution_count": 8,
   "id": "b4b454ca",
   "metadata": {
    "execution": {
     "iopub.execute_input": "2022-08-06T22:25:52.196101Z",
     "iopub.status.busy": "2022-08-06T22:25:52.195230Z",
     "iopub.status.idle": "2022-08-06T22:25:52.244030Z",
     "shell.execute_reply": "2022-08-06T22:25:52.243099Z"
    },
    "papermill": {
     "duration": 0.063497,
     "end_time": "2022-08-06T22:25:52.246068",
     "exception": false,
     "start_time": "2022-08-06T22:25:52.182571",
     "status": "completed"
    },
    "tags": []
   },
   "outputs": [],
   "source": [
    "input_data_df['filename'] = input_data_df['path'].apply(\n",
    "    lambda x: x.split(\"/\")[-1])\n",
    "input_data_df[\"label\"] = input_data_df['path'].apply(lambda x: x.split(\"/\")[3])\n",
    "input_data_df[\"patient_id\"] = input_data_df['path'].apply(\n",
    "    lambda x: x.split(\"/\")[-3])\n"
   ]
  },
  {
   "cell_type": "code",
   "execution_count": 9,
   "id": "dcf667c3",
   "metadata": {},
   "outputs": [],
   "source": [
    "input_data_df = input_data_df[input_data_df.mag == zoom]\n"
   ]
  },
  {
   "cell_type": "code",
   "execution_count": 10,
   "id": "0982f779",
   "metadata": {
    "execution": {
     "iopub.execute_input": "2022-08-06T22:25:52.272207Z",
     "iopub.status.busy": "2022-08-06T22:25:52.271536Z",
     "iopub.status.idle": "2022-08-06T22:25:52.282758Z",
     "shell.execute_reply": "2022-08-06T22:25:52.281792Z"
    },
    "papermill": {
     "duration": 0.026359,
     "end_time": "2022-08-06T22:25:52.284718",
     "exception": false,
     "start_time": "2022-08-06T22:25:52.258359",
     "status": "completed"
    },
    "tags": []
   },
   "outputs": [
    {
     "data": {
      "text/html": [
       "<div>\n",
       "<style scoped>\n",
       "    .dataframe tbody tr th:only-of-type {\n",
       "        vertical-align: middle;\n",
       "    }\n",
       "\n",
       "    .dataframe tbody tr th {\n",
       "        vertical-align: top;\n",
       "    }\n",
       "\n",
       "    .dataframe thead th {\n",
       "        text-align: right;\n",
       "    }\n",
       "</style>\n",
       "<table border=\"1\" class=\"dataframe\">\n",
       "  <thead>\n",
       "    <tr style=\"text-align: right;\">\n",
       "      <th></th>\n",
       "      <th>fold</th>\n",
       "      <th>mag</th>\n",
       "      <th>grp</th>\n",
       "      <th>path</th>\n",
       "      <th>filename</th>\n",
       "      <th>label</th>\n",
       "      <th>patient_id</th>\n",
       "    </tr>\n",
       "  </thead>\n",
       "  <tbody>\n",
       "    <tr>\n",
       "      <th>91</th>\n",
       "      <td>1</td>\n",
       "      <td>400</td>\n",
       "      <td>train</td>\n",
       "      <td>BreaKHis_v1/histology_slides/breast/benign/SOB...</td>\n",
       "      <td>SOB_B_A-14-22549AB-400-001.png</td>\n",
       "      <td>benign</td>\n",
       "      <td>SOB_B_A_14-22549AB</td>\n",
       "    </tr>\n",
       "    <tr>\n",
       "      <th>92</th>\n",
       "      <td>1</td>\n",
       "      <td>400</td>\n",
       "      <td>train</td>\n",
       "      <td>BreaKHis_v1/histology_slides/breast/benign/SOB...</td>\n",
       "      <td>SOB_B_A-14-22549AB-400-002.png</td>\n",
       "      <td>benign</td>\n",
       "      <td>SOB_B_A_14-22549AB</td>\n",
       "    </tr>\n",
       "    <tr>\n",
       "      <th>93</th>\n",
       "      <td>1</td>\n",
       "      <td>400</td>\n",
       "      <td>train</td>\n",
       "      <td>BreaKHis_v1/histology_slides/breast/benign/SOB...</td>\n",
       "      <td>SOB_B_A-14-22549AB-400-003.png</td>\n",
       "      <td>benign</td>\n",
       "      <td>SOB_B_A_14-22549AB</td>\n",
       "    </tr>\n",
       "  </tbody>\n",
       "</table>\n",
       "</div>"
      ],
      "text/plain": [
       "    fold  mag    grp                                               path  \\\n",
       "91     1  400  train  BreaKHis_v1/histology_slides/breast/benign/SOB...   \n",
       "92     1  400  train  BreaKHis_v1/histology_slides/breast/benign/SOB...   \n",
       "93     1  400  train  BreaKHis_v1/histology_slides/breast/benign/SOB...   \n",
       "\n",
       "                          filename   label          patient_id  \n",
       "91  SOB_B_A-14-22549AB-400-001.png  benign  SOB_B_A_14-22549AB  \n",
       "92  SOB_B_A-14-22549AB-400-002.png  benign  SOB_B_A_14-22549AB  \n",
       "93  SOB_B_A-14-22549AB-400-003.png  benign  SOB_B_A_14-22549AB  "
      ]
     },
     "execution_count": 10,
     "metadata": {},
     "output_type": "execute_result"
    }
   ],
   "source": [
    "input_data_df.head(3)\n"
   ]
  },
  {
   "attachments": {},
   "cell_type": "markdown",
   "id": "1b85eb4e",
   "metadata": {
    "papermill": {
     "duration": 0.011964,
     "end_time": "2022-08-06T22:25:52.308803",
     "exception": false,
     "start_time": "2022-08-06T22:25:52.296839",
     "status": "completed"
    },
    "tags": []
   },
   "source": [
    "### Copy data to new directory\n",
    "\n",
    "- The given data consists of very complex structure of folders where it stores the images.\n",
    "- The structure as follows:\n",
    "    - BreaKHis_v1\n",
    "        - histology_slides\n",
    "            - breast\n",
    "                - **benign**\n",
    "                    - **SOB**\n",
    "                        - Type\n",
    "                            - **patient_id**  \n",
    "                                - 40x\n",
    "                                - 100x\n",
    "                                - 200x\n",
    "                                - 400x\n",
    "                - **malignant**\n",
    "                    - **SOB**\n",
    "                        - Type\n",
    "                            - **patient_id**   \n",
    "                                - 40x\n",
    "                                - 100x\n",
    "                                - 200x\n",
    "                                - 400x\n",
    "- To make things simple, using the exact path of the images, all the images are moved to the common folder called **Cancer.**\n",
    "- Images are renamed with their class and patient_id.\n",
    "                "
   ]
  },
  {
   "cell_type": "code",
   "execution_count": 11,
   "id": "55c2aa29",
   "metadata": {
    "execution": {
     "iopub.execute_input": "2022-08-06T22:25:52.367523Z",
     "iopub.status.busy": "2022-08-06T22:25:52.366904Z",
     "iopub.status.idle": "2022-08-06T22:30:57.193695Z",
     "shell.execute_reply": "2022-08-06T22:30:57.185493Z"
    },
    "papermill": {
     "duration": 304.853999,
     "end_time": "2022-08-06T22:30:57.207871",
     "exception": false,
     "start_time": "2022-08-06T22:25:52.353872",
     "status": "completed"
    },
    "tags": []
   },
   "outputs": [],
   "source": [
    "for i in range(len(input_data_df)):\n",
    "    src = input_path / 'BreaKHis_v1' / input_data_df['path'].iloc[i]\n",
    "    dest = output_path / \\\n",
    "        input_data_df[\"label\"].iloc[i] / str(src).split(\"/\")[-1]\n",
    "    shutil.copyfile(src, dest)\n"
   ]
  },
  {
   "cell_type": "code",
   "execution_count": 12,
   "id": "155ab25e",
   "metadata": {
    "execution": {
     "iopub.execute_input": "2022-08-06T22:30:57.238355Z",
     "iopub.status.busy": "2022-08-06T22:30:57.237712Z",
     "iopub.status.idle": "2022-08-06T22:30:57.253861Z",
     "shell.execute_reply": "2022-08-06T22:30:57.252253Z"
    },
    "papermill": {
     "duration": 0.033094,
     "end_time": "2022-08-06T22:30:57.256068",
     "exception": false,
     "start_time": "2022-08-06T22:30:57.222974",
     "status": "completed"
    },
    "tags": []
   },
   "outputs": [
    {
     "name": "stdout",
     "output_type": "stream",
     "text": [
      "Benign: 588\n",
      "Malignant: 1232\n"
     ]
    }
   ],
   "source": [
    "print(f\"Benign: {len(os.listdir(output_path / 'benign'))}\")\n",
    "print(f\"Malignant: {len(os.listdir(output_path / 'malignant'))}\")\n"
   ]
  },
  {
   "attachments": {},
   "cell_type": "markdown",
   "id": "39c7a58f",
   "metadata": {
    "papermill": {
     "duration": 0.01276,
     "end_time": "2022-08-06T22:30:57.282868",
     "exception": false,
     "start_time": "2022-08-06T22:30:57.270108",
     "status": "completed"
    },
    "tags": []
   },
   "source": [
    "- All the images are now stores in single folder."
   ]
  },
  {
   "cell_type": "code",
   "execution_count": 13,
   "id": "d4320e46",
   "metadata": {
    "execution": {
     "iopub.execute_input": "2022-08-06T22:30:57.309786Z",
     "iopub.status.busy": "2022-08-06T22:30:57.308947Z",
     "iopub.status.idle": "2022-08-06T22:30:57.384289Z",
     "shell.execute_reply": "2022-08-06T22:30:57.383045Z"
    },
    "papermill": {
     "duration": 0.09127,
     "end_time": "2022-08-06T22:30:57.386434",
     "exception": false,
     "start_time": "2022-08-06T22:30:57.295164",
     "status": "completed"
    },
    "tags": []
   },
   "outputs": [],
   "source": [
    "input_data_df['file_loc'] = input_data_df['label'] + \\\n",
    "    \"_\" + input_data_df['filename']\n",
    "input_data_df['class'] = input_data_df['label'].apply(\n",
    "    lambda x: 0 if x == 'benign' else 1)\n"
   ]
  },
  {
   "cell_type": "code",
   "execution_count": 14,
   "id": "c33edf07",
   "metadata": {
    "execution": {
     "iopub.execute_input": "2022-08-06T22:30:57.414764Z",
     "iopub.status.busy": "2022-08-06T22:30:57.413049Z",
     "iopub.status.idle": "2022-08-06T22:30:57.430367Z",
     "shell.execute_reply": "2022-08-06T22:30:57.429461Z"
    },
    "papermill": {
     "duration": 0.033036,
     "end_time": "2022-08-06T22:30:57.432290",
     "exception": false,
     "start_time": "2022-08-06T22:30:57.399254",
     "status": "completed"
    },
    "tags": []
   },
   "outputs": [
    {
     "data": {
      "text/html": [
       "<div>\n",
       "<style scoped>\n",
       "    .dataframe tbody tr th:only-of-type {\n",
       "        vertical-align: middle;\n",
       "    }\n",
       "\n",
       "    .dataframe tbody tr th {\n",
       "        vertical-align: top;\n",
       "    }\n",
       "\n",
       "    .dataframe thead th {\n",
       "        text-align: right;\n",
       "    }\n",
       "</style>\n",
       "<table border=\"1\" class=\"dataframe\">\n",
       "  <thead>\n",
       "    <tr style=\"text-align: right;\">\n",
       "      <th></th>\n",
       "      <th>fold</th>\n",
       "      <th>mag</th>\n",
       "      <th>grp</th>\n",
       "      <th>path</th>\n",
       "      <th>filename</th>\n",
       "      <th>label</th>\n",
       "      <th>patient_id</th>\n",
       "      <th>file_loc</th>\n",
       "      <th>class</th>\n",
       "    </tr>\n",
       "  </thead>\n",
       "  <tbody>\n",
       "    <tr>\n",
       "      <th>91</th>\n",
       "      <td>1</td>\n",
       "      <td>400</td>\n",
       "      <td>train</td>\n",
       "      <td>BreaKHis_v1/histology_slides/breast/benign/SOB...</td>\n",
       "      <td>SOB_B_A-14-22549AB-400-001.png</td>\n",
       "      <td>benign</td>\n",
       "      <td>SOB_B_A_14-22549AB</td>\n",
       "      <td>benign_SOB_B_A-14-22549AB-400-001.png</td>\n",
       "      <td>0</td>\n",
       "    </tr>\n",
       "    <tr>\n",
       "      <th>92</th>\n",
       "      <td>1</td>\n",
       "      <td>400</td>\n",
       "      <td>train</td>\n",
       "      <td>BreaKHis_v1/histology_slides/breast/benign/SOB...</td>\n",
       "      <td>SOB_B_A-14-22549AB-400-002.png</td>\n",
       "      <td>benign</td>\n",
       "      <td>SOB_B_A_14-22549AB</td>\n",
       "      <td>benign_SOB_B_A-14-22549AB-400-002.png</td>\n",
       "      <td>0</td>\n",
       "    </tr>\n",
       "    <tr>\n",
       "      <th>93</th>\n",
       "      <td>1</td>\n",
       "      <td>400</td>\n",
       "      <td>train</td>\n",
       "      <td>BreaKHis_v1/histology_slides/breast/benign/SOB...</td>\n",
       "      <td>SOB_B_A-14-22549AB-400-003.png</td>\n",
       "      <td>benign</td>\n",
       "      <td>SOB_B_A_14-22549AB</td>\n",
       "      <td>benign_SOB_B_A-14-22549AB-400-003.png</td>\n",
       "      <td>0</td>\n",
       "    </tr>\n",
       "  </tbody>\n",
       "</table>\n",
       "</div>"
      ],
      "text/plain": [
       "    fold  mag    grp                                               path  \\\n",
       "91     1  400  train  BreaKHis_v1/histology_slides/breast/benign/SOB...   \n",
       "92     1  400  train  BreaKHis_v1/histology_slides/breast/benign/SOB...   \n",
       "93     1  400  train  BreaKHis_v1/histology_slides/breast/benign/SOB...   \n",
       "\n",
       "                          filename   label          patient_id  \\\n",
       "91  SOB_B_A-14-22549AB-400-001.png  benign  SOB_B_A_14-22549AB   \n",
       "92  SOB_B_A-14-22549AB-400-002.png  benign  SOB_B_A_14-22549AB   \n",
       "93  SOB_B_A-14-22549AB-400-003.png  benign  SOB_B_A_14-22549AB   \n",
       "\n",
       "                                 file_loc  class  \n",
       "91  benign_SOB_B_A-14-22549AB-400-001.png      0  \n",
       "92  benign_SOB_B_A-14-22549AB-400-002.png      0  \n",
       "93  benign_SOB_B_A-14-22549AB-400-003.png      0  "
      ]
     },
     "execution_count": 14,
     "metadata": {},
     "output_type": "execute_result"
    }
   ],
   "source": [
    "input_data_df.head(3)\n"
   ]
  },
  {
   "cell_type": "code",
   "execution_count": 15,
   "id": "d3ec0220",
   "metadata": {
    "execution": {
     "iopub.execute_input": "2022-08-06T22:30:57.460391Z",
     "iopub.status.busy": "2022-08-06T22:30:57.458560Z",
     "iopub.status.idle": "2022-08-06T22:30:57.764872Z",
     "shell.execute_reply": "2022-08-06T22:30:57.763911Z"
    },
    "papermill": {
     "duration": 0.321822,
     "end_time": "2022-08-06T22:30:57.766917",
     "exception": false,
     "start_time": "2022-08-06T22:30:57.445095",
     "status": "completed"
    },
    "tags": []
   },
   "outputs": [
    {
     "data": {
      "text/plain": [
       "Text(0.5, 1.0, 'No of Patients Benign and Malignant')"
      ]
     },
     "execution_count": 15,
     "metadata": {},
     "output_type": "execute_result"
    },
    {
     "data": {
      "image/png": "[encoded data removed]",
      "text/plain": [
       "<Figure size 1000x600 with 1 Axes>"
      ]
     },
     "metadata": {},
     "output_type": "display_data"
    }
   ],
   "source": [
    "plt.figure(figsize=(10, 6))\n",
    "sns.set(font_scale=1.5)\n",
    "sns.set_style(\"darkgrid\")\n",
    "sns.countplot(x=input_data_df['label'])\n",
    "plt.xlabel(\"Class\")\n",
    "plt.title(\"No of Patients Benign and Malignant\")\n"
   ]
  },
  {
   "attachments": {},
   "cell_type": "markdown",
   "id": "c80b4127",
   "metadata": {
    "papermill": {
     "duration": 0.013493,
     "end_time": "2022-08-06T22:30:57.793974",
     "exception": false,
     "start_time": "2022-08-06T22:30:57.780481",
     "status": "completed"
    },
    "tags": []
   },
   "source": [
    "- Data is Highly Imabalanced as this is the case with the real world.\n",
    "- Medical datas are usually imbalanced because of their nature."
   ]
  },
  {
   "cell_type": "code",
   "execution_count": 16,
   "id": "3ca1c934",
   "metadata": {
    "execution": {
     "iopub.execute_input": "2022-08-06T22:30:57.822933Z",
     "iopub.status.busy": "2022-08-06T22:30:57.822601Z",
     "iopub.status.idle": "2022-08-06T22:30:57.847136Z",
     "shell.execute_reply": "2022-08-06T22:30:57.846041Z"
    },
    "papermill": {
     "duration": 0.04129,
     "end_time": "2022-08-06T22:30:57.849793",
     "exception": false,
     "start_time": "2022-08-06T22:30:57.808503",
     "status": "completed"
    },
    "tags": []
   },
   "outputs": [],
   "source": [
    "# benign_df = input_data_df[input_data_df['label'] == 'benign']\n",
    "# malignant_df = input_data_df[input_data_df['label'] == 'malignant']\n"
   ]
  },
  {
   "attachments": {},
   "cell_type": "markdown",
   "id": "6adf510f",
   "metadata": {
    "papermill": {
     "duration": 0.012862,
     "end_time": "2022-08-06T22:30:57.875995",
     "exception": false,
     "start_time": "2022-08-06T22:30:57.863133",
     "status": "completed"
    },
    "tags": []
   },
   "source": [
    "### Benign Samples"
   ]
  },
  {
   "cell_type": "code",
   "execution_count": 17,
   "id": "8755af60",
   "metadata": {
    "execution": {
     "iopub.execute_input": "2022-08-06T22:30:57.903800Z",
     "iopub.status.busy": "2022-08-06T22:30:57.903265Z",
     "iopub.status.idle": "2022-08-06T22:31:03.754347Z",
     "shell.execute_reply": "2022-08-06T22:31:03.753170Z"
    },
    "papermill": {
     "duration": 5.885151,
     "end_time": "2022-08-06T22:31:03.774184",
     "exception": false,
     "start_time": "2022-08-06T22:30:57.889033",
     "status": "completed"
    },
    "tags": []
   },
   "outputs": [],
   "source": [
    "# plt.figure(figsize=(30, 10))\n",
    "# for i in range(0, 40):\n",
    "#     plt.subplot(4, 10, i+1)\n",
    "#     img = cv2.imread(os.path.join(\n",
    "#         output_path, benign_df['label'].iloc[i], benign_df['filename'].iloc[i]), 1)\n",
    "#     plt.imshow(img)\n"
   ]
  },
  {
   "attachments": {},
   "cell_type": "markdown",
   "id": "330c6ae3",
   "metadata": {
    "papermill": {
     "duration": 0.033857,
     "end_time": "2022-08-06T22:31:03.842146",
     "exception": false,
     "start_time": "2022-08-06T22:31:03.808289",
     "status": "completed"
    },
    "tags": []
   },
   "source": [
    "### Malignant Samples"
   ]
  },
  {
   "cell_type": "code",
   "execution_count": 18,
   "id": "eff80bb6",
   "metadata": {
    "execution": {
     "iopub.execute_input": "2022-08-06T22:31:03.910971Z",
     "iopub.status.busy": "2022-08-06T22:31:03.910609Z",
     "iopub.status.idle": "2022-08-06T22:31:09.638094Z",
     "shell.execute_reply": "2022-08-06T22:31:09.637237Z"
    },
    "papermill": {
     "duration": 5.779011,
     "end_time": "2022-08-06T22:31:09.654777",
     "exception": false,
     "start_time": "2022-08-06T22:31:03.875766",
     "status": "completed"
    },
    "tags": []
   },
   "outputs": [],
   "source": [
    "# plt.figure(figsize=(30, 10))\n",
    "# for i in range(0, 40):\n",
    "#     plt.subplot(4, 10, i+1)\n",
    "#     img = cv2.imread(os.path.join(\n",
    "#         output_path, malignant_df['label'].iloc[i], malignant_df['filename'].iloc[i]), 1)\n",
    "#     plt.imshow(img)\n"
   ]
  },
  {
   "attachments": {},
   "cell_type": "markdown",
   "id": "c9ac9b3b",
   "metadata": {
    "papermill": {
     "duration": 0.059473,
     "end_time": "2022-08-06T22:31:09.773630",
     "exception": false,
     "start_time": "2022-08-06T22:31:09.714157",
     "status": "completed"
    },
    "tags": []
   },
   "source": [
    "**Findings:**\n",
    "\n",
    "- From the above images there is very little to no difference between malignant and benign samples.\n",
    "- This might be because we are not the pathologists, That's the original purpose of the detection system.\n",
    "- Thus it makes it easy in the absence of actual pathologists."
   ]
  },
  {
   "cell_type": "code",
   "execution_count": 19,
   "id": "c0d28169",
   "metadata": {
    "execution": {
     "iopub.execute_input": "2022-08-06T22:31:09.887977Z",
     "iopub.status.busy": "2022-08-06T22:31:09.887449Z",
     "iopub.status.idle": "2022-08-06T22:31:09.910066Z",
     "shell.execute_reply": "2022-08-06T22:31:09.909182Z"
    },
    "papermill": {
     "duration": 0.082865,
     "end_time": "2022-08-06T22:31:09.912162",
     "exception": false,
     "start_time": "2022-08-06T22:31:09.829297",
     "status": "completed"
    },
    "tags": []
   },
   "outputs": [
    {
     "data": {
      "text/html": [
       "<div>\n",
       "<style scoped>\n",
       "    .dataframe tbody tr th:only-of-type {\n",
       "        vertical-align: middle;\n",
       "    }\n",
       "\n",
       "    .dataframe tbody tr th {\n",
       "        vertical-align: top;\n",
       "    }\n",
       "\n",
       "    .dataframe thead th {\n",
       "        text-align: right;\n",
       "    }\n",
       "</style>\n",
       "<table border=\"1\" class=\"dataframe\">\n",
       "  <thead>\n",
       "    <tr style=\"text-align: right;\">\n",
       "      <th></th>\n",
       "      <th>label</th>\n",
       "      <th>patient_id</th>\n",
       "    </tr>\n",
       "    <tr>\n",
       "      <th>file_loc</th>\n",
       "      <th></th>\n",
       "      <th></th>\n",
       "    </tr>\n",
       "  </thead>\n",
       "  <tbody>\n",
       "    <tr>\n",
       "      <th>breakhis_400x/benign/SOB_B_TA-14-13200-400-014.png</th>\n",
       "      <td>0</td>\n",
       "      <td>SOB_B_TA-14-13200</td>\n",
       "    </tr>\n",
       "    <tr>\n",
       "      <th>breakhis_400x/benign/SOB_B_TA-14-21978AB-400-012.png</th>\n",
       "      <td>0</td>\n",
       "      <td>SOB_B_TA-14-21978AB</td>\n",
       "    </tr>\n",
       "    <tr>\n",
       "      <th>breakhis_400x/benign/SOB_B_PT-14-21998AB-400-030.png</th>\n",
       "      <td>0</td>\n",
       "      <td>SOB_B_PT-14-21998AB</td>\n",
       "    </tr>\n",
       "    <tr>\n",
       "      <th>breakhis_400x/benign/SOB_B_PT-14-29315EF-400-001.png</th>\n",
       "      <td>0</td>\n",
       "      <td>SOB_B_PT-14-29315EF</td>\n",
       "    </tr>\n",
       "    <tr>\n",
       "      <th>breakhis_400x/benign/SOB_B_TA-14-13200-400-005.png</th>\n",
       "      <td>0</td>\n",
       "      <td>SOB_B_TA-14-13200</td>\n",
       "    </tr>\n",
       "  </tbody>\n",
       "</table>\n",
       "</div>"
      ],
      "text/plain": [
       "                                                    label           patient_id\n",
       "file_loc                                                                      \n",
       "breakhis_400x/benign/SOB_B_TA-14-13200-400-014.png      0    SOB_B_TA-14-13200\n",
       "breakhis_400x/benign/SOB_B_TA-14-21978AB-400-01...      0  SOB_B_TA-14-21978AB\n",
       "breakhis_400x/benign/SOB_B_PT-14-21998AB-400-03...      0  SOB_B_PT-14-21998AB\n",
       "breakhis_400x/benign/SOB_B_PT-14-29315EF-400-00...      0  SOB_B_PT-14-29315EF\n",
       "breakhis_400x/benign/SOB_B_TA-14-13200-400-005.png      0    SOB_B_TA-14-13200"
      ]
     },
     "execution_count": 19,
     "metadata": {},
     "output_type": "execute_result"
    }
   ],
   "source": [
    "# Creating a new data frame with the file loc as its index, label and class of the patients as its columns.\n",
    "benign_files = os.listdir(output_path / 'benign')\n",
    "benign_files = [f\"breakhis_{zoom}x/benign/\" +\n",
    "                file_name for file_name in benign_files]\n",
    "malignant_files = os.listdir(output_path / 'malignant')\n",
    "malignant_files = [f\"breakhis_{zoom}x/malignant/\" +\n",
    "                   file_name for file_name in malignant_files]\n",
    "\n",
    "df = pd.DataFrame(benign_files + malignant_files)\n",
    "df = df.rename(columns={0: 'file_loc'})\n",
    "df.head()\n",
    "df['label'] = df['file_loc'].apply(\n",
    "    lambda x: 0 if x.split('/')[-1].split(\"_\")[1] == 'B' else 1)\n",
    "\n",
    "df['patient_id'] = df['file_loc'].apply(\n",
    "    lambda x: \"-\".join(x.split(\"-\")[:3]).split(\"/\")[-1])\n",
    "df.set_index(\"file_loc\", inplace=True)\n",
    "\n",
    "df.head(5)\n"
   ]
  },
  {
   "cell_type": "code",
   "execution_count": 20,
   "id": "bb5e8d88",
   "metadata": {},
   "outputs": [],
   "source": [
    "import numpy as np\n",
    "from collections import Counter\n",
    "from sklearn.utils import shuffle\n",
    "\n",
    "\n",
    "def map_nested_indices(nested_indices, original_indices):\n",
    "    return original_indices[nested_indices]\n",
    "\n",
    "\n",
    "class StratifiedGroupKFold:\n",
    "    def __init__(self, n_splits=3, random_state=None):\n",
    "        self.n_splits = n_splits\n",
    "        self.random_state = random_state\n",
    "        self.used_group_ids = []\n",
    "\n",
    "    def _fill_bucket(self, bucket, class_counts, group_ids, y):\n",
    "        for group_id, label in zip(group_ids, y):\n",
    "            if group_id in self.used_group_ids:\n",
    "                continue\n",
    "            if class_counts[label] > 0:\n",
    "                group_indices = np.where(group_ids == group_id)[0]\n",
    "                bucket[label].extend(group_indices)\n",
    "                class_counts[label] -= len(group_indices)\n",
    "                self.used_group_ids.append(group_id)\n",
    "\n",
    "    def _create_buckets(self, group_ids, y, class_ratios):\n",
    "        total_samples = len(group_ids)\n",
    "        samples_per_split = total_samples // self.n_splits\n",
    "\n",
    "        buckets = []\n",
    "        for _ in range(self.n_splits):\n",
    "            bucket = {label: [] for label in class_ratios.keys()}\n",
    "            class_counts = {label: int(samples_per_split * ratio)\n",
    "                            for label, ratio in class_ratios.items()}\n",
    "            self._fill_bucket(bucket, class_counts, group_ids, y)\n",
    "            buckets.append(bucket)\n",
    "\n",
    "        return buckets\n",
    "\n",
    "    def _rotate_buckets(self, buckets):\n",
    "        return buckets[-1:] + buckets[:-1]\n",
    "\n",
    "    def _get_indices(self, bucket, group_ids, y):\n",
    "        indices = []\n",
    "        for label, groups in bucket.items():\n",
    "            for group in groups:\n",
    "                group_indices = np.where(group_ids == group)[0]\n",
    "                label_indices = np.where(y == label)[0]\n",
    "                indices.extend(np.intersect1d(group_indices, label_indices))\n",
    "        return np.array(indices)\n",
    "\n",
    "    def split(self, X, y, group_ids):\n",
    "        index_map = np.arange(len(y))\n",
    "        group_ids_s, y_s, index_map = shuffle(\n",
    "            group_ids, y, index_map, random_state=self.random_state)\n",
    "\n",
    "        class_ratios = {label: count / len(y)\n",
    "                        for label, count in Counter(y).items()}\n",
    "        buckets = self._create_buckets(group_ids_s, y_s, class_ratios)\n",
    "\n",
    "        for _ in range(self.n_splits):\n",
    "            train_buckets = buckets[1:]\n",
    "            test_bucket = buckets[0]\n",
    "\n",
    "            train_indices = np.concatenate(\n",
    "                [np.array(bucket[label]) for bucket in train_buckets for label in bucket])\n",
    "            test_indices = np.concatenate(\n",
    "                [np.array(test_bucket[label]) for label in test_bucket])\n",
    "\n",
    "            # Map shuffled indices to original ones\n",
    "            train_indices = index_map[train_indices]\n",
    "            test_indices = index_map[test_indices]\n",
    "\n",
    "            assert len(np.intersect1d(\n",
    "                np.unique(group_ids[train_indices]), np.unique(group_ids[test_indices]))) == 0\n",
    "\n",
    "            yield train_indices, test_indices\n",
    "            buckets = self._rotate_buckets(buckets)\n"
   ]
  },
  {
   "cell_type": "code",
   "execution_count": 21,
   "id": "e28876eb",
   "metadata": {},
   "outputs": [],
   "source": [
    "files = df['label']\n",
    "labels = df['label']\n",
    "patient_ids = df['patient_id']\n",
    "\n",
    "sgfk = StratifiedGroupKFold(n_splits=5, random_state=42)\n",
    "train_val_index, test_index = next(\n",
    "    sgfk.split(files, labels, patient_ids))\n",
    "\n",
    "\n",
    "def filter_train_val_indices(idx, indices):\n",
    "    return idx in indices\n",
    "\n",
    "\n",
    "train_val_files = df['label'].iloc[train_val_index]\n",
    "train_val_labels = df['label'].iloc[train_val_index]\n",
    "train_val_patient_ids = df['patient_id'].iloc[train_val_index]\n"
   ]
  },
  {
   "cell_type": "code",
   "execution_count": 22,
   "id": "6429735a",
   "metadata": {},
   "outputs": [],
   "source": [
    "n_splits = 5\n",
    "sgfk = StratifiedGroupKFold(n_splits=5, random_state=42)\n",
    "\n",
    "folds = sgfk.split(train_val_files, train_val_labels, train_val_patient_ids)\n"
   ]
  },
  {
   "cell_type": "code",
   "execution_count": 23,
   "id": "466c583f",
   "metadata": {},
   "outputs": [],
   "source": [
    "df.iloc[test_index].to_csv(os.path.join(output_path, \"test.csv\"))\n"
   ]
  },
  {
   "cell_type": "code",
   "execution_count": 24,
   "id": "cb71ca36",
   "metadata": {},
   "outputs": [
    {
     "name": "stdout",
     "output_type": "stream",
     "text": [
      "All - percent of B vs M samples: 0.32 - 0.68\n",
      "Test - percent of B vs M samples: 0.37 - 0.63\n",
      "=============================================\n",
      "Saving fold 0\n",
      "Train - percent of B vs M samples: 0.31 - 0.69\n",
      "Val - percent of B vs M samples: 0.31 - 0.69\n",
      "Patient IDs shared between train & val (should be empty): []\n",
      "=============================================\n",
      "Saving fold 1\n",
      "Train - percent of B vs M samples: 0.32 - 0.68\n",
      "Val - percent of B vs M samples: 0.22 - 0.78\n",
      "Patient IDs shared between train & val (should be empty): []\n",
      "=============================================\n",
      "Saving fold 2\n",
      "Train - percent of B vs M samples: 0.30 - 0.70\n",
      "Val - percent of B vs M samples: 0.34 - 0.66\n",
      "Patient IDs shared between train & val (should be empty): []\n",
      "=============================================\n",
      "Saving fold 3\n",
      "Train - percent of B vs M samples: 0.30 - 0.70\n",
      "Val - percent of B vs M samples: 0.34 - 0.66\n",
      "Patient IDs shared between train & val (should be empty): []\n",
      "=============================================\n",
      "Saving fold 4\n",
      "Train - percent of B vs M samples: 0.31 - 0.69\n",
      "Val - percent of B vs M samples: 0.31 - 0.69\n",
      "Patient IDs shared between train & val (should be empty): []\n"
     ]
    }
   ],
   "source": [
    "def intersection(lst1, lst2):\n",
    "    return list(set(lst1) & set(lst2))\n",
    "\n",
    "\n",
    "mp = len(df[df.label == 1]) / len(df)\n",
    "bp = len(df[df.label == 0]) / len(df)\n",
    "print(f\"All - percent of B vs M samples: {bp:.2f} - {mp:.2f}\")\n",
    "\n",
    "mp = len(df.iloc[test_index][df.iloc[test_index].label == 1]\n",
    "         ) / len(df.iloc[test_index])\n",
    "bp = len(df.iloc[test_index][df.iloc[test_index].label == 0]\n",
    "         ) / len(df.iloc[test_index])\n",
    "print(f\"Test - percent of B vs M samples: {bp:.2f} - {mp:.2f}\")\n",
    "\n",
    "for idx, (train_index, val_index) in enumerate(folds):\n",
    "    print(\"=============================================\")\n",
    "    print(f\"Saving fold {idx}\")\n",
    "    # train_index = shuffle(map_nested_indices(\n",
    "    #     train_index, train_val_index), random_state=42)\n",
    "    # val_index = shuffle(map_nested_indices(\n",
    "    #     val_index, train_val_index), random_state=42)\n",
    "    train_index = map_nested_indices(train_index, train_val_index)\n",
    "    val_index = map_nested_indices(val_index, train_val_index)\n",
    "\n",
    "    train_val_patient_ids = df.iloc[train_index].patient_id.unique()\n",
    "    test_patient_ids = df.iloc[val_index].patient_id.unique()\n",
    "\n",
    "    mp = len(df.iloc[train_index][df.iloc[train_index].label == 1]\n",
    "             ) / len(df.iloc[train_index])\n",
    "    bp = len(df.iloc[train_index][df.iloc[train_index].label == 0]\n",
    "             ) / len(df.iloc[train_index])\n",
    "    print(f\"Train - percent of B vs M samples: {bp:.2f} - {mp:.2f}\")\n",
    "\n",
    "    mp = len(df.iloc[val_index][df.iloc[val_index].label == 1]\n",
    "             ) / len(df.iloc[val_index])\n",
    "    bp = len(df.iloc[val_index][df.iloc[val_index].label == 0]\n",
    "             ) / len(df.iloc[val_index])\n",
    "    print(f\"Val - percent of B vs M samples: {bp:.2f} - {mp:.2f}\")\n",
    "\n",
    "    # print(f\"Train patient IDs: {len(train_val_patient_ids)}\")\n",
    "    # print(f\"Val patient IDs: {len(test_patient_ids)}\")\n",
    "    print(\n",
    "        f\"Patient IDs shared between train & val (should be empty): {intersection(train_val_patient_ids, test_patient_ids)}\")\n",
    "    df.iloc[train_index].to_csv(os.path.join(\n",
    "        output_path, f\"train_{idx}.csv\"))\n",
    "    df.iloc[val_index].to_csv(os.path.join(\n",
    "        output_path, f\"val_{idx}.csv\"))\n"
   ]
  },
  {
   "cell_type": "code",
   "execution_count": 25,
   "id": "39314823",
   "metadata": {},
   "outputs": [],
   "source": [
    "# from sklearn.model_selection import GroupShuffleSplit\n",
    "\n",
    "# splitter = GroupShuffleSplit(test_size=.15, n_splits=2, random_state=42)\n",
    "# split = splitter.split(df, groups=df['patient_id'])\n",
    "# train_inds, test_inds = next(split)\n",
    "\n",
    "# df_train_val = df.iloc[train_inds]\n",
    "# df_test = df.iloc[test_inds]\n",
    "\n",
    "# # df_train_val.to_csv(os.path.join(output_path, \"train_val.csv\"))\n",
    "# # df_test.to_csv(os.path.join(output_path, \"test.csv\"))\n",
    "\n",
    "# print(len(df_train_val))\n",
    "# print(len(df_test))\n"
   ]
  },
  {
   "cell_type": "code",
   "execution_count": 26,
   "id": "8b59cb0d",
   "metadata": {},
   "outputs": [],
   "source": [
    "# def intersection(lst1, lst2):\n",
    "#     return list(set(lst1) & set(lst2))\n",
    "\n",
    "\n",
    "# all_patient_ids = df.patient_id.unique()\n",
    "# train_val_patient_ids = df_train_val.patient_id.unique()\n",
    "# test_patient_ids = df_test.patient_id.unique()\n",
    "\n",
    "# print(f\"All patient IDs: {len(all_patient_ids)}\")\n",
    "# print(f\"Train patient IDs: {len(train_val_patient_ids)}\")\n",
    "# print(f\"Test patient IDs: {len(test_patient_ids)}\")\n",
    "# print(\n",
    "#     f\"Train + Test patient IDs: {len(test_patient_ids) + len(train_val_patient_ids)}\")\n",
    "# print(\n",
    "#     f\"Patient IDs shared between train_val & test splits (should be empty): {intersection(train_val_patient_ids, test_patient_ids)}\")\n"
   ]
  },
  {
   "cell_type": "code",
   "execution_count": 27,
   "id": "0730c7b1",
   "metadata": {
    "execution": {
     "iopub.execute_input": "2022-08-06T22:31:10.526080Z",
     "iopub.status.busy": "2022-08-06T22:31:10.525735Z",
     "iopub.status.idle": "2022-08-06T22:31:10.887352Z",
     "shell.execute_reply": "2022-08-06T22:31:10.886333Z"
    },
    "papermill": {
     "duration": 0.422894,
     "end_time": "2022-08-06T22:31:10.889451",
     "exception": false,
     "start_time": "2022-08-06T22:31:10.466557",
     "status": "completed"
    },
    "tags": []
   },
   "outputs": [],
   "source": [
    "# sns.set_style(\"darkgrid\")\n",
    "# plt.figure(figsize=(20, 6))\n",
    "# plt.subplot(1, 3, 1)\n",
    "# sns.countplot(x=df['label'])\n",
    "# plt.title(\"Full dataset\")\n",
    "# plt.subplot(1, 3, 2)\n",
    "# sns.countplot(x=df_train_val['label'])\n",
    "# plt.title(\"Train + Val set\")\n",
    "# plt.subplot(1, 3, 3)\n",
    "# sns.countplot(x=df_test['label'])\n",
    "# plt.title(\"Test set\")\n"
   ]
  }
 ],
 "metadata": {
  "kernelspec": {
   "display_name": "tf-gpu",
   "language": "python",
   "name": "python3"
  },
  "language_info": {
   "codemirror_mode": {
    "name": "ipython",
    "version": 3
   },
   "file_extension": ".py",
   "mimetype": "text/x-python",
   "name": "python",
   "nbconvert_exporter": "python",
   "pygments_lexer": "ipython3",
   "version": "3.10.9"
  },
  "papermill": {
   "default_parameters": {},
   "duration": 3162.190167,
   "end_time": "2022-08-06T23:18:19.928862",
   "environment_variables": {},
   "exception": null,
   "input_path": "__notebook__.ipynb",
   "output_path": "__notebook__.ipynb",
   "parameters": {},
   "start_time": "2022-08-06T22:25:37.738695",
   "version": "2.3.4"
  },
  "vscode": {
   "interpreter": {
    "hash": "57cd4c39ed4dc9ca01eca98180f2061953ac6955d3d04f28a09153414c727fd3"
   }
  }
 },
 "nbformat": 4,
 "nbformat_minor": 5
}
