{
 "cells": [
  {
   "attachments": {},
   "cell_type": "markdown",
   "id": "d6ae1d62",
   "metadata": {
    "papermill": {
     "duration": 0.013196,
     "end_time": "2022-08-06T22:25:45.372402",
     "exception": false,
     "start_time": "2022-08-06T22:25:45.359206",
     "status": "completed"
    },
    "tags": []
   },
   "source": [
    "# Breast Cancer Detection based on Histopathology Images"
   ]
  },
  {
   "attachments": {},
   "cell_type": "markdown",
   "id": "2a64676e",
   "metadata": {
    "papermill": {
     "duration": 0.011338,
     "end_time": "2022-08-06T22:25:45.395459",
     "exception": false,
     "start_time": "2022-08-06T22:25:45.384121",
     "status": "completed"
    },
    "tags": []
   },
   "source": [
    "## About the Data:"
   ]
  },
  {
   "attachments": {},
   "cell_type": "markdown",
   "id": "683b909c",
   "metadata": {
    "papermill": {
     "duration": 0.011207,
     "end_time": "2022-08-06T22:25:45.419463",
     "exception": false,
     "start_time": "2022-08-06T22:25:45.408256",
     "status": "completed"
    },
    "tags": []
   },
   "source": [
    "- **Data Source:** https://www.kaggle.com/code/nasrulhakim86/breast-cancer-histopathology-images-classification/data\n",
    "- The Breast Cancer Histopathological Image Classification (BreakHis) is composed of 9,109 microscopic images of breast tumor tissue collected from 82 patients.\n",
    "- The images are collected using different magnifying factors (40X, 100X, 200X, and 400X). \n",
    "- To date, it contains 2,480 benign and 5,429 malignant samples (700X460 pixels, 3-channel RGB, 8-bit depth in each channel, PNG format).\n",
    "- This database has been built in collaboration with the P&D Laboratory – Pathological Anatomy and Cytopathology, Parana, Brazil (http://www.prevencaoediagnose.com.br). \n",
    "- Each image filename stores information about the image itself: method of procedure biopsy, tumor class, tumor type, patient identification, and magnification factor. \n",
    "- For example, SOBBTA-14-4659-40-001.png is the image 1, at magnification factor 40X, of a benign tumor of type tubular adenoma, original from the slide 14-4659, which was collected by procedure SOB."
   ]
  },
  {
   "cell_type": "code",
   "execution_count": null,
   "id": "d6385c4b",
   "metadata": {
    "execution": {
     "iopub.execute_input": "2022-08-06T22:25:45.444681Z",
     "iopub.status.busy": "2022-08-06T22:25:45.444196Z",
     "iopub.status.idle": "2022-08-06T22:25:46.763951Z",
     "shell.execute_reply": "2022-08-06T22:25:46.762993Z"
    },
    "papermill": {
     "duration": 1.33507,
     "end_time": "2022-08-06T22:25:46.766487",
     "exception": false,
     "start_time": "2022-08-06T22:25:45.431417",
     "status": "completed"
    },
    "tags": []
   },
   "outputs": [],
   "source": [
    "import cv2\n",
    "import matplotlib.pyplot as plt\n",
    "import os\n",
    "import pandas as pd\n",
    "from pathlib import Path\n",
    "import seaborn as sns\n",
    "import shutil\n"
   ]
  },
  {
   "attachments": {},
   "cell_type": "markdown",
   "id": "90a29ef3",
   "metadata": {},
   "source": [
    "### Prepare directories"
   ]
  },
  {
   "cell_type": "code",
   "execution_count": null,
   "id": "8686061c",
   "metadata": {},
   "outputs": [],
   "source": [
    "zoom = 400\n",
    "\n",
    "cwd = Path().absolute()\n",
    "input_path = cwd / 'breakhis'\n",
    "output_path = cwd / f'breakhis_{zoom}x'\n",
    "\n",
    "print(f\"Current working directory: {cwd}\")\n",
    "print(f\"Input path: {input_path}\")\n",
    "print(f\"Output path: {output_path}\")\n"
   ]
  },
  {
   "cell_type": "code",
   "execution_count": null,
   "id": "c65e677d",
   "metadata": {},
   "outputs": [],
   "source": [
    "shutil.rmtree(output_path, ignore_errors=True)\n"
   ]
  },
  {
   "cell_type": "code",
   "execution_count": null,
   "id": "a668139f",
   "metadata": {},
   "outputs": [],
   "source": [
    "os.makedirs(output_path)\n",
    "os.makedirs(output_path / 'benign')\n",
    "os.makedirs(output_path / 'malignant')\n"
   ]
  },
  {
   "attachments": {},
   "cell_type": "markdown",
   "id": "a9038f9b",
   "metadata": {},
   "source": [
    "### Load data"
   ]
  },
  {
   "cell_type": "code",
   "execution_count": null,
   "id": "2534a5a3",
   "metadata": {
    "execution": {
     "iopub.execute_input": "2022-08-06T22:25:51.911891Z",
     "iopub.status.busy": "2022-08-06T22:25:51.911616Z",
     "iopub.status.idle": "2022-08-06T22:25:52.010172Z",
     "shell.execute_reply": "2022-08-06T22:25:52.009231Z"
    },
    "papermill": {
     "duration": 0.113244,
     "end_time": "2022-08-06T22:25:52.012404",
     "exception": false,
     "start_time": "2022-08-06T22:25:51.899160",
     "status": "completed"
    },
    "tags": []
   },
   "outputs": [],
   "source": [
    "input_data_df = pd.read_csv(input_path / 'Folds.csv')\n"
   ]
  },
  {
   "cell_type": "code",
   "execution_count": null,
   "id": "9090ecbe",
   "metadata": {
    "execution": {
     "iopub.execute_input": "2022-08-06T22:25:52.091578Z",
     "iopub.status.busy": "2022-08-06T22:25:52.091280Z",
     "iopub.status.idle": "2022-08-06T22:25:52.109658Z",
     "shell.execute_reply": "2022-08-06T22:25:52.108701Z"
    },
    "papermill": {
     "duration": 0.032818,
     "end_time": "2022-08-06T22:25:52.111611",
     "exception": false,
     "start_time": "2022-08-06T22:25:52.078793",
     "status": "completed"
    },
    "tags": []
   },
   "outputs": [],
   "source": [
    "input_data_df = input_data_df.rename(columns={\"filename\": \"path\"})\n",
    "input_data_df.head(3)\n",
    "len(input_data_df)\n"
   ]
  },
  {
   "cell_type": "code",
   "execution_count": null,
   "id": "3d2e14ef",
   "metadata": {
    "execution": {
     "iopub.execute_input": "2022-08-06T22:25:52.137484Z",
     "iopub.status.busy": "2022-08-06T22:25:52.136730Z",
     "iopub.status.idle": "2022-08-06T22:25:52.144300Z",
     "shell.execute_reply": "2022-08-06T22:25:52.143374Z"
    },
    "papermill": {
     "duration": 0.022682,
     "end_time": "2022-08-06T22:25:52.146259",
     "exception": false,
     "start_time": "2022-08-06T22:25:52.123577",
     "status": "completed"
    },
    "tags": []
   },
   "outputs": [],
   "source": [
    "input_data_df['path'][1]\n"
   ]
  },
  {
   "cell_type": "code",
   "execution_count": null,
   "id": "b4b454ca",
   "metadata": {
    "execution": {
     "iopub.execute_input": "2022-08-06T22:25:52.196101Z",
     "iopub.status.busy": "2022-08-06T22:25:52.195230Z",
     "iopub.status.idle": "2022-08-06T22:25:52.244030Z",
     "shell.execute_reply": "2022-08-06T22:25:52.243099Z"
    },
    "papermill": {
     "duration": 0.063497,
     "end_time": "2022-08-06T22:25:52.246068",
     "exception": false,
     "start_time": "2022-08-06T22:25:52.182571",
     "status": "completed"
    },
    "tags": []
   },
   "outputs": [],
   "source": [
    "input_data_df['filename'] = input_data_df['path'].apply(\n",
    "    lambda x: x.split(\"/\")[-1])\n",
    "input_data_df[\"label\"] = input_data_df['path'].apply(lambda x: x.split(\"/\")[3])\n",
    "input_data_df[\"patient_id\"] = input_data_df['path'].apply(\n",
    "    lambda x: x.split(\"/\")[-3])\n"
   ]
  },
  {
   "cell_type": "code",
   "execution_count": null,
   "id": "dcf667c3",
   "metadata": {},
   "outputs": [],
   "source": [
    "input_data_df = input_data_df[input_data_df.mag == zoom]\n"
   ]
  },
  {
   "cell_type": "code",
   "execution_count": null,
   "id": "0982f779",
   "metadata": {
    "execution": {
     "iopub.execute_input": "2022-08-06T22:25:52.272207Z",
     "iopub.status.busy": "2022-08-06T22:25:52.271536Z",
     "iopub.status.idle": "2022-08-06T22:25:52.282758Z",
     "shell.execute_reply": "2022-08-06T22:25:52.281792Z"
    },
    "papermill": {
     "duration": 0.026359,
     "end_time": "2022-08-06T22:25:52.284718",
     "exception": false,
     "start_time": "2022-08-06T22:25:52.258359",
     "status": "completed"
    },
    "tags": []
   },
   "outputs": [],
   "source": [
    "input_data_df.head(3)\n",
    "len(input_data_df)\n"
   ]
  },
  {
   "cell_type": "code",
   "execution_count": null,
   "id": "a7c79154",
   "metadata": {},
   "outputs": [],
   "source": [
    "input_data_df.head()"
   ]
  },
  {
   "attachments": {},
   "cell_type": "markdown",
   "id": "1b85eb4e",
   "metadata": {
    "papermill": {
     "duration": 0.011964,
     "end_time": "2022-08-06T22:25:52.308803",
     "exception": false,
     "start_time": "2022-08-06T22:25:52.296839",
     "status": "completed"
    },
    "tags": []
   },
   "source": [
    "### Copy data to new directory\n",
    "\n",
    "- The given data consists of very complex structure of folders where it stores the images.\n",
    "- The structure as follows:\n",
    "    - BreaKHis_v1\n",
    "        - histology_slides\n",
    "            - breast\n",
    "                - **benign**\n",
    "                    - **SOB**\n",
    "                        - Type\n",
    "                            - **patient_id**  \n",
    "                                - 40x\n",
    "                                - 100x\n",
    "                                - 200x\n",
    "                                - 400x\n",
    "                - **malignant**\n",
    "                    - **SOB**\n",
    "                        - Type\n",
    "                            - **patient_id**   \n",
    "                                - 40x\n",
    "                                - 100x\n",
    "                                - 200x\n",
    "                                - 400x\n",
    "- To make things simple, using the exact path of the images, all the images are moved to the common folder called **Cancer.**\n",
    "- Images are renamed with their class and patient_id.\n",
    "                "
   ]
  },
  {
   "cell_type": "code",
   "execution_count": null,
   "id": "eae7f995",
   "metadata": {},
   "outputs": [],
   "source": [
    "for i in range(len(input_data_df)):\n",
    "    src = input_path / 'BreaKHis_v1' / input_data_df['path'].iloc[i]\n",
    "    # dest = output_path / input_data_df[\"label\"].iloc[i]\n",
    "    # divide_image_into_patches(src, dest)\n",
    "    dest = output_path / \\\n",
    "        input_data_df[\"label\"].iloc[i] / str(src).split(\"/\")[-1]\n",
    "    shutil.copyfile(src, dest)"
   ]
  },
  {
   "cell_type": "code",
   "execution_count": null,
   "id": "155ab25e",
   "metadata": {
    "execution": {
     "iopub.execute_input": "2022-08-06T22:30:57.238355Z",
     "iopub.status.busy": "2022-08-06T22:30:57.237712Z",
     "iopub.status.idle": "2022-08-06T22:30:57.253861Z",
     "shell.execute_reply": "2022-08-06T22:30:57.252253Z"
    },
    "papermill": {
     "duration": 0.033094,
     "end_time": "2022-08-06T22:30:57.256068",
     "exception": false,
     "start_time": "2022-08-06T22:30:57.222974",
     "status": "completed"
    },
    "tags": []
   },
   "outputs": [],
   "source": [
    "print(f\"Benign: {len(os.listdir(output_path / 'benign'))}\")\n",
    "print(f\"Malignant: {len(os.listdir(output_path / 'malignant'))}\")\n"
   ]
  },
  {
   "attachments": {},
   "cell_type": "markdown",
   "id": "39c7a58f",
   "metadata": {
    "papermill": {
     "duration": 0.01276,
     "end_time": "2022-08-06T22:30:57.282868",
     "exception": false,
     "start_time": "2022-08-06T22:30:57.270108",
     "status": "completed"
    },
    "tags": []
   },
   "source": [
    "- All the images are now stores in single folder."
   ]
  },
  {
   "cell_type": "code",
   "execution_count": null,
   "id": "d4320e46",
   "metadata": {
    "execution": {
     "iopub.execute_input": "2022-08-06T22:30:57.309786Z",
     "iopub.status.busy": "2022-08-06T22:30:57.308947Z",
     "iopub.status.idle": "2022-08-06T22:30:57.384289Z",
     "shell.execute_reply": "2022-08-06T22:30:57.383045Z"
    },
    "papermill": {
     "duration": 0.09127,
     "end_time": "2022-08-06T22:30:57.386434",
     "exception": false,
     "start_time": "2022-08-06T22:30:57.295164",
     "status": "completed"
    },
    "tags": []
   },
   "outputs": [],
   "source": [
    "input_data_df['file_loc'] = input_data_df['label'] + \\\n",
    "    \"_\" + input_data_df['filename']\n",
    "input_data_df['class'] = input_data_df['label'].apply(\n",
    "    lambda x: 0 if x == 'benign' else 1)\n"
   ]
  },
  {
   "cell_type": "code",
   "execution_count": null,
   "id": "c33edf07",
   "metadata": {
    "execution": {
     "iopub.execute_input": "2022-08-06T22:30:57.414764Z",
     "iopub.status.busy": "2022-08-06T22:30:57.413049Z",
     "iopub.status.idle": "2022-08-06T22:30:57.430367Z",
     "shell.execute_reply": "2022-08-06T22:30:57.429461Z"
    },
    "papermill": {
     "duration": 0.033036,
     "end_time": "2022-08-06T22:30:57.432290",
     "exception": false,
     "start_time": "2022-08-06T22:30:57.399254",
     "status": "completed"
    },
    "tags": []
   },
   "outputs": [],
   "source": [
    "input_data_df.head(3)"
   ]
  },
  {
   "cell_type": "code",
   "execution_count": null,
   "id": "d3ec0220",
   "metadata": {
    "execution": {
     "iopub.execute_input": "2022-08-06T22:30:57.460391Z",
     "iopub.status.busy": "2022-08-06T22:30:57.458560Z",
     "iopub.status.idle": "2022-08-06T22:30:57.764872Z",
     "shell.execute_reply": "2022-08-06T22:30:57.763911Z"
    },
    "papermill": {
     "duration": 0.321822,
     "end_time": "2022-08-06T22:30:57.766917",
     "exception": false,
     "start_time": "2022-08-06T22:30:57.445095",
     "status": "completed"
    },
    "tags": []
   },
   "outputs": [],
   "source": [
    "plt.figure(figsize=(10, 6))\n",
    "sns.set(font_scale=1.5)\n",
    "sns.set_style(\"darkgrid\")\n",
    "sns.countplot(x=input_data_df[input_data_df.mag == zoom]['label'])\n",
    "plt.xlabel(\"Label\")\n",
    "plt.ylabel(\"Count\")\n",
    "plt.title(f\"Count of 'benign' i 'malignant' samples (zoom {zoom}x)\")\n"
   ]
  },
  {
   "attachments": {},
   "cell_type": "markdown",
   "id": "c80b4127",
   "metadata": {
    "papermill": {
     "duration": 0.013493,
     "end_time": "2022-08-06T22:30:57.793974",
     "exception": false,
     "start_time": "2022-08-06T22:30:57.780481",
     "status": "completed"
    },
    "tags": []
   },
   "source": [
    "- Data is Highly Imabalanced as this is the case with the real world.\n",
    "- Medical datas are usually imbalanced because of their nature."
   ]
  },
  {
   "cell_type": "code",
   "execution_count": null,
   "id": "3ca1c934",
   "metadata": {
    "execution": {
     "iopub.execute_input": "2022-08-06T22:30:57.822933Z",
     "iopub.status.busy": "2022-08-06T22:30:57.822601Z",
     "iopub.status.idle": "2022-08-06T22:30:57.847136Z",
     "shell.execute_reply": "2022-08-06T22:30:57.846041Z"
    },
    "papermill": {
     "duration": 0.04129,
     "end_time": "2022-08-06T22:30:57.849793",
     "exception": false,
     "start_time": "2022-08-06T22:30:57.808503",
     "status": "completed"
    },
    "tags": []
   },
   "outputs": [],
   "source": [
    "benign_df = input_data_df[input_data_df['label'] == 'benign']\n",
    "malignant_df = input_data_df[input_data_df['label'] == 'malignant']\n"
   ]
  },
  {
   "attachments": {},
   "cell_type": "markdown",
   "id": "6adf510f",
   "metadata": {
    "papermill": {
     "duration": 0.012862,
     "end_time": "2022-08-06T22:30:57.875995",
     "exception": false,
     "start_time": "2022-08-06T22:30:57.863133",
     "status": "completed"
    },
    "tags": []
   },
   "source": [
    "### Benign Samples"
   ]
  },
  {
   "cell_type": "code",
   "execution_count": null,
   "id": "8755af60",
   "metadata": {
    "execution": {
     "iopub.execute_input": "2022-08-06T22:30:57.903800Z",
     "iopub.status.busy": "2022-08-06T22:30:57.903265Z",
     "iopub.status.idle": "2022-08-06T22:31:03.754347Z",
     "shell.execute_reply": "2022-08-06T22:31:03.753170Z"
    },
    "papermill": {
     "duration": 5.885151,
     "end_time": "2022-08-06T22:31:03.774184",
     "exception": false,
     "start_time": "2022-08-06T22:30:57.889033",
     "status": "completed"
    },
    "tags": []
   },
   "outputs": [],
   "source": [
    "plt.figure(figsize=(30, 10))\n",
    "for i in range(0, 40):\n",
    "    plt.subplot(4, 10, i+1)\n",
    "    img = cv2.imread(os.path.join(\n",
    "        output_path, benign_df['label'].iloc[i], benign_df['filename'].iloc[i]), 1)\n",
    "    plt.imshow(img)\n"
   ]
  },
  {
   "attachments": {},
   "cell_type": "markdown",
   "id": "330c6ae3",
   "metadata": {
    "papermill": {
     "duration": 0.033857,
     "end_time": "2022-08-06T22:31:03.842146",
     "exception": false,
     "start_time": "2022-08-06T22:31:03.808289",
     "status": "completed"
    },
    "tags": []
   },
   "source": [
    "### Malignant Samples"
   ]
  },
  {
   "cell_type": "code",
   "execution_count": null,
   "id": "eff80bb6",
   "metadata": {
    "execution": {
     "iopub.execute_input": "2022-08-06T22:31:03.910971Z",
     "iopub.status.busy": "2022-08-06T22:31:03.910609Z",
     "iopub.status.idle": "2022-08-06T22:31:09.638094Z",
     "shell.execute_reply": "2022-08-06T22:31:09.637237Z"
    },
    "papermill": {
     "duration": 5.779011,
     "end_time": "2022-08-06T22:31:09.654777",
     "exception": false,
     "start_time": "2022-08-06T22:31:03.875766",
     "status": "completed"
    },
    "tags": []
   },
   "outputs": [],
   "source": [
    "plt.figure(figsize=(30, 10))\n",
    "for i in range(0, 40):\n",
    "    plt.subplot(4, 10, i+1)\n",
    "    img = cv2.imread(os.path.join(\n",
    "        output_path, malignant_df['label'].iloc[i], malignant_df['filename'].iloc[i]), 1)\n",
    "    plt.imshow(img)\n"
   ]
  },
  {
   "attachments": {},
   "cell_type": "markdown",
   "id": "c9ac9b3b",
   "metadata": {
    "papermill": {
     "duration": 0.059473,
     "end_time": "2022-08-06T22:31:09.773630",
     "exception": false,
     "start_time": "2022-08-06T22:31:09.714157",
     "status": "completed"
    },
    "tags": []
   },
   "source": [
    "**Findings:**\n",
    "\n",
    "- From the above images there is very little to no difference between malignant and benign samples.\n",
    "- This might be because we are not the pathologists, That's the original purpose of the detection system.\n",
    "- Thus it makes it easy in the absence of actual pathologists."
   ]
  },
  {
   "cell_type": "code",
   "execution_count": null,
   "id": "c0d28169",
   "metadata": {
    "execution": {
     "iopub.execute_input": "2022-08-06T22:31:09.887977Z",
     "iopub.status.busy": "2022-08-06T22:31:09.887449Z",
     "iopub.status.idle": "2022-08-06T22:31:09.910066Z",
     "shell.execute_reply": "2022-08-06T22:31:09.909182Z"
    },
    "papermill": {
     "duration": 0.082865,
     "end_time": "2022-08-06T22:31:09.912162",
     "exception": false,
     "start_time": "2022-08-06T22:31:09.829297",
     "status": "completed"
    },
    "tags": []
   },
   "outputs": [],
   "source": [
    "# Creating a new data frame with the file loc as its index, label and class of the patients as its columns.\n",
    "benign_files = os.listdir(output_path / 'benign')\n",
    "benign_files = [f\"breakhis_{zoom}x/benign/\" +\n",
    "                file_name for file_name in benign_files]\n",
    "malignant_files = os.listdir(output_path / 'malignant')\n",
    "malignant_files = [f\"breakhis_{zoom}x/malignant/\" +\n",
    "                   file_name for file_name in malignant_files]\n",
    "\n",
    "df = pd.DataFrame(benign_files + malignant_files)\n",
    "df = df.rename(columns={0: 'file_loc'})\n",
    "df.head()\n",
    "df['label'] = df['file_loc'].apply(\n",
    "    lambda x: 0 if x.split('/')[-1].split(\"_\")[1] == 'B' else 1)\n",
    "df['label_str'] = df['file_loc'].apply(\n",
    "    lambda x: \"benign\" if x.split('/')[-1].split(\"_\")[1] == 'B' else \"malignant\")\n",
    "\n",
    "df['patient_id'] = df['file_loc'].apply(\n",
    "    lambda x: \"-\".join(x.split(\"-\")[:3]).split(\"/\")[-1])\n",
    "df.set_index(\"file_loc\", inplace=True)\n",
    "\n",
    "df.head(5)"
   ]
  },
  {
   "attachments": {},
   "cell_type": "markdown",
   "id": "e2a05d8c",
   "metadata": {},
   "source": [
    "### Divide images into 224x224 patches"
   ]
  },
  {
   "cell_type": "code",
   "execution_count": null,
   "id": "3f0cb827",
   "metadata": {},
   "outputs": [],
   "source": [
    "import os\n",
    "from PIL import Image\n",
    "import pandas as pd\n",
    "\n",
    "def update_dataframe_with_patches(df, patch_size=224, stride=224):\n",
    "    \"\"\"\n",
    "    Update the dataframe to include patches instead of original images.\n",
    "\n",
    "    :param df: Original dataframe.\n",
    "    :param patch_size: Size of the patches. Default is 224.\n",
    "    :param stride: Number of pixels to move along the image after each patch. Default is 224.\n",
    "    :return: Updated dataframe.\n",
    "    \"\"\"\n",
    "\n",
    "    # Create a list to store the dataframes for the patches\n",
    "    patch_dfs = []\n",
    "\n",
    "    # Loop over each row in the dataframe\n",
    "    for idx, row in df.iterrows():\n",
    "\n",
    "        # Load the image to get its size\n",
    "        img = Image.open(idx)  # idx is the file_loc, which is the index of the dataframe\n",
    "\n",
    "        # Get the size of the image\n",
    "        width, height = img.size\n",
    "\n",
    "        # Calculate the number of patches in x and y direction\n",
    "        num_patches_x = width // stride\n",
    "        num_patches_y = height // stride\n",
    "\n",
    "\n",
    "        # Loop over the patches\n",
    "        for i in range(num_patches_x):\n",
    "            for j in range(num_patches_y):\n",
    "\n",
    "                # Calculate the coordinates of the patch\n",
    "                left = i * stride\n",
    "                upper = j * stride\n",
    "                right = left + patch_size\n",
    "                lower = upper + patch_size\n",
    "\n",
    "                # Extract the patch from the image\n",
    "                patch = img.crop((left, upper, right, lower))\n",
    "\n",
    "                # Update the filename and path\n",
    "                base_filename = os.path.splitext(idx)[0]\n",
    "                new_filename = f\"{base_filename}_{i}_{j}.png\"\n",
    "\n",
    "                # Save the patch\n",
    "                patch.save(new_filename)\n",
    "\n",
    "                # Create a new dataframe for the patch, copying all the information from the original image\n",
    "                new_df = pd.DataFrame([row.values], columns=row.index, index=[new_filename])\n",
    "\n",
    "                # Add the new dataframe to the list of patch dataframes\n",
    "                patch_dfs.append(new_df)\n",
    "        \n",
    "        os.remove(idx)\n",
    "\n",
    "    # Concatenate all the patch dataframes\n",
    "    patches_df = pd.concat(patch_dfs)\n",
    "\n",
    "    # Drop the original images from the dataframe\n",
    "    df = df.drop(idx)\n",
    "\n",
    "    # Concatenate the original dataframe with the patches dataframe\n",
    "    df = pd.concat([df, patches_df])\n",
    "\n",
    "    return patches_df\n",
    "\n",
    "# Optional step:\n",
    "#df = update_dataframe_with_patches(df)"
   ]
  },
  {
   "cell_type": "code",
   "execution_count": null,
   "id": "8ab30da3",
   "metadata": {},
   "outputs": [],
   "source": [
    "df.index.name = \"file_loc\"\n",
    "df.head()"
   ]
  },
  {
   "cell_type": "code",
   "execution_count": null,
   "id": "c88db007",
   "metadata": {},
   "outputs": [],
   "source": [
    "plt.figure(figsize=(10, 6))\n",
    "sns.set(font_scale=1.2)\n",
    "sns.set_style(\"darkgrid\")\n",
    "sns.countplot(x=df['label_str'])\n",
    "plt.xlabel(\"Class\")\n",
    "plt.ylabel(\"Count\")\n",
    "plt.title(f\"Count of 'benign' and 'malignant' samples (zoom {zoom}x)\")"
   ]
  },
  {
   "cell_type": "code",
   "execution_count": null,
   "id": "bb5e8d88",
   "metadata": {},
   "outputs": [],
   "source": [
    "import numpy as np\n",
    "from collections import Counter\n",
    "from sklearn.utils import shuffle\n",
    "\n",
    "\n",
    "def map_nested_indices(nested_indices, original_indices):\n",
    "    return original_indices[nested_indices]\n",
    "\n",
    "\n",
    "class StratifiedGroupKFold:\n",
    "    def __init__(self, n_splits=3, random_state=None):\n",
    "        self.n_splits = n_splits\n",
    "        self.random_state = random_state\n",
    "        self.used_group_ids = []\n",
    "\n",
    "    def _fill_bucket(self, bucket, class_counts, group_ids, y):\n",
    "        for group_id, label in zip(group_ids, y):\n",
    "            if group_id in self.used_group_ids:\n",
    "                continue\n",
    "            if class_counts[label] > 0:\n",
    "                group_indices = np.where(group_ids == group_id)[0]\n",
    "                bucket[label].extend(group_indices)\n",
    "                class_counts[label] -= len(group_indices)\n",
    "                self.used_group_ids.append(group_id)\n",
    "\n",
    "    def _create_buckets(self, group_ids, y, class_ratios):\n",
    "        total_samples = len(group_ids)\n",
    "        samples_per_split = total_samples // self.n_splits\n",
    "\n",
    "        buckets = []\n",
    "        for _ in range(self.n_splits):\n",
    "            bucket = {label: [] for label in class_ratios.keys()}\n",
    "            class_counts = {label: int(samples_per_split * ratio)\n",
    "                            for label, ratio in class_ratios.items()}\n",
    "            self._fill_bucket(bucket, class_counts, group_ids, y)\n",
    "            buckets.append(bucket)\n",
    "\n",
    "        return buckets\n",
    "\n",
    "    def _rotate_buckets(self, buckets):\n",
    "        return buckets[-1:] + buckets[:-1]\n",
    "\n",
    "    def _get_indices(self, bucket, group_ids, y):\n",
    "        indices = []\n",
    "        for label, groups in bucket.items():\n",
    "            for group in groups:\n",
    "                group_indices = np.where(group_ids == group)[0]\n",
    "                label_indices = np.where(y == label)[0]\n",
    "                indices.extend(np.intersect1d(group_indices, label_indices))\n",
    "        return np.array(indices)\n",
    "\n",
    "    def split(self, X, y, group_ids):\n",
    "        index_map = np.arange(len(y))\n",
    "        group_ids_s, y_s, index_map = shuffle(\n",
    "            group_ids, y, index_map, random_state=self.random_state)\n",
    "\n",
    "        class_ratios = {label: count / len(y)\n",
    "                        for label, count in Counter(y).items()}\n",
    "        buckets = self._create_buckets(group_ids_s, y_s, class_ratios)\n",
    "\n",
    "        for _ in range(self.n_splits):\n",
    "            train_buckets = buckets[1:]\n",
    "            test_bucket = buckets[0]\n",
    "\n",
    "            train_indices = np.concatenate(\n",
    "                [np.array(bucket[label]) for bucket in train_buckets for label in bucket])\n",
    "            test_indices = np.concatenate(\n",
    "                [np.array(test_bucket[label]) for label in test_bucket])\n",
    "\n",
    "            # Map shuffled indices to original ones\n",
    "            train_indices = index_map[train_indices]\n",
    "            test_indices = index_map[test_indices]\n",
    "\n",
    "            assert len(np.intersect1d(\n",
    "                np.unique(group_ids[train_indices]), np.unique(group_ids[test_indices]))) == 0\n",
    "\n",
    "            yield train_indices, test_indices\n",
    "            buckets = self._rotate_buckets(buckets)\n"
   ]
  },
  {
   "cell_type": "markdown",
   "metadata": {},
   "source": [
    "##### Split to train&val + test subdatasets (test 20%)"
   ]
  },
  {
   "cell_type": "code",
   "execution_count": null,
   "id": "e28876eb",
   "metadata": {},
   "outputs": [],
   "source": [
    "files = df['label']\n",
    "labels = df['label']\n",
    "patient_ids = df['patient_id']\n",
    "\n",
    "sgfk = StratifiedGroupKFold(n_splits=5, random_state=42)\n",
    "train_val_index, test_index = next(\n",
    "    sgfk.split(files, labels, patient_ids))\n",
    "\n",
    "\n",
    "train_val_files = df['label'].iloc[train_val_index]\n",
    "train_val_labels = df['label'].iloc[train_val_index]\n",
    "train_val_patient_ids = df['patient_id'].iloc[train_val_index]\n"
   ]
  },
  {
   "cell_type": "markdown",
   "metadata": {},
   "source": [
    "##### Now split remining train&val to separate train and val subdatasets (val 20%)"
   ]
  },
  {
   "cell_type": "code",
   "execution_count": null,
   "id": "6429735a",
   "metadata": {},
   "outputs": [],
   "source": [
    "n_splits = 5\n",
    "sgfk = StratifiedGroupKFold(n_splits=5, random_state=42)\n",
    "\n",
    "# folds = sgfk.split(files, labels, patient_ids)\n",
    "folds = sgfk.split(train_val_files, train_val_labels, train_val_patient_ids)\n"
   ]
  },
  {
   "cell_type": "code",
   "execution_count": null,
   "id": "50b8139b",
   "metadata": {},
   "outputs": [],
   "source": [
    "df.head()"
   ]
  },
  {
   "cell_type": "code",
   "execution_count": null,
   "id": "466c583f",
   "metadata": {},
   "outputs": [],
   "source": [
    "df.iloc[test_index].to_csv(os.path.join(output_path, \"test.csv\"))\n"
   ]
  },
  {
   "cell_type": "code",
   "execution_count": null,
   "id": "cb71ca36",
   "metadata": {},
   "outputs": [],
   "source": [
    "def intersection(lst1, lst2):\n",
    "    return list(set(lst1) & set(lst2))\n",
    "\n",
    "print(f\"Zoom: {zoom}x\")\n",
    "m_len = len(df[df.label == 1])\n",
    "b_len = len(df[df.label == 0])\n",
    "mp = len(df[df.label == 1]) / len(df)\n",
    "bp = len(df[df.label == 0]) / len(df)\n",
    "print(f\"All - percent of B vs M samples: {bp:.2f} - {mp:.2f} / count: {b_len} : {m_len}\")\n",
    "\n",
    "for idx, (train_index, val_index) in enumerate(folds):\n",
    "    print(\"=============================================\")\n",
    "    print(f\"Saving fold {idx}\")\n",
    "    # train_index = map_nested_indices(train_index, train_val_index)\n",
    "    # val_index = map_nested_indices(val_index, train_val_index)\n",
    "\n",
    "    train_val_patient_ids = df.iloc[train_index].patient_id.unique()\n",
    "    test_patient_ids = df.iloc[val_index].patient_id.unique()\n",
    "\n",
    "    m_len = len(df.iloc[train_index][df.iloc[train_index].label == 1])\n",
    "    b_len = len(df.iloc[train_index][df.iloc[train_index].label == 0])\n",
    "    mp = len(df.iloc[train_index][df.iloc[train_index].label == 1]\n",
    "             ) / len(df.iloc[train_index])\n",
    "    bp = len(df.iloc[train_index][df.iloc[train_index].label == 0]\n",
    "             ) / len(df.iloc[train_index])\n",
    "    print(f\"Train - percent of B vs M samples: {bp:.2f} - {mp:.2f} / count: {b_len} : {m_len}\")\n",
    "\n",
    "\n",
    "    m_len = len(df.iloc[val_index][df.iloc[val_index].label == 1])\n",
    "    b_len = len(df.iloc[val_index][df.iloc[val_index].label == 0])\n",
    "    mp = len(df.iloc[val_index][df.iloc[val_index].label == 1]\n",
    "             ) / len(df.iloc[val_index])\n",
    "    bp = len(df.iloc[val_index][df.iloc[val_index].label == 0]\n",
    "             ) / len(df.iloc[val_index])\n",
    "    print(f\"Val - percent of B vs M samples: {bp:.2f} - {mp:.2f} / count: {b_len} : {m_len}\")\n",
    "\n",
    "    df.iloc[train_index].to_csv(os.path.join(\n",
    "        output_path, f\"train_{idx}.csv\"))\n",
    "    df.iloc[val_index].to_csv(os.path.join(\n",
    "        output_path, f\"val_{idx}.csv\"))\n"
   ]
  }
 ],
 "metadata": {
  "kernelspec": {
   "display_name": "tf-gpu",
   "language": "python",
   "name": "python3"
  },
  "language_info": {
   "codemirror_mode": {
    "name": "ipython",
    "version": 3
   },
   "file_extension": ".py",
   "mimetype": "text/x-python",
   "name": "python",
   "nbconvert_exporter": "python",
   "pygments_lexer": "ipython3",
   "version": "3.11.5"
  },
  "papermill": {
   "default_parameters": {},
   "duration": 3162.190167,
   "end_time": "2022-08-06T23:18:19.928862",
   "environment_variables": {},
   "exception": null,
   "input_path": "__notebook__.ipynb",
   "output_path": "__notebook__.ipynb",
   "parameters": {},
   "start_time": "2022-08-06T22:25:37.738695",
   "version": "2.3.4"
  },
  "vscode": {
   "interpreter": {
    "hash": "57cd4c39ed4dc9ca01eca98180f2061953ac6955d3d04f28a09153414c727fd3"
   }
  }
 },
 "nbformat": 4,
 "nbformat_minor": 5
}
