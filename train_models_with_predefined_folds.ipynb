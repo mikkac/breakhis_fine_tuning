{
 "cells": [
  {
   "attachments": {},
   "cell_type": "markdown",
   "metadata": {},
   "source": [
    "# BreakHis Image Classification with 🤗 Vision Transformers and `TensorFlow`"
   ]
  },
  {
   "attachments": {},
   "cell_type": "markdown",
   "metadata": {},
   "source": [
    "### Quick intro: Vision Transformer (ViT) by Google Brain\n",
    "The Vision Transformer (ViT) is basically BERT, but applied to images. It attains excellent results compared to state-of-the-art convolutional networks. In order to provide images to the model, each image is split into a sequence of fixed-size patches (typically of resolution 16x16 or 32x32), which are linearly embedded. One also adds a [CLS] token at the beginning of the sequence in order to classify images. Next, one adds absolute position embeddings and provides this sequence to the Transformer encoder.\n",
    "\n",
    "* [Original paper](https://arxiv.org/abs/2010.11929)\n",
    "* [Official repo (in JAX)](https://github.com/google-research/vision_transformer)\n",
    "* [🤗 Vision Transformer](https://huggingface.co/docs/transformers/model_doc/vit)\n",
    "* [Pre-trained model](https://huggingface.co/google/vit-base-patch16-224-in21k)"
   ]
  },
  {
   "attachments": {},
   "cell_type": "markdown",
   "metadata": {},
   "source": [
    "## Installation"
   ]
  },
  {
   "cell_type": "code",
   "execution_count": 1,
   "metadata": {},
   "outputs": [],
   "source": [
    "# !pip install transformers datasets \"tensorflow==2.6.0\" tensorflow-addons --upgrade"
   ]
  },
  {
   "attachments": {},
   "cell_type": "markdown",
   "metadata": {},
   "source": [
    "## Setup & Configuration\n",
    "\n",
    "In this step, we will define global configurations and parameters, which are used across the whole end-to-end fine-tuning process, e.g. `feature extractor` and `model` we will use. \n",
    "\n",
    "In this example we are going to fine-tune the [google/vit-base-patch16-224-in21k](https://huggingface.co/google/vit-base-patch16-224-in21k) a Vision Transformer (ViT) pre-trained on ImageNet-21k (14 million images, 21,843 classes) at resolution 224x224.\n",
    "There are also [large](https://huggingface.co/google/vit-large-patch16-224-in21k) and [huge](https://huggingface.co/google/vit-huge-patch14-224-in21k) flavors of original ViT."
   ]
  },
  {
   "cell_type": "code",
   "execution_count": 2,
   "metadata": {},
   "outputs": [
    {
     "name": "stderr",
     "output_type": "stream",
     "text": [
      "2023-05-21 10:35:52.667753: I tensorflow/core/platform/cpu_feature_guard.cc:193] This TensorFlow binary is optimized with oneAPI Deep Neural Network Library (oneDNN) to use the following CPU instructions in performance-critical operations:  AVX2 FMA\n",
      "To enable them in other operations, rebuild TensorFlow with the appropriate compiler flags.\n",
      "2023-05-21 10:35:53.259771: W tensorflow/compiler/xla/stream_executor/platform/default/dso_loader.cc:64] Could not load dynamic library 'libnvinfer.so.7'; dlerror: libnvinfer.so.7: cannot open shared object file: No such file or directory; LD_LIBRARY_PATH: /usr/local/cuda-11.7/lib64::/home/miki/anaconda3/lib/:/home/miki/anaconda3/envs/tf/lib/\n",
      "2023-05-21 10:35:53.259835: W tensorflow/compiler/xla/stream_executor/platform/default/dso_loader.cc:64] Could not load dynamic library 'libnvinfer_plugin.so.7'; dlerror: libnvinfer_plugin.so.7: cannot open shared object file: No such file or directory; LD_LIBRARY_PATH: /usr/local/cuda-11.7/lib64::/home/miki/anaconda3/lib/:/home/miki/anaconda3/envs/tf/lib/\n",
      "2023-05-21 10:35:53.259844: W tensorflow/compiler/tf2tensorrt/utils/py_utils.cc:38] TF-TRT Warning: Cannot dlopen some TensorRT libraries. If you would like to use Nvidia GPU with TensorRT, please make sure the missing libraries mentioned above are installed properly.\n"
     ]
    }
   ],
   "source": [
    "from transformers import TFViTForImageClassification, TFResNetForImageClassification\n",
    "\n",
    "model_arch = TFViTForImageClassification\n",
    "model_id = \"google/vit-base-patch16-224-in21k\"\n",
    "# model_id = \"google/vit-large-patch16-224-in21k\" # OOM\n",
    "\n",
    "# model_arch = TFResNetForImageClassification\n",
    "# model_id = \"microsoft/resnet-101\"\n",
    "\n",
    "zoom = 400"
   ]
  },
  {
   "cell_type": "code",
   "execution_count": 3,
   "metadata": {},
   "outputs": [],
   "source": [
    "from datasets import load_dataset\n",
    "from datetime import datetime\n",
    "import json\n",
    "from keras.utils import to_categorical\n",
    "from keras.callbacks import CSVLogger, EarlyStopping\n",
    "import matplotlib.pyplot as plt\n",
    "import numpy as np\n",
    "import os\n",
    "import pandas as pd\n",
    "from pathlib import Path\n",
    "from PIL import Image\n",
    "import shutil\n",
    "\n",
    "import tensorflow as tf\n",
    "import tensorflow_addons as tfa\n",
    "from transformers import create_optimizer, DefaultDataCollator, ViTImageProcessor\n"
   ]
  },
  {
   "attachments": {},
   "cell_type": "markdown",
   "metadata": {},
   "source": [
    "## Dataset & Pre-processing\n",
    "\n",
    "- **Data Source:** https://www.kaggle.com/code/nasrulhakim86/breast-cancer-histopathology-images-classification/data\n",
    "- The Breast Cancer Histopathological Image Classification (BreakHis) is composed of 9,109 microscopic images of breast tumor tissue collected from 82 patients.\n",
    "- The images are collected using different magnifying factors (40X, 100X, 200X, and 400X). \n",
    "- To date, it contains 2,480 benign and 5,429 malignant samples (700X460 pixels, 3-channel RGB, 8-bit depth in each channel, PNG format).\n",
    "- This database has been built in collaboration with the P&D Laboratory – Pathological Anatomy and Cytopathology, Parana, Brazil (http://www.prevencaoediagnose.com.br). \n",
    "- Each image filename stores information about the image itself: method of procedure biopsy, tumor class, tumor type, patient identification, and magnification factor. \n",
    "- For example, SOBBTA-14-4659-40-001.png is the image 1, at magnification factor 40X, of a benign tumor of type tubular adenoma, original from the slide 14-4659, which was collected by procedure SOB."
   ]
  },
  {
   "attachments": {},
   "cell_type": "markdown",
   "metadata": {},
   "source": [
    "The `BreakHis` is not yet available as a dataset in the `datasets` library. To be able to create a `Dataset` instance we need to write a small little helper function, which will load our `Dataset` from the filesystem and create the instance to use later for training.\n",
    "\n",
    "This notebook assumes that the dataset is available in directory tree next to this file and its directory name is `breakhis_400x`"
   ]
  },
  {
   "cell_type": "code",
   "execution_count": 4,
   "metadata": {},
   "outputs": [],
   "source": [
    "cwd = Path().absolute()\n",
    "input_path = cwd / f'breakhis_{zoom}x'\n"
   ]
  },
  {
   "cell_type": "code",
   "execution_count": 5,
   "metadata": {},
   "outputs": [],
   "source": [
    "tf.debugging.disable_traceback_filtering()\n",
    "\n",
    "\n",
    "image_processor = ViTImageProcessor.from_pretrained(model_id)\n",
    "\n",
    "def process_example(image):\n",
    "    inputs = image_processor(image, return_tensors='tf')\n",
    "    return inputs['pixel_values']\n",
    "\n",
    "\n",
    "def process_dataset(example):\n",
    "    example['pixel_values'] = process_example(Image.open(example['file_loc']).convert(\"RGB\"))\n",
    "\n",
    "    example['label'] = to_categorical(example['label'], num_classes=2)\n",
    "    return example\n",
    "\n",
    "def load_data(fold_idx):\n",
    "    train_csv = str(input_path / f\"train_{fold_idx}.csv\")\n",
    "    val_csv = str(input_path / f\"val_{fold_idx}.csv\")\n",
    "    dataset = load_dataset(\n",
    "        'csv', data_files={'train': train_csv, 'val': val_csv})\n",
    "\n",
    "    dataset = dataset.map(process_dataset, with_indices=False, num_proc=1)\n",
    "\n",
    "    print(f\"Loaded {fold_idx} dataset: {dataset}\")\n",
    "\n",
    "    return dataset\n"
   ]
  },
  {
   "attachments": {},
   "cell_type": "markdown",
   "metadata": {},
   "source": [
    "## Fine-tuning the model using `Keras`\n",
    "\n",
    "Now that our `dataset` is processed, we can download the pretrained model and fine-tune it. But before we can do this we need to convert our Hugging Face `datasets` Dataset into a `tf.data.Dataset`. For this, we will use the `.to_tf_dataset` method and a `data collator` (Data collators are objects that will form a batch by using a list of dataset elements as input).\n",
    "\n",
    "\n"
   ]
  },
  {
   "attachments": {},
   "cell_type": "markdown",
   "metadata": {},
   "source": [
    "## Hyperparameter"
   ]
  },
  {
   "cell_type": "code",
   "execution_count": 6,
   "metadata": {},
   "outputs": [
    {
     "name": "stdout",
     "output_type": "stream",
     "text": [
      "INFO:tensorflow:Mixed precision compatibility check (mixed_float16): OK\n",
      "Your GPU will likely run quickly with dtype policy mixed_float16 as it has compute capability of at least 7.0. Your GPU: NVIDIA GeForce RTX 3070 Laptop GPU, compute capability 8.6\n"
     ]
    },
    {
     "name": "stderr",
     "output_type": "stream",
     "text": [
      "2023-05-21 10:36:11.803775: I tensorflow/compiler/xla/stream_executor/cuda/cuda_gpu_executor.cc:981] successful NUMA node read from SysFS had negative value (-1), but there must be at least one NUMA node, so returning NUMA node zero\n",
      "2023-05-21 10:36:11.807363: I tensorflow/compiler/xla/stream_executor/cuda/cuda_gpu_executor.cc:981] successful NUMA node read from SysFS had negative value (-1), but there must be at least one NUMA node, so returning NUMA node zero\n",
      "2023-05-21 10:36:11.807531: I tensorflow/compiler/xla/stream_executor/cuda/cuda_gpu_executor.cc:981] successful NUMA node read from SysFS had negative value (-1), but there must be at least one NUMA node, so returning NUMA node zero\n",
      "2023-05-21 10:36:11.808095: I tensorflow/compiler/xla/stream_executor/cuda/cuda_gpu_executor.cc:981] successful NUMA node read from SysFS had negative value (-1), but there must be at least one NUMA node, so returning NUMA node zero\n"
     ]
    }
   ],
   "source": [
    "id2label = {\"0\": \"benign\", \"1\": \"malignant\"}\n",
    "label2id = {v: k for k, v in id2label.items()}\n",
    "\n",
    "num_train_epochs = 100\n",
    "batch_size = 40\n",
    "batch_size = 40\n",
    "num_warmup_steps = 0\n",
    "fp16 = True\n",
    "\n",
    "# Train in mixed-precision float16\n",
    "# Comment this line out if you're using a GPU that will not benefit from this\n",
    "if fp16:\n",
    "    tf.keras.mixed_precision.set_global_policy(\"mixed_float16\")\n"
   ]
  },
  {
   "attachments": {},
   "cell_type": "markdown",
   "metadata": {},
   "source": [
    "### Download the pretrained transformer model and fine-tune it. "
   ]
  },
  {
   "cell_type": "code",
   "execution_count": 7,
   "metadata": {},
   "outputs": [],
   "source": [
    "def get_loss():\n",
    "    return tf.keras.losses.BinaryCrossentropy(from_logits=True)\n",
    "\n",
    "\n",
    "def get_metrics():\n",
    "    return [\n",
    "        tf.keras.metrics.BinaryAccuracy(name=\"accuracy\"),\n",
    "        tf.keras.metrics.AUC(name='auc', from_logits=True),\n",
    "        # tf.keras.metrics.AUC(name='auc_multi', from_logits=True,\n",
    "                            #  num_labels=2, multi_label=True),\n",
    "        tf.keras.metrics.Recall(name='recall'),\n",
    "        tf.keras.metrics.Precision(name='precision'),\n",
    "        tfa.metrics.F1Score(name='f1_score', num_classes=2, threshold=0.5),\n",
    "    ]\n",
    "\n",
    "\n",
    "def get_callbacks(output_path, fold_idx):\n",
    "    return [\n",
    "        EarlyStopping(monitor=\"val_loss\", patience=3),\n",
    "        CSVLogger(output_path / f'train_metrics_{fold_idx}.csv')\n",
    "    ]\n",
    "\n",
    "\n",
    "def get_optimizer(learning_rate, weight_decay_rate, num_warmup_steps, num_train_steps):\n",
    "    optimizer, _ = create_optimizer(\n",
    "        init_lr=learning_rate,\n",
    "        num_train_steps=num_train_steps,\n",
    "        weight_decay_rate=weight_decay_rate,\n",
    "        num_warmup_steps=num_warmup_steps,\n",
    "    )\n",
    "\n",
    "    return optimizer\n",
    "\n",
    "\n",
    "num_train_steps_list = []\n",
    "def train_model(fold_idx, train, val, learning_rate, weight_decay_rate, output_path):\n",
    "    num_train_steps = len(train) * num_train_epochs\n",
    "    num_train_steps_list.append(num_train_steps)\n",
    "    print(f\"num_train_steps = {num_train_steps}\")\n",
    "    optimizer = get_optimizer(\n",
    "        learning_rate, weight_decay_rate, num_warmup_steps, num_train_steps)\n",
    "\n",
    "    # load pre-trained ViT model\n",
    "    model = model_arch.from_pretrained(\n",
    "        model_id,\n",
    "        num_labels=2,\n",
    "        id2label=id2label,\n",
    "        label2id=label2id,\n",
    "    )\n",
    "\n",
    "    # compile model\n",
    "    model.compile(optimizer=optimizer, loss=get_loss(), metrics=get_metrics())\n",
    "    history = model.fit(\n",
    "        train,\n",
    "        validation_data=val,\n",
    "        callbacks=get_callbacks(output_path, fold_idx),\n",
    "        epochs=num_train_epochs,\n",
    "    )\n",
    "\n",
    "    return model, history\n"
   ]
  },
  {
   "cell_type": "code",
   "execution_count": 8,
   "metadata": {},
   "outputs": [],
   "source": [
    "def remove_extra_dim(example):\n",
    "    example['pixel_values'] = np.squeeze(example['pixel_values'], axis=0)\n",
    "    return example\n",
    "\n",
    "def save_model(idx, model, output_path):\n",
    "    model.save_pretrained(output_path / f'model_{idx}', from_tf=True)\n",
    "    \n",
    "def save_history(idx, history, output_path):\n",
    "    np.save(output_path / f'train_history_{idx}.npy', history.history)"
   ]
  },
  {
   "cell_type": "code",
   "execution_count": 9,
   "metadata": {},
   "outputs": [],
   "source": [
    "def intersection(lst1, lst2):\n",
    "    return list(set(lst1) & set(lst2))\n",
    "\n",
    "\n",
    "def run_fold(fold_idx, learning_rate, weight_decay_rate, output_path):\n",
    "    tf.keras.backend.clear_session()\n",
    "    dataset = load_data(fold_idx)\n",
    "\n",
    "    # Check patient ids uniqueness\n",
    "    train_dataset = dataset[\"train\"].map(remove_extra_dim)\n",
    "    val_dataset = dataset[\"val\"].map(remove_extra_dim)\n",
    "\n",
    "    # Create datasets and train model\n",
    "    data_collator = DefaultDataCollator(return_tensors=\"tf\")\n",
    "\n",
    "    train_dataset_tf = train_dataset.to_tf_dataset(\n",
    "        columns=['pixel_values'],\n",
    "        label_cols=['label'],\n",
    "        shuffle=True,\n",
    "        batch_size=batch_size,\n",
    "        collate_fn=data_collator\n",
    "    )\n",
    "\n",
    "    val_dataset_tf = val_dataset.to_tf_dataset(\n",
    "        columns=['pixel_values'],\n",
    "        label_cols=['label'],\n",
    "        shuffle=True,\n",
    "        batch_size=batch_size,\n",
    "        collate_fn=data_collator\n",
    "    )\n",
    "    print(train_dataset_tf)\n",
    "    print(val_dataset_tf)\n",
    "\n",
    "    model, history = train_model(fold_idx, train_dataset_tf, val_dataset_tf, learning_rate, weight_decay_rate, output_path)\n",
    "    save_model(fold_idx, model, output_path)\n",
    "    save_history(fold_idx, history, output_path)\n",
    "\n",
    "    print(f'Fold {fold_idx} finished')\n"
   ]
  },
  {
   "cell_type": "code",
   "execution_count": 10,
   "metadata": {},
   "outputs": [],
   "source": [
    "def save_model_info(output_path, fold_idx, learning_rate, weight_decay_rate):\n",
    "    model_info = {\"idx\": fold_idx,\n",
    "                    \"model_id\": model_id,\n",
    "                    \"zoom\": zoom,\n",
    "                    \"n_splits\": 5,\n",
    "                    \"num_train_epochs\": num_train_epochs,\n",
    "                    \"batch_size\": batch_size,\n",
    "                    \"learning_rate\": learning_rate,\n",
    "                    \"weight_decay_rate\": weight_decay_rate,\n",
    "                    \"num_warmup_steps\": num_warmup_steps,\n",
    "                    \"num_train_steps\": num_train_steps_list[0]}\n",
    "\n",
    "    with open(output_path / f'model_info_{fold_idx}.json', 'w') as f:\n",
    "        json.dump(model_info, f, indent=4)\n",
    "\n",
    "    print(json.dumps(model_info, indent=4))"
   ]
  },
  {
   "cell_type": "code",
   "execution_count": 11,
   "metadata": {},
   "outputs": [
    {
     "name": "stderr",
     "output_type": "stream",
     "text": [
      "Found cached dataset csv (/home/miki/.cache/huggingface/datasets/csv/default-6db5bff18f2de09e/0.0.0/6b34fb8fcf56f7c8ba51dc895bfa2bfbe43546f190a60fcf74bb5e8afdcc2317)\n"
     ]
    },
    {
     "data": {
      "application/vnd.jupyter.widget-view+json": {
       "model_id": "4d06dc37bca34a498fb015fd882095f7",
       "version_major": 2,
       "version_minor": 0
      },
      "text/plain": [
       "  0%|          | 0/2 [00:00<?, ?it/s]"
      ]
     },
     "metadata": {},
     "output_type": "display_data"
    },
    {
     "name": "stderr",
     "output_type": "stream",
     "text": [
      "Loading cached processed dataset at /home/miki/.cache/huggingface/datasets/csv/default-6db5bff18f2de09e/0.0.0/6b34fb8fcf56f7c8ba51dc895bfa2bfbe43546f190a60fcf74bb5e8afdcc2317/cache-462fc4aa341ef830.arrow\n",
      "Loading cached processed dataset at /home/miki/.cache/huggingface/datasets/csv/default-6db5bff18f2de09e/0.0.0/6b34fb8fcf56f7c8ba51dc895bfa2bfbe43546f190a60fcf74bb5e8afdcc2317/cache-20ae02186d2bc124.arrow\n",
      "Loading cached processed dataset at /home/miki/.cache/huggingface/datasets/csv/default-6db5bff18f2de09e/0.0.0/6b34fb8fcf56f7c8ba51dc895bfa2bfbe43546f190a60fcf74bb5e8afdcc2317/cache-5d400aa19e9b087d.arrow\n",
      "Loading cached processed dataset at /home/miki/.cache/huggingface/datasets/csv/default-6db5bff18f2de09e/0.0.0/6b34fb8fcf56f7c8ba51dc895bfa2bfbe43546f190a60fcf74bb5e8afdcc2317/cache-b6f71c335ebd2c22.arrow\n",
      "2023-05-21 10:36:12.822971: I tensorflow/core/platform/cpu_feature_guard.cc:193] This TensorFlow binary is optimized with oneAPI Deep Neural Network Library (oneDNN) to use the following CPU instructions in performance-critical operations:  AVX2 FMA\n",
      "To enable them in other operations, rebuild TensorFlow with the appropriate compiler flags.\n"
     ]
    },
    {
     "name": "stdout",
     "output_type": "stream",
     "text": [
      "Loaded 0 dataset: DatasetDict({\n",
      "    train: Dataset({\n",
      "        features: ['file_loc', 'label', 'patient_id', 'pixel_values'],\n",
      "        num_rows: 1133\n",
      "    })\n",
      "    val: Dataset({\n",
      "        features: ['file_loc', 'label', 'patient_id', 'pixel_values'],\n",
      "        num_rows: 294\n",
      "    })\n",
      "})\n"
     ]
    },
    {
     "name": "stderr",
     "output_type": "stream",
     "text": [
      "2023-05-21 10:36:12.823679: I tensorflow/compiler/xla/stream_executor/cuda/cuda_gpu_executor.cc:981] successful NUMA node read from SysFS had negative value (-1), but there must be at least one NUMA node, so returning NUMA node zero\n",
      "2023-05-21 10:36:12.824000: I tensorflow/compiler/xla/stream_executor/cuda/cuda_gpu_executor.cc:981] successful NUMA node read from SysFS had negative value (-1), but there must be at least one NUMA node, so returning NUMA node zero\n",
      "2023-05-21 10:36:12.824168: I tensorflow/compiler/xla/stream_executor/cuda/cuda_gpu_executor.cc:981] successful NUMA node read from SysFS had negative value (-1), but there must be at least one NUMA node, so returning NUMA node zero\n",
      "2023-05-21 10:36:13.207759: I tensorflow/compiler/xla/stream_executor/cuda/cuda_gpu_executor.cc:981] successful NUMA node read from SysFS had negative value (-1), but there must be at least one NUMA node, so returning NUMA node zero\n",
      "2023-05-21 10:36:13.207936: I tensorflow/compiler/xla/stream_executor/cuda/cuda_gpu_executor.cc:981] successful NUMA node read from SysFS had negative value (-1), but there must be at least one NUMA node, so returning NUMA node zero\n",
      "2023-05-21 10:36:13.208062: I tensorflow/compiler/xla/stream_executor/cuda/cuda_gpu_executor.cc:981] successful NUMA node read from SysFS had negative value (-1), but there must be at least one NUMA node, so returning NUMA node zero\n",
      "2023-05-21 10:36:13.208171: I tensorflow/core/common_runtime/gpu/gpu_device.cc:1613] Created device /job:localhost/replica:0/task:0/device:GPU:0 with 6120 MB memory:  -> device: 0, name: NVIDIA GeForce RTX 3070 Laptop GPU, pci bus id: 0000:01:00.0, compute capability: 8.6\n"
     ]
    },
    {
     "name": "stdout",
     "output_type": "stream",
     "text": [
      "<PrefetchDataset element_spec=(TensorSpec(shape=(None, 3, 224, 224), dtype=tf.float32, name=None), TensorSpec(shape=(None, 2), dtype=tf.float32, name=None))>\n",
      "<PrefetchDataset element_spec=(TensorSpec(shape=(None, 3, 224, 224), dtype=tf.float32, name=None), TensorSpec(shape=(None, 2), dtype=tf.float32, name=None))>\n",
      "num_train_steps = 290\n"
     ]
    },
    {
     "name": "stderr",
     "output_type": "stream",
     "text": [
      "2023-05-21 10:36:15.089987: I tensorflow/compiler/xla/stream_executor/cuda/cuda_dnn.cc:428] Loaded cuDNN version 8100\n",
      "2023-05-21 10:36:15.611529: I tensorflow/tsl/platform/default/subprocess.cc:304] Start cannot spawn child process: No such file or directory\n",
      "2023-05-21 10:36:15.612528: I tensorflow/tsl/platform/default/subprocess.cc:304] Start cannot spawn child process: No such file or directory\n",
      "2023-05-21 10:36:15.612548: W tensorflow/compiler/xla/stream_executor/gpu/asm_compiler.cc:85] Couldn't get ptxas version string: INTERNAL: Couldn't invoke ptxas --version\n",
      "2023-05-21 10:36:15.613532: I tensorflow/tsl/platform/default/subprocess.cc:304] Start cannot spawn child process: No such file or directory\n",
      "2023-05-21 10:36:15.613584: W tensorflow/compiler/xla/stream_executor/gpu/redzone_allocator.cc:318] INTERNAL: Failed to launch ptxas\n",
      "Relying on driver to perform ptx compilation. \n",
      "Modify $PATH to customize ptxas location.\n",
      "This message will be only logged once.\n",
      "Some layers from the model checkpoint at google/vit-base-patch16-224-in21k were not used when initializing TFViTForImageClassification: ['vit/pooler/dense/kernel:0', 'vit/pooler/dense/bias:0']\n",
      "- This IS expected if you are initializing TFViTForImageClassification from the checkpoint of a model trained on another task or with another architecture (e.g. initializing a BertForSequenceClassification model from a BertForPreTraining model).\n",
      "- This IS NOT expected if you are initializing TFViTForImageClassification from the checkpoint of a model that you expect to be exactly identical (initializing a BertForSequenceClassification model from a BertForSequenceClassification model).\n",
      "Some layers of TFViTForImageClassification were not initialized from the model checkpoint at google/vit-base-patch16-224-in21k and are newly initialized: ['classifier']\n",
      "You should probably TRAIN this model on a down-stream task to be able to use it for predictions and inference.\n"
     ]
    },
    {
     "name": "stdout",
     "output_type": "stream",
     "text": [
      "Epoch 1/10\n",
      "WARNING:tensorflow:From /home/miki/.local/lib/python3.10/site-packages/tensorflow/python/autograph/pyct/static_analysis/liveness.py:83: Analyzer.lamba_check (from tensorflow.python.autograph.pyct.static_analysis.liveness) is deprecated and will be removed after 2023-09-23.\n",
      "Instructions for updating:\n",
      "Lambda fuctions will be no more assumed to be used in the statement where they are used, or at least in the same block. https://github.com/tensorflow/tensorflow/issues/56089\n",
      "29/29 [==============================] - 35s 718ms/step - loss: 0.5396 - accuracy: 0.7017 - auc: 0.8618 - recall: 0.4440 - precision: 0.9162 - f1_score: 0.3779 - val_loss: 0.3877 - val_accuracy: 0.8180 - val_auc: 0.9795 - val_recall: 0.6497 - val_precision: 0.9795 - val_f1_score: 0.4799\n",
      "Epoch 2/10\n",
      "29/29 [==============================] - 19s 654ms/step - loss: 0.3517 - accuracy: 0.8553 - auc: 0.9646 - recall: 0.7467 - precision: 0.9538 - f1_score: 0.7423 - val_loss: 0.2847 - val_accuracy: 0.9422 - val_auc: 0.9773 - val_recall: 0.9184 - val_precision: 0.9643 - val_f1_score: 0.9256\n",
      "Epoch 3/10\n",
      "29/29 [==============================] - 19s 655ms/step - loss: 0.2284 - accuracy: 0.9620 - auc: 0.9935 - recall: 0.9479 - precision: 0.9755 - f1_score: 0.9534 - val_loss: 0.2821 - val_accuracy: 0.9235 - val_auc: 0.9553 - val_recall: 0.9150 - val_precision: 0.9308 - val_f1_score: 0.8969\n",
      "Epoch 4/10\n",
      "29/29 [==============================] - 20s 661ms/step - loss: 0.1783 - accuracy: 0.9735 - auc: 0.9977 - recall: 0.9647 - precision: 0.9820 - f1_score: 0.9691 - val_loss: 0.2211 - val_accuracy: 0.9422 - val_auc: 0.9743 - val_recall: 0.9354 - val_precision: 0.9483 - val_f1_score: 0.9297\n",
      "Epoch 5/10\n",
      "29/29 [==============================] - 19s 653ms/step - loss: 0.1356 - accuracy: 0.9916 - auc: 0.9995 - recall: 0.9903 - precision: 0.9929 - f1_score: 0.9908 - val_loss: 0.2150 - val_accuracy: 0.9507 - val_auc: 0.9671 - val_recall: 0.9490 - val_precision: 0.9522 - val_f1_score: 0.9384\n",
      "Epoch 6/10\n",
      "29/29 [==============================] - 20s 659ms/step - loss: 0.1126 - accuracy: 0.9978 - auc: 1.0000 - recall: 0.9965 - precision: 0.9991 - f1_score: 0.9976 - val_loss: 0.1882 - val_accuracy: 0.9592 - val_auc: 0.9765 - val_recall: 0.9592 - val_precision: 0.9592 - val_f1_score: 0.9510\n",
      "Epoch 7/10\n",
      "29/29 [==============================] - 20s 665ms/step - loss: 0.1052 - accuracy: 0.9969 - auc: 1.0000 - recall: 0.9965 - precision: 0.9973 - f1_score: 0.9966 - val_loss: 0.1948 - val_accuracy: 0.9524 - val_auc: 0.9795 - val_recall: 0.9490 - val_precision: 0.9555 - val_f1_score: 0.9446\n",
      "Epoch 8/10\n",
      "29/29 [==============================] - 20s 661ms/step - loss: 0.0986 - accuracy: 0.9982 - auc: 1.0000 - recall: 0.9974 - precision: 0.9991 - f1_score: 0.9979 - val_loss: 0.1945 - val_accuracy: 0.9524 - val_auc: 0.9758 - val_recall: 0.9490 - val_precision: 0.9555 - val_f1_score: 0.9446\n",
      "Epoch 9/10\n",
      "29/29 [==============================] - 20s 675ms/step - loss: 0.0938 - accuracy: 0.9996 - auc: 1.0000 - recall: 0.9991 - precision: 1.0000 - f1_score: 0.9997 - val_loss: 0.1860 - val_accuracy: 0.9609 - val_auc: 0.9727 - val_recall: 0.9592 - val_precision: 0.9625 - val_f1_score: 0.9537\n",
      "Epoch 10/10\n",
      "29/29 [==============================] - 21s 707ms/step - loss: 0.0918 - accuracy: 1.0000 - auc: 1.0000 - recall: 1.0000 - precision: 1.0000 - f1_score: 1.0000 - val_loss: 0.1867 - val_accuracy: 0.9541 - val_auc: 0.9699 - val_recall: 0.9456 - val_precision: 0.9619 - val_f1_score: 0.9411\n",
      "Fold 0 finished\n",
      "{\n",
      "    \"idx\": 0,\n",
      "    \"model_id\": \"google/vit-base-patch16-224-in21k\",\n",
      "    \"zoom\": 400,\n",
      "    \"n_splits\": 5,\n",
      "    \"num_train_epochs\": 10,\n",
      "    \"batch_size\": 40,\n",
      "    \"learning_rate\": 3e-05,\n",
      "    \"weight_decay_rate\": 0.005,\n",
      "    \"num_warmup_steps\": 0,\n",
      "    \"num_train_steps\": 290\n",
      "}\n"
     ]
    }
   ],
   "source": [
    "# experiment_id = \"001\"\n",
    "# fold_idx = 0\n",
    "# learning_rate = 3e-5\n",
    "# # learning_rate = 1e-4\n",
    "# # weight_decay_rate = 0.01\n",
    "# weight_decay_rate = 0.005\n",
    "\n",
    "# output_path = cwd / 'results' / f'{zoom}x_{experiment_id}'\n",
    "\n",
    "# # shutil.rmtree(output_path, ignore_errors=True)\n",
    "# os.makedirs(output_path)\n",
    "\n",
    "# run_fold(fold_idx, learning_rate, weight_decay_rate, output_path)\n",
    "# save_model_info(output_path, fold_idx, learning_rate, weight_decay_rate)"
   ]
  },
  {
   "cell_type": "code",
   "execution_count": 12,
   "metadata": {},
   "outputs": [],
   "source": [
    "import argparse\n",
    "\n",
    "if __name__ == \"__main__\":\n",
    "    parser = argparse.ArgumentParser()\n",
    "    parser.add_argument('exid', type=str, help='Experiment ID')\n",
    "    parser.add_argument('idx', type=int, help='Fold index')\n",
    "    parser.add_argument('lr', type=float, help='Learning rate')\n",
    "    parser.add_argument('wdr', type=float, help='Weight decay rate')\n",
    "\n",
    "    args = parser.parse_args()\n",
    "\n",
    "    output_path = cwd / 'results' / f'{zoom}x_{args.exid}'\n",
    "\n",
    "    if not os.path.exists(output_path):\n",
    "        os.makedirs(output_path)\n",
    "    else:\n",
    "        print(f\"Directory {output_path} already exists. Skipping creation.\")\n",
    "\n",
    "    print(f\"Starting experiment {args.exid} with fold {args.idx}. Hyperparams:\")\n",
    "    print(f\"Learning rate: {args.lr}\")\n",
    "    print(f\"Weight decay rate: {args.wdr}\")\n",
    "    run_fold(args.idx, args.lr, args.wdr, output_path)\n",
    "    save_model_info(output_path, args.idx, args.lr, args.wdr)\n",
    "\n",
    "\n",
    "    run_fold(args.idx)\n",
    "    save_model_info(args.idx)\n"
   ]
  },
  {
   "cell_type": "code",
   "execution_count": 13,
   "metadata": {},
   "outputs": [
    {
     "ename": "",
     "evalue": "",
     "output_type": "error",
     "traceback": [
      "\u001b[1;31mThe Kernel crashed while executing code in the the current cell or a previous cell. Please review the code in the cell(s) to identify a possible cause of the failure. Click <a href='https://aka.ms/vscodeJupyterKernelCrash'>here</a> for more info. View Jupyter <a href='command:jupyter.viewOutput'>log</a> for further details."
     ]
    }
   ],
   "source": [
    "# from multiprocessing import Process\n",
    "# # create a process\n",
    "# n_splits = 5\n",
    "# for idx in range(n_splits):\n",
    "#     training_process = Process(target=lambda: run_fold(idx))\n",
    "#     # run the process\n",
    "#     training_process.start()\n",
    "#     # wait for the process to finish\n",
    "#     print('Waiting for the process...')\n",
    "#     training_process.join()"
   ]
  }
 ],
 "metadata": {
  "instance_type": "ml.t3.medium",
  "interpreter": {
   "hash": "ec1370a512a4612a2908be3c3c8b0de1730d00dc30104daff827065aeaf438b7"
  },
  "kernelspec": {
   "display_name": "Python 3 (ipykernel)",
   "language": "python",
   "name": "python3"
  },
  "language_info": {
   "codemirror_mode": {
    "name": "ipython",
    "version": 3
   },
   "file_extension": ".py",
   "mimetype": "text/x-python",
   "name": "python",
   "nbconvert_exporter": "python",
   "pygments_lexer": "ipython3",
   "version": "3.10.9"
  }
 },
 "nbformat": 4,
 "nbformat_minor": 4
}
