{
 "cells": [
  {
   "attachments": {},
   "cell_type": "markdown",
   "metadata": {},
   "source": [
    "# BreakHis Image Classification with 🤗 Vision Transformers and `TensorFlow`"
   ]
  },
  {
   "attachments": {},
   "cell_type": "markdown",
   "metadata": {},
   "source": [
    "### Quick intro: Vision Transformer (ViT) by Google Brain\n",
    "The Vision Transformer (ViT) is basically BERT, but applied to images. It attains excellent results compared to state-of-the-art convolutional networks. In order to provide images to the model, each image is split into a sequence of fixed-size patches (typically of resolution 16x16 or 32x32), which are linearly embedded. One also adds a [CLS] token at the beginning of the sequence in order to classify images. Next, one adds absolute position embeddings and provides this sequence to the Transformer encoder.\n",
    "\n",
    "* [Original paper](https://arxiv.org/abs/2010.11929)\n",
    "* [Official repo (in JAX)](https://github.com/google-research/vision_transformer)\n",
    "* [🤗 Vision Transformer](https://huggingface.co/docs/transformers/model_doc/vit)\n",
    "* [Pre-trained model](https://huggingface.co/google/vit-base-patch16-224-in21k)"
   ]
  },
  {
   "attachments": {},
   "cell_type": "markdown",
   "metadata": {},
   "source": [
    "## Installation"
   ]
  },
  {
   "cell_type": "code",
   "execution_count": null,
   "metadata": {},
   "outputs": [],
   "source": [
    "# !pip install transformers datasets \"tensorflow==2.6.0\" tensorflow-addons --upgrade"
   ]
  },
  {
   "attachments": {},
   "cell_type": "markdown",
   "metadata": {},
   "source": [
    "## Setup & Configuration\n",
    "\n",
    "In this step, we will define global configurations and parameters, which are used across the whole end-to-end fine-tuning process, e.g. `feature extractor` and `model` we will use. \n",
    "\n",
    "In this example we are going to fine-tune the [google/vit-base-patch16-224-in21k](https://huggingface.co/google/vit-base-patch16-224-in21k) a Vision Transformer (ViT) pre-trained on ImageNet-21k (14 million images, 21,843 classes) at resolution 224x224.\n",
    "There are also [large](https://huggingface.co/google/vit-large-patch16-224-in21k) and [huge](https://huggingface.co/google/vit-huge-patch14-224-in21k) flavors of original ViT."
   ]
  },
  {
   "cell_type": "code",
   "execution_count": null,
   "metadata": {},
   "outputs": [],
   "source": [
    "from transformers import TFViTForImageClassification, TFResNetForImageClassification, TFConvNextForImageClassification, TFAutoModelForImageClassification, AutoConfig\n",
    "\n",
    "# model_arch = TFViTForImageClassification\n",
    "model_id = \"google/vit-base-patch16-224-in21k\"\n",
    "# model_id = \"google/vit-large-patch16-224-in21k\" # OOM\n",
    "\n",
    "# model_arch = TFResNetForImageClassification\n",
    "model_arch = TFAutoModelForImageClassification\n",
    "# model_id = \"microsoft/resnet-101\"\n",
    "\n",
    "# model_arch = TFConvNextForImageClassification\n",
    "# model_id = \"facebook/convnext-base-224\"\n",
    "# model_id = \"facebook/convnext-large-224\"\n",
    "\n",
    "zoom = 400"
   ]
  },
  {
   "cell_type": "code",
   "execution_count": null,
   "metadata": {},
   "outputs": [],
   "source": [
    "from datasets import load_dataset\n",
    "from datetime import datetime\n",
    "import json\n",
    "from keras.utils import to_categorical\n",
    "from keras.callbacks import CSVLogger, EarlyStopping\n",
    "import matplotlib.pyplot as plt\n",
    "import numpy as np\n",
    "import os\n",
    "import pandas as pd\n",
    "from pathlib import Path\n",
    "from PIL import Image\n",
    "import shutil\n",
    "\n",
    "import tensorflow as tf\n",
    "import tensorflow_addons as tfa\n",
    "from transformers import create_optimizer, DefaultDataCollator, ViTImageProcessor\n"
   ]
  },
  {
   "attachments": {},
   "cell_type": "markdown",
   "metadata": {},
   "source": [
    "## Dataset & Pre-processing\n",
    "\n",
    "- **Data Source:** https://www.kaggle.com/code/nasrulhakim86/breast-cancer-histopathology-images-classification/data\n",
    "- The Breast Cancer Histopathological Image Classification (BreakHis) is composed of 9,109 microscopic images of breast tumor tissue collected from 82 patients.\n",
    "- The images are collected using different magnifying factors (40X, 100X, 200X, and 400X). \n",
    "- To date, it contains 2,480 benign and 5,429 malignant samples (700X460 pixels, 3-channel RGB, 8-bit depth in each channel, PNG format).\n",
    "- This database has been built in collaboration with the P&D Laboratory – Pathological Anatomy and Cytopathology, Parana, Brazil (http://www.prevencaoediagnose.com.br). \n",
    "- Each image filename stores information about the image itself: method of procedure biopsy, tumor class, tumor type, patient identification, and magnification factor. \n",
    "- For example, SOBBTA-14-4659-40-001.png is the image 1, at magnification factor 40X, of a benign tumor of type tubular adenoma, original from the slide 14-4659, which was collected by procedure SOB."
   ]
  },
  {
   "attachments": {},
   "cell_type": "markdown",
   "metadata": {},
   "source": [
    "The `BreakHis` is not yet available as a dataset in the `datasets` library. To be able to create a `Dataset` instance we need to write a small little helper function, which will load our `Dataset` from the filesystem and create the instance to use later for training.\n",
    "\n",
    "This notebook assumes that the dataset is available in directory tree next to this file and its directory name is `breakhis_400x`"
   ]
  },
  {
   "cell_type": "code",
   "execution_count": null,
   "metadata": {},
   "outputs": [],
   "source": [
    "cwd = Path().absolute()\n",
    "input_path = cwd / f'breakhis_{zoom}x'\n"
   ]
  },
  {
   "cell_type": "code",
   "execution_count": null,
   "metadata": {},
   "outputs": [],
   "source": [
    "tf.debugging.disable_traceback_filtering()\n",
    "\n",
    "\n",
    "image_processor = ViTImageProcessor.from_pretrained(model_id)\n",
    "\n",
    "def process_example(image):\n",
    "    inputs = image_processor(image, return_tensors='tf')\n",
    "    return inputs['pixel_values']\n",
    "\n",
    "\n",
    "def process_dataset(example):\n",
    "    example['pixel_values'] = process_example(Image.open(example['file_loc']).convert(\"RGB\"))\n",
    "\n",
    "    example['label'] = to_categorical(example['label'], num_classes=2)\n",
    "    return example\n",
    "\n",
    "def load_data(fold_idx):\n",
    "    train_csv = str(input_path / f\"train_{fold_idx}.csv\")\n",
    "    val_csv = str(input_path / f\"val_{fold_idx}.csv\")\n",
    "    dataset = load_dataset(\n",
    "        'csv', data_files={'train': train_csv, 'val': val_csv})\n",
    "\n",
    "    dataset = dataset.map(process_dataset, with_indices=False, num_proc=1)\n",
    "\n",
    "    print(f\"Loaded {fold_idx} dataset: {dataset}\")\n",
    "\n",
    "    return dataset\n"
   ]
  },
  {
   "attachments": {},
   "cell_type": "markdown",
   "metadata": {},
   "source": [
    "## Fine-tuning the model using `Keras`\n",
    "\n",
    "Now that our `dataset` is processed, we can download the pretrained model and fine-tune it. But before we can do this we need to convert our Hugging Face `datasets` Dataset into a `tf.data.Dataset`. For this, we will use the `.to_tf_dataset` method and a `data collator` (Data collators are objects that will form a batch by using a list of dataset elements as input).\n",
    "\n",
    "\n"
   ]
  },
  {
   "attachments": {},
   "cell_type": "markdown",
   "metadata": {},
   "source": [
    "## Hyperparameter"
   ]
  },
  {
   "cell_type": "code",
   "execution_count": null,
   "metadata": {},
   "outputs": [],
   "source": [
    "id2label = {\"0\": \"benign\", \"1\": \"malignant\"}\n",
    "label2id = {v: k for k, v in id2label.items()}\n",
    "\n",
    "num_train_epochs = 100\n",
    "batch_size = 40\n",
    "batch_size = 40\n",
    "num_warmup_steps = 0\n",
    "fp16 = True\n",
    "\n",
    "# Train in mixed-precision float16\n",
    "# Comment this line out if you're using a GPU that will not benefit from this\n",
    "if fp16:\n",
    "    tf.keras.mixed_precision.set_global_policy(\"mixed_float16\")\n"
   ]
  },
  {
   "attachments": {},
   "cell_type": "markdown",
   "metadata": {},
   "source": [
    "### Download the pretrained transformer model and fine-tune it. "
   ]
  },
  {
   "cell_type": "code",
   "execution_count": null,
   "metadata": {},
   "outputs": [],
   "source": [
    "def get_loss():\n",
    "    return tf.keras.losses.BinaryCrossentropy(from_logits=True)\n",
    "\n",
    "\n",
    "def get_metrics():\n",
    "    return [\n",
    "        tf.keras.metrics.BinaryAccuracy(name=\"accuracy\"),\n",
    "        tf.keras.metrics.AUC(name='auc', from_logits=True),\n",
    "        # tf.keras.metrics.AUC(name='auc_multi', from_logits=True,\n",
    "                            #  num_labels=2, multi_label=True),\n",
    "        tf.keras.metrics.Recall(name='recall'),\n",
    "        tf.keras.metrics.Precision(name='precision'),\n",
    "        tfa.metrics.F1Score(name='f1_score', num_classes=2, threshold=0.5),\n",
    "    ]\n",
    "\n",
    "\n",
    "def get_callbacks(output_path, fold_idx):\n",
    "    return [\n",
    "        EarlyStopping(monitor=\"val_loss\", patience=3),\n",
    "        CSVLogger(output_path / f'train_metrics_{fold_idx}.csv')\n",
    "    ]\n",
    "\n",
    "\n",
    "def get_optimizer(learning_rate, weight_decay_rate, num_warmup_steps, num_train_steps):\n",
    "    optimizer, _ = create_optimizer(\n",
    "        init_lr=learning_rate,\n",
    "        num_train_steps=num_train_steps,\n",
    "        weight_decay_rate=weight_decay_rate,\n",
    "        num_warmup_steps=num_warmup_steps,\n",
    "    )\n",
    "\n",
    "    return optimizer\n",
    "\n",
    "\n",
    "num_train_steps_list = []\n",
    "def train_model(fold_idx, train, val, learning_rate, weight_decay_rate, output_path):\n",
    "    num_train_steps = len(train) * num_train_epochs\n",
    "    num_train_steps_list.append(num_train_steps)\n",
    "    print(f\"num_train_steps = {num_train_steps}\")\n",
    "    optimizer = get_optimizer(\n",
    "        learning_rate, weight_decay_rate, num_warmup_steps, num_train_steps)\n",
    "\n",
    "    # load pre-trained ViT model\n",
    "    model = model_arch.from_pretrained(\n",
    "        model_id,\n",
    "        num_labels=2,\n",
    "        id2label=id2label,\n",
    "        label2id=label2id,\n",
    "    )\n",
    "\n",
    "    # compile model\n",
    "    model.compile(optimizer=optimizer, loss=get_loss(), metrics=get_metrics())\n",
    "    history = model.fit(\n",
    "        train,\n",
    "        validation_data=val,\n",
    "        callbacks=get_callbacks(output_path, fold_idx),\n",
    "        epochs=num_train_epochs,\n",
    "    )\n",
    "\n",
    "    return model, history\n"
   ]
  },
  {
   "cell_type": "code",
   "execution_count": null,
   "metadata": {},
   "outputs": [],
   "source": [
    "def remove_extra_dim(example):\n",
    "    example['pixel_values'] = np.squeeze(example['pixel_values'], axis=0)\n",
    "    return example\n",
    "\n",
    "def save_model(idx, model, output_path):\n",
    "    model.save_pretrained(output_path / f'model_{idx}', from_tf=True)\n",
    "    \n",
    "def save_history(idx, history, output_path):\n",
    "    np.save(output_path / f'train_history_{idx}.npy', history.history)"
   ]
  },
  {
   "cell_type": "code",
   "execution_count": null,
   "metadata": {},
   "outputs": [],
   "source": [
    "def intersection(lst1, lst2):\n",
    "    return list(set(lst1) & set(lst2))\n",
    "\n",
    "\n",
    "def run_fold(fold_idx, learning_rate, weight_decay_rate, output_path):\n",
    "    tf.keras.backend.clear_session()\n",
    "    dataset = load_data(fold_idx)\n",
    "\n",
    "    # Check patient ids uniqueness\n",
    "    train_dataset = dataset[\"train\"].map(remove_extra_dim)\n",
    "    val_dataset = dataset[\"val\"].map(remove_extra_dim)\n",
    "\n",
    "    # Create datasets and train model\n",
    "    data_collator = DefaultDataCollator(return_tensors=\"tf\")\n",
    "\n",
    "    train_dataset_tf = train_dataset.to_tf_dataset(\n",
    "        columns=['pixel_values'],\n",
    "        label_cols=['label'],\n",
    "        shuffle=True,\n",
    "        batch_size=batch_size,\n",
    "        collate_fn=data_collator\n",
    "    )\n",
    "\n",
    "    val_dataset_tf = val_dataset.to_tf_dataset(\n",
    "        columns=['pixel_values'],\n",
    "        label_cols=['label'],\n",
    "        shuffle=True,\n",
    "        batch_size=batch_size,\n",
    "        collate_fn=data_collator\n",
    "    )\n",
    "    print(train_dataset_tf)\n",
    "    print(val_dataset_tf)\n",
    "\n",
    "    model, history = train_model(fold_idx, train_dataset_tf, val_dataset_tf, learning_rate, weight_decay_rate, output_path)\n",
    "    save_model(fold_idx, model, output_path)\n",
    "    save_history(fold_idx, history, output_path)\n",
    "\n",
    "    print(f'Fold {fold_idx} finished')\n"
   ]
  },
  {
   "cell_type": "code",
   "execution_count": null,
   "metadata": {},
   "outputs": [],
   "source": [
    "def save_model_info(output_path, fold_idx, learning_rate, weight_decay_rate):\n",
    "    model_info = {\"idx\": fold_idx,\n",
    "                    \"model_id\": model_id,\n",
    "                    \"zoom\": zoom,\n",
    "                    \"n_splits\": 5,\n",
    "                    \"num_train_epochs\": num_train_epochs,\n",
    "                    \"batch_size\": batch_size,\n",
    "                    \"learning_rate\": learning_rate,\n",
    "                    \"weight_decay_rate\": weight_decay_rate,\n",
    "                    \"num_warmup_steps\": num_warmup_steps,\n",
    "                    \"num_train_steps\": num_train_steps_list[0]}\n",
    "\n",
    "    with open(output_path / f'model_info_{fold_idx}.json', 'w') as f:\n",
    "        json.dump(model_info, f, indent=4)\n",
    "\n",
    "    print(json.dumps(model_info, indent=4))"
   ]
  },
  {
   "cell_type": "code",
   "execution_count": null,
   "metadata": {},
   "outputs": [],
   "source": [
    "experiment_id = \"testtest\"\n",
    "fold_idx = 0\n",
    "learning_rate = 3e-5\n",
    "# learning_rate = 1e-4\n",
    "# weight_decay_rate = 0.01\n",
    "weight_decay_rate = 0.005\n",
    "\n",
    "output_path = cwd / 'results' / f'{zoom}x_{experiment_id}'\n",
    "\n",
    "# shutil.rmtree(output_path, ignore_errors=True)\n",
    "os.makedirs(output_path)\n",
    "\n",
    "run_fold(fold_idx, learning_rate, weight_decay_rate, output_path)\n",
    "save_model_info(output_path, fold_idx, learning_rate, weight_decay_rate)"
   ]
  },
  {
   "cell_type": "code",
   "execution_count": null,
   "metadata": {},
   "outputs": [],
   "source": [
    "# import argparse\n",
    "\n",
    "# if __name__ == \"__main__\":\n",
    "#     parser = argparse.ArgumentParser()\n",
    "#     parser.add_argument('exid', type=str, help='Experiment ID')\n",
    "#     parser.add_argument('idx', type=int, help='Fold index')\n",
    "#     parser.add_argument('lr', type=float, help='Learning rate')\n",
    "#     parser.add_argument('wdr', type=float, help='Weight decay rate')\n",
    "\n",
    "#     args = parser.parse_args()\n",
    "\n",
    "#     output_path = cwd / 'results' / f'{zoom}x_{args.exid}'\n",
    "\n",
    "#     if not os.path.exists(output_path):\n",
    "#         os.makedirs(output_path)\n",
    "#     else:\n",
    "#         print(f\"Directory {output_path} already exists. Skipping creation.\")\n",
    "\n",
    "#     print(f\"Starting experiment {args.exid} with fold {args.idx}. Hyperparams:\")\n",
    "#     print(f\"Learning rate: {args.lr}\")\n",
    "#     print(f\"Weight decay rate: {args.wdr}\")\n",
    "#     run_fold(args.idx, args.lr, args.wdr, output_path)\n",
    "#     save_model_info(output_path, args.idx, args.lr, args.wdr)\n",
    "\n",
    "\n",
    "#     run_fold(args.idx)\n",
    "#     save_model_info(args.idx)\n"
   ]
  }
 ],
 "metadata": {
  "instance_type": "ml.t3.medium",
  "interpreter": {
   "hash": "ec1370a512a4612a2908be3c3c8b0de1730d00dc30104daff827065aeaf438b7"
  },
  "kernelspec": {
   "display_name": "Python 3 (ipykernel)",
   "language": "python",
   "name": "python3"
  },
  "language_info": {
   "codemirror_mode": {
    "name": "ipython",
    "version": 3
   },
   "file_extension": ".py",
   "mimetype": "text/x-python",
   "name": "python",
   "nbconvert_exporter": "python",
   "pygments_lexer": "ipython3",
   "version": "3.10.9"
  }
 },
 "nbformat": 4,
 "nbformat_minor": 4
}
