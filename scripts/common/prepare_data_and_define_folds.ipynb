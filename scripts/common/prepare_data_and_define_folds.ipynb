{
 "cells": [
  {
   "cell_type": "code",
   "execution_count": 1,
   "id": "d6385c4b",
   "metadata": {
    "execution": {
     "iopub.execute_input": "2022-08-06T22:25:45.444681Z",
     "iopub.status.busy": "2022-08-06T22:25:45.444196Z",
     "iopub.status.idle": "2022-08-06T22:25:46.763951Z",
     "shell.execute_reply": "2022-08-06T22:25:46.762993Z"
    },
    "papermill": {
     "duration": 1.33507,
     "end_time": "2022-08-06T22:25:46.766487",
     "exception": false,
     "start_time": "2022-08-06T22:25:45.431417",
     "status": "completed"
    },
    "tags": []
   },
   "outputs": [],
   "source": [
    "import cv2\n",
    "import matplotlib.pyplot as plt\n",
    "import os\n",
    "import pandas as pd\n",
    "from pathlib import Path\n",
    "import seaborn as sns\n",
    "import shutil\n",
    "from PIL import Image"
   ]
  },
  {
   "attachments": {},
   "cell_type": "markdown",
   "id": "90a29ef3",
   "metadata": {},
   "source": [
    "### Prepare directories"
   ]
  },
  {
   "cell_type": "code",
   "execution_count": 8,
   "id": "8686061c",
   "metadata": {},
   "outputs": [
    {
     "name": "stdout",
     "output_type": "stream",
     "text": [
      "Current working directory: /home/miki/repos/uz/breakhis/vcs/scripts/common\n",
      "Main directory: /home/miki/repos/uz/breakhis/vcs\n",
      "Input path: /home/miki/repos/uz/breakhis/vcs/breakhis\n",
      "Output path: /home/miki/repos/uz/breakhis/vcs/data/400x\n",
      "Output path original: /home/miki/repos/uz/breakhis/vcs/data/400x/original\n"
     ]
    }
   ],
   "source": [
    "preprocessing_scenarios = {\n",
    "    \"none\": None,\n",
    "    \"patches\": None,\n",
    "    \"patches_with_random_stride\": None,\n",
    "    \"patches_with_random_transformations\": None,\n",
    "    \"patches_with_filtered_out_background\": None,\n",
    "}\n",
    "\n",
    "chosen_scenario = \"patches\"\n",
    "zoom = 400\n",
    "\n",
    "cwd = Path().absolute()\n",
    "main_dir = Path().absolute().parent.parent\n",
    "input_path = main_dir / 'breakhis'\n",
    "output_path = main_dir / 'data' / f'{zoom}x'\n",
    "output_path_original = output_path / 'original'\n",
    "\n",
    "print(f\"Current working directory: {cwd}\")\n",
    "print(f\"Main directory: {main_dir}\")\n",
    "print(f\"Input path: {input_path}\")\n",
    "print(f\"Output path: {output_path}\")\n",
    "print(f\"Output path original: {output_path_original}\")\n",
    "\n"
   ]
  },
  {
   "cell_type": "code",
   "execution_count": 19,
   "id": "c65e677d",
   "metadata": {},
   "outputs": [],
   "source": [
    "shutil.rmtree(output_path, ignore_errors=True)\n"
   ]
  },
  {
   "cell_type": "code",
   "execution_count": 20,
   "id": "a668139f",
   "metadata": {},
   "outputs": [],
   "source": [
    "os.makedirs(output_path_original)\n",
    "os.makedirs(output_path_original / 'benign')\n",
    "os.makedirs(output_path_original / 'malignant')\n"
   ]
  },
  {
   "attachments": {},
   "cell_type": "markdown",
   "id": "a9038f9b",
   "metadata": {},
   "source": [
    "### Load data"
   ]
  },
  {
   "cell_type": "code",
   "execution_count": 39,
   "id": "2534a5a3",
   "metadata": {
    "execution": {
     "iopub.execute_input": "2022-08-06T22:25:51.911891Z",
     "iopub.status.busy": "2022-08-06T22:25:51.911616Z",
     "iopub.status.idle": "2022-08-06T22:25:52.010172Z",
     "shell.execute_reply": "2022-08-06T22:25:52.009231Z"
    },
    "papermill": {
     "duration": 0.113244,
     "end_time": "2022-08-06T22:25:52.012404",
     "exception": false,
     "start_time": "2022-08-06T22:25:51.899160",
     "status": "completed"
    },
    "tags": []
   },
   "outputs": [
    {
     "data": {
      "text/html": [
       "<div>\n",
       "<style scoped>\n",
       "    .dataframe tbody tr th:only-of-type {\n",
       "        vertical-align: middle;\n",
       "    }\n",
       "\n",
       "    .dataframe tbody tr th {\n",
       "        vertical-align: top;\n",
       "    }\n",
       "\n",
       "    .dataframe thead th {\n",
       "        text-align: right;\n",
       "    }\n",
       "</style>\n",
       "<table border=\"1\" class=\"dataframe\">\n",
       "  <thead>\n",
       "    <tr style=\"text-align: right;\">\n",
       "      <th></th>\n",
       "      <th>fold</th>\n",
       "      <th>mag</th>\n",
       "      <th>grp</th>\n",
       "      <th>path</th>\n",
       "    </tr>\n",
       "  </thead>\n",
       "  <tbody>\n",
       "    <tr>\n",
       "      <th>0</th>\n",
       "      <td>1</td>\n",
       "      <td>100</td>\n",
       "      <td>train</td>\n",
       "      <td>BreaKHis_v1/histology_slides/breast/benign/SOB...</td>\n",
       "    </tr>\n",
       "    <tr>\n",
       "      <th>1</th>\n",
       "      <td>1</td>\n",
       "      <td>100</td>\n",
       "      <td>train</td>\n",
       "      <td>BreaKHis_v1/histology_slides/breast/benign/SOB...</td>\n",
       "    </tr>\n",
       "    <tr>\n",
       "      <th>2</th>\n",
       "      <td>1</td>\n",
       "      <td>100</td>\n",
       "      <td>train</td>\n",
       "      <td>BreaKHis_v1/histology_slides/breast/benign/SOB...</td>\n",
       "    </tr>\n",
       "    <tr>\n",
       "      <th>3</th>\n",
       "      <td>1</td>\n",
       "      <td>100</td>\n",
       "      <td>train</td>\n",
       "      <td>BreaKHis_v1/histology_slides/breast/benign/SOB...</td>\n",
       "    </tr>\n",
       "    <tr>\n",
       "      <th>4</th>\n",
       "      <td>1</td>\n",
       "      <td>100</td>\n",
       "      <td>train</td>\n",
       "      <td>BreaKHis_v1/histology_slides/breast/benign/SOB...</td>\n",
       "    </tr>\n",
       "  </tbody>\n",
       "</table>\n",
       "</div>"
      ],
      "text/plain": [
       "   fold  mag    grp                                               path\n",
       "0     1  100  train  BreaKHis_v1/histology_slides/breast/benign/SOB...\n",
       "1     1  100  train  BreaKHis_v1/histology_slides/breast/benign/SOB...\n",
       "2     1  100  train  BreaKHis_v1/histology_slides/breast/benign/SOB...\n",
       "3     1  100  train  BreaKHis_v1/histology_slides/breast/benign/SOB...\n",
       "4     1  100  train  BreaKHis_v1/histology_slides/breast/benign/SOB..."
      ]
     },
     "execution_count": 39,
     "metadata": {},
     "output_type": "execute_result"
    }
   ],
   "source": [
    "input_data_df = pd.read_csv(input_path / 'Folds.csv').rename(columns={\"filename\": \"path\"})\n",
    "\n",
    "input_data_df.head()"
   ]
  },
  {
   "cell_type": "code",
   "execution_count": 40,
   "id": "3d2e14ef",
   "metadata": {
    "execution": {
     "iopub.execute_input": "2022-08-06T22:25:52.137484Z",
     "iopub.status.busy": "2022-08-06T22:25:52.136730Z",
     "iopub.status.idle": "2022-08-06T22:25:52.144300Z",
     "shell.execute_reply": "2022-08-06T22:25:52.143374Z"
    },
    "papermill": {
     "duration": 0.022682,
     "end_time": "2022-08-06T22:25:52.146259",
     "exception": false,
     "start_time": "2022-08-06T22:25:52.123577",
     "status": "completed"
    },
    "tags": []
   },
   "outputs": [
    {
     "data": {
      "text/plain": [
       "'BreaKHis_v1/histology_slides/breast/benign/SOB/adenosis/SOB_B_A_14-22549AB/100X/SOB_B_A-14-22549AB-100-002.png'"
      ]
     },
     "execution_count": 40,
     "metadata": {},
     "output_type": "execute_result"
    }
   ],
   "source": [
    "input_data_df['path'][1]"
   ]
  },
  {
   "cell_type": "code",
   "execution_count": 41,
   "id": "b4b454ca",
   "metadata": {
    "execution": {
     "iopub.execute_input": "2022-08-06T22:25:52.196101Z",
     "iopub.status.busy": "2022-08-06T22:25:52.195230Z",
     "iopub.status.idle": "2022-08-06T22:25:52.244030Z",
     "shell.execute_reply": "2022-08-06T22:25:52.243099Z"
    },
    "papermill": {
     "duration": 0.063497,
     "end_time": "2022-08-06T22:25:52.246068",
     "exception": false,
     "start_time": "2022-08-06T22:25:52.182571",
     "status": "completed"
    },
    "tags": []
   },
   "outputs": [
    {
     "data": {
      "text/html": [
       "<div>\n",
       "<style scoped>\n",
       "    .dataframe tbody tr th:only-of-type {\n",
       "        vertical-align: middle;\n",
       "    }\n",
       "\n",
       "    .dataframe tbody tr th {\n",
       "        vertical-align: top;\n",
       "    }\n",
       "\n",
       "    .dataframe thead th {\n",
       "        text-align: right;\n",
       "    }\n",
       "</style>\n",
       "<table border=\"1\" class=\"dataframe\">\n",
       "  <thead>\n",
       "    <tr style=\"text-align: right;\">\n",
       "      <th></th>\n",
       "      <th>fold</th>\n",
       "      <th>mag</th>\n",
       "      <th>grp</th>\n",
       "      <th>path</th>\n",
       "      <th>filename</th>\n",
       "      <th>label</th>\n",
       "      <th>patient_id</th>\n",
       "    </tr>\n",
       "  </thead>\n",
       "  <tbody>\n",
       "    <tr>\n",
       "      <th>0</th>\n",
       "      <td>1</td>\n",
       "      <td>100</td>\n",
       "      <td>train</td>\n",
       "      <td>BreaKHis_v1/histology_slides/breast/benign/SOB...</td>\n",
       "      <td>SOB_B_A-14-22549AB-100-001.png</td>\n",
       "      <td>benign</td>\n",
       "      <td>SOB_B_A_14-22549AB</td>\n",
       "    </tr>\n",
       "    <tr>\n",
       "      <th>1</th>\n",
       "      <td>1</td>\n",
       "      <td>100</td>\n",
       "      <td>train</td>\n",
       "      <td>BreaKHis_v1/histology_slides/breast/benign/SOB...</td>\n",
       "      <td>SOB_B_A-14-22549AB-100-002.png</td>\n",
       "      <td>benign</td>\n",
       "      <td>SOB_B_A_14-22549AB</td>\n",
       "    </tr>\n",
       "    <tr>\n",
       "      <th>2</th>\n",
       "      <td>1</td>\n",
       "      <td>100</td>\n",
       "      <td>train</td>\n",
       "      <td>BreaKHis_v1/histology_slides/breast/benign/SOB...</td>\n",
       "      <td>SOB_B_A-14-22549AB-100-003.png</td>\n",
       "      <td>benign</td>\n",
       "      <td>SOB_B_A_14-22549AB</td>\n",
       "    </tr>\n",
       "    <tr>\n",
       "      <th>3</th>\n",
       "      <td>1</td>\n",
       "      <td>100</td>\n",
       "      <td>train</td>\n",
       "      <td>BreaKHis_v1/histology_slides/breast/benign/SOB...</td>\n",
       "      <td>SOB_B_A-14-22549AB-100-004.png</td>\n",
       "      <td>benign</td>\n",
       "      <td>SOB_B_A_14-22549AB</td>\n",
       "    </tr>\n",
       "    <tr>\n",
       "      <th>4</th>\n",
       "      <td>1</td>\n",
       "      <td>100</td>\n",
       "      <td>train</td>\n",
       "      <td>BreaKHis_v1/histology_slides/breast/benign/SOB...</td>\n",
       "      <td>SOB_B_A-14-22549AB-100-005.png</td>\n",
       "      <td>benign</td>\n",
       "      <td>SOB_B_A_14-22549AB</td>\n",
       "    </tr>\n",
       "  </tbody>\n",
       "</table>\n",
       "</div>"
      ],
      "text/plain": [
       "   fold  mag    grp                                               path  \\\n",
       "0     1  100  train  BreaKHis_v1/histology_slides/breast/benign/SOB...   \n",
       "1     1  100  train  BreaKHis_v1/histology_slides/breast/benign/SOB...   \n",
       "2     1  100  train  BreaKHis_v1/histology_slides/breast/benign/SOB...   \n",
       "3     1  100  train  BreaKHis_v1/histology_slides/breast/benign/SOB...   \n",
       "4     1  100  train  BreaKHis_v1/histology_slides/breast/benign/SOB...   \n",
       "\n",
       "                         filename   label          patient_id  \n",
       "0  SOB_B_A-14-22549AB-100-001.png  benign  SOB_B_A_14-22549AB  \n",
       "1  SOB_B_A-14-22549AB-100-002.png  benign  SOB_B_A_14-22549AB  \n",
       "2  SOB_B_A-14-22549AB-100-003.png  benign  SOB_B_A_14-22549AB  \n",
       "3  SOB_B_A-14-22549AB-100-004.png  benign  SOB_B_A_14-22549AB  \n",
       "4  SOB_B_A-14-22549AB-100-005.png  benign  SOB_B_A_14-22549AB  "
      ]
     },
     "execution_count": 41,
     "metadata": {},
     "output_type": "execute_result"
    }
   ],
   "source": [
    "input_data_df['filename'] = input_data_df['path'].apply(\n",
    "    lambda x: x.split(\"/\")[-1])\n",
    "input_data_df[\"label\"] = input_data_df['path'].apply(lambda x: x.split(\"/\")[3])\n",
    "input_data_df[\"patient_id\"] = input_data_df['path'].apply(\n",
    "    lambda x: x.split(\"/\")[-3])\n",
    "\n",
    "input_data_df.head()"
   ]
  },
  {
   "cell_type": "code",
   "execution_count": 42,
   "id": "dcf667c3",
   "metadata": {},
   "outputs": [],
   "source": [
    "input_data_df = input_data_df[input_data_df.mag == zoom]"
   ]
  },
  {
   "attachments": {},
   "cell_type": "markdown",
   "id": "1b85eb4e",
   "metadata": {
    "papermill": {
     "duration": 0.011964,
     "end_time": "2022-08-06T22:25:52.308803",
     "exception": false,
     "start_time": "2022-08-06T22:25:52.296839",
     "status": "completed"
    },
    "tags": []
   },
   "source": [
    "### Copy data to new directory\n",
    "                "
   ]
  },
  {
   "cell_type": "code",
   "execution_count": 25,
   "id": "eae7f995",
   "metadata": {},
   "outputs": [],
   "source": [
    "for i in range(len(input_data_df)):\n",
    "    src = input_path / 'BreaKHis_v1' / input_data_df['path'].iloc[i]\n",
    "    dest = output_path_original / \\\n",
    "        input_data_df[\"label\"].iloc[i] / str(src).split(\"/\")[-1]\n",
    "    shutil.copyfile(src, dest)"
   ]
  },
  {
   "cell_type": "code",
   "execution_count": 43,
   "id": "155ab25e",
   "metadata": {
    "execution": {
     "iopub.execute_input": "2022-08-06T22:30:57.238355Z",
     "iopub.status.busy": "2022-08-06T22:30:57.237712Z",
     "iopub.status.idle": "2022-08-06T22:30:57.253861Z",
     "shell.execute_reply": "2022-08-06T22:30:57.252253Z"
    },
    "papermill": {
     "duration": 0.033094,
     "end_time": "2022-08-06T22:30:57.256068",
     "exception": false,
     "start_time": "2022-08-06T22:30:57.222974",
     "status": "completed"
    },
    "tags": []
   },
   "outputs": [
    {
     "name": "stdout",
     "output_type": "stream",
     "text": [
      "Benign: 588\n",
      "Malignant: 1232\n"
     ]
    }
   ],
   "source": [
    "print(f\"Benign: {len(os.listdir(output_path_original / 'benign'))}\")\n",
    "print(f\"Malignant: {len(os.listdir(output_path_original / 'malignant'))}\")\n"
   ]
  },
  {
   "attachments": {},
   "cell_type": "markdown",
   "id": "39c7a58f",
   "metadata": {
    "papermill": {
     "duration": 0.01276,
     "end_time": "2022-08-06T22:30:57.282868",
     "exception": false,
     "start_time": "2022-08-06T22:30:57.270108",
     "status": "completed"
    },
    "tags": []
   },
   "source": [
    "- All the images are now stores in single folder."
   ]
  },
  {
   "cell_type": "code",
   "execution_count": 44,
   "id": "d4320e46",
   "metadata": {
    "execution": {
     "iopub.execute_input": "2022-08-06T22:30:57.309786Z",
     "iopub.status.busy": "2022-08-06T22:30:57.308947Z",
     "iopub.status.idle": "2022-08-06T22:30:57.384289Z",
     "shell.execute_reply": "2022-08-06T22:30:57.383045Z"
    },
    "papermill": {
     "duration": 0.09127,
     "end_time": "2022-08-06T22:30:57.386434",
     "exception": false,
     "start_time": "2022-08-06T22:30:57.295164",
     "status": "completed"
    },
    "tags": []
   },
   "outputs": [],
   "source": [
    "input_data_df['file_loc'] = input_data_df['label'] + \\\n",
    "    \"_\" + input_data_df['filename']\n",
    "input_data_df['class'] = input_data_df['label'].apply(\n",
    "    lambda x: 0 if x == 'benign' else 1)\n"
   ]
  },
  {
   "cell_type": "code",
   "execution_count": 45,
   "id": "c33edf07",
   "metadata": {
    "execution": {
     "iopub.execute_input": "2022-08-06T22:30:57.414764Z",
     "iopub.status.busy": "2022-08-06T22:30:57.413049Z",
     "iopub.status.idle": "2022-08-06T22:30:57.430367Z",
     "shell.execute_reply": "2022-08-06T22:30:57.429461Z"
    },
    "papermill": {
     "duration": 0.033036,
     "end_time": "2022-08-06T22:30:57.432290",
     "exception": false,
     "start_time": "2022-08-06T22:30:57.399254",
     "status": "completed"
    },
    "tags": []
   },
   "outputs": [
    {
     "data": {
      "text/html": [
       "<div>\n",
       "<style scoped>\n",
       "    .dataframe tbody tr th:only-of-type {\n",
       "        vertical-align: middle;\n",
       "    }\n",
       "\n",
       "    .dataframe tbody tr th {\n",
       "        vertical-align: top;\n",
       "    }\n",
       "\n",
       "    .dataframe thead th {\n",
       "        text-align: right;\n",
       "    }\n",
       "</style>\n",
       "<table border=\"1\" class=\"dataframe\">\n",
       "  <thead>\n",
       "    <tr style=\"text-align: right;\">\n",
       "      <th></th>\n",
       "      <th>fold</th>\n",
       "      <th>mag</th>\n",
       "      <th>grp</th>\n",
       "      <th>path</th>\n",
       "      <th>filename</th>\n",
       "      <th>label</th>\n",
       "      <th>patient_id</th>\n",
       "      <th>file_loc</th>\n",
       "      <th>class</th>\n",
       "    </tr>\n",
       "  </thead>\n",
       "  <tbody>\n",
       "    <tr>\n",
       "      <th>91</th>\n",
       "      <td>1</td>\n",
       "      <td>400</td>\n",
       "      <td>train</td>\n",
       "      <td>BreaKHis_v1/histology_slides/breast/benign/SOB...</td>\n",
       "      <td>SOB_B_A-14-22549AB-400-001.png</td>\n",
       "      <td>benign</td>\n",
       "      <td>SOB_B_A_14-22549AB</td>\n",
       "      <td>benign_SOB_B_A-14-22549AB-400-001.png</td>\n",
       "      <td>0</td>\n",
       "    </tr>\n",
       "    <tr>\n",
       "      <th>92</th>\n",
       "      <td>1</td>\n",
       "      <td>400</td>\n",
       "      <td>train</td>\n",
       "      <td>BreaKHis_v1/histology_slides/breast/benign/SOB...</td>\n",
       "      <td>SOB_B_A-14-22549AB-400-002.png</td>\n",
       "      <td>benign</td>\n",
       "      <td>SOB_B_A_14-22549AB</td>\n",
       "      <td>benign_SOB_B_A-14-22549AB-400-002.png</td>\n",
       "      <td>0</td>\n",
       "    </tr>\n",
       "    <tr>\n",
       "      <th>93</th>\n",
       "      <td>1</td>\n",
       "      <td>400</td>\n",
       "      <td>train</td>\n",
       "      <td>BreaKHis_v1/histology_slides/breast/benign/SOB...</td>\n",
       "      <td>SOB_B_A-14-22549AB-400-003.png</td>\n",
       "      <td>benign</td>\n",
       "      <td>SOB_B_A_14-22549AB</td>\n",
       "      <td>benign_SOB_B_A-14-22549AB-400-003.png</td>\n",
       "      <td>0</td>\n",
       "    </tr>\n",
       "    <tr>\n",
       "      <th>94</th>\n",
       "      <td>1</td>\n",
       "      <td>400</td>\n",
       "      <td>train</td>\n",
       "      <td>BreaKHis_v1/histology_slides/breast/benign/SOB...</td>\n",
       "      <td>SOB_B_A-14-22549AB-400-004.png</td>\n",
       "      <td>benign</td>\n",
       "      <td>SOB_B_A_14-22549AB</td>\n",
       "      <td>benign_SOB_B_A-14-22549AB-400-004.png</td>\n",
       "      <td>0</td>\n",
       "    </tr>\n",
       "    <tr>\n",
       "      <th>95</th>\n",
       "      <td>1</td>\n",
       "      <td>400</td>\n",
       "      <td>train</td>\n",
       "      <td>BreaKHis_v1/histology_slides/breast/benign/SOB...</td>\n",
       "      <td>SOB_B_A-14-22549AB-400-005.png</td>\n",
       "      <td>benign</td>\n",
       "      <td>SOB_B_A_14-22549AB</td>\n",
       "      <td>benign_SOB_B_A-14-22549AB-400-005.png</td>\n",
       "      <td>0</td>\n",
       "    </tr>\n",
       "  </tbody>\n",
       "</table>\n",
       "</div>"
      ],
      "text/plain": [
       "    fold  mag    grp                                               path  \\\n",
       "91     1  400  train  BreaKHis_v1/histology_slides/breast/benign/SOB...   \n",
       "92     1  400  train  BreaKHis_v1/histology_slides/breast/benign/SOB...   \n",
       "93     1  400  train  BreaKHis_v1/histology_slides/breast/benign/SOB...   \n",
       "94     1  400  train  BreaKHis_v1/histology_slides/breast/benign/SOB...   \n",
       "95     1  400  train  BreaKHis_v1/histology_slides/breast/benign/SOB...   \n",
       "\n",
       "                          filename   label          patient_id  \\\n",
       "91  SOB_B_A-14-22549AB-400-001.png  benign  SOB_B_A_14-22549AB   \n",
       "92  SOB_B_A-14-22549AB-400-002.png  benign  SOB_B_A_14-22549AB   \n",
       "93  SOB_B_A-14-22549AB-400-003.png  benign  SOB_B_A_14-22549AB   \n",
       "94  SOB_B_A-14-22549AB-400-004.png  benign  SOB_B_A_14-22549AB   \n",
       "95  SOB_B_A-14-22549AB-400-005.png  benign  SOB_B_A_14-22549AB   \n",
       "\n",
       "                                 file_loc  class  \n",
       "91  benign_SOB_B_A-14-22549AB-400-001.png      0  \n",
       "92  benign_SOB_B_A-14-22549AB-400-002.png      0  \n",
       "93  benign_SOB_B_A-14-22549AB-400-003.png      0  \n",
       "94  benign_SOB_B_A-14-22549AB-400-004.png      0  \n",
       "95  benign_SOB_B_A-14-22549AB-400-005.png      0  "
      ]
     },
     "execution_count": 45,
     "metadata": {},
     "output_type": "execute_result"
    }
   ],
   "source": [
    "input_data_df.head()"
   ]
  },
  {
   "cell_type": "code",
   "execution_count": 46,
   "id": "3ca1c934",
   "metadata": {
    "execution": {
     "iopub.execute_input": "2022-08-06T22:30:57.822933Z",
     "iopub.status.busy": "2022-08-06T22:30:57.822601Z",
     "iopub.status.idle": "2022-08-06T22:30:57.847136Z",
     "shell.execute_reply": "2022-08-06T22:30:57.846041Z"
    },
    "papermill": {
     "duration": 0.04129,
     "end_time": "2022-08-06T22:30:57.849793",
     "exception": false,
     "start_time": "2022-08-06T22:30:57.808503",
     "status": "completed"
    },
    "tags": []
   },
   "outputs": [],
   "source": [
    "benign_df = input_data_df[input_data_df['label'] == 'benign']\n",
    "malignant_df = input_data_df[input_data_df['label'] == 'malignant']"
   ]
  },
  {
   "attachments": {},
   "cell_type": "markdown",
   "id": "6adf510f",
   "metadata": {
    "papermill": {
     "duration": 0.012862,
     "end_time": "2022-08-06T22:30:57.875995",
     "exception": false,
     "start_time": "2022-08-06T22:30:57.863133",
     "status": "completed"
    },
    "tags": []
   },
   "source": [
    "### Benign Samples"
   ]
  },
  {
   "cell_type": "code",
   "execution_count": null,
   "id": "8755af60",
   "metadata": {
    "execution": {
     "iopub.execute_input": "2022-08-06T22:30:57.903800Z",
     "iopub.status.busy": "2022-08-06T22:30:57.903265Z",
     "iopub.status.idle": "2022-08-06T22:31:03.754347Z",
     "shell.execute_reply": "2022-08-06T22:31:03.753170Z"
    },
    "papermill": {
     "duration": 5.885151,
     "end_time": "2022-08-06T22:31:03.774184",
     "exception": false,
     "start_time": "2022-08-06T22:30:57.889033",
     "status": "completed"
    },
    "tags": []
   },
   "outputs": [],
   "source": [
    "# plt.figure(figsize=(30, 10))\n",
    "# for i in range(0, 40):\n",
    "#     plt.subplot(4, 10, i+1)\n",
    "#     img = cv2.imread(os.path.join(\n",
    "#         output_path, benign_df['label'].iloc[i], benign_df['filename'].iloc[i]), 1)\n",
    "#     plt.imshow(img)\n"
   ]
  },
  {
   "attachments": {},
   "cell_type": "markdown",
   "id": "330c6ae3",
   "metadata": {
    "papermill": {
     "duration": 0.033857,
     "end_time": "2022-08-06T22:31:03.842146",
     "exception": false,
     "start_time": "2022-08-06T22:31:03.808289",
     "status": "completed"
    },
    "tags": []
   },
   "source": [
    "### Malignant Samples"
   ]
  },
  {
   "cell_type": "code",
   "execution_count": null,
   "id": "eff80bb6",
   "metadata": {
    "execution": {
     "iopub.execute_input": "2022-08-06T22:31:03.910971Z",
     "iopub.status.busy": "2022-08-06T22:31:03.910609Z",
     "iopub.status.idle": "2022-08-06T22:31:09.638094Z",
     "shell.execute_reply": "2022-08-06T22:31:09.637237Z"
    },
    "papermill": {
     "duration": 5.779011,
     "end_time": "2022-08-06T22:31:09.654777",
     "exception": false,
     "start_time": "2022-08-06T22:31:03.875766",
     "status": "completed"
    },
    "tags": []
   },
   "outputs": [],
   "source": [
    "# plt.figure(figsize=(30, 10))\n",
    "# for i in range(0, 40):\n",
    "#     plt.subplot(4, 10, i+1)\n",
    "#     img = cv2.imread(os.path.join(\n",
    "#         output_path, malignant_df['label'].iloc[i], malignant_df['filename'].iloc[i]), 1)\n",
    "#     plt.imshow(img)\n"
   ]
  },
  {
   "attachments": {},
   "cell_type": "markdown",
   "id": "c9ac9b3b",
   "metadata": {
    "papermill": {
     "duration": 0.059473,
     "end_time": "2022-08-06T22:31:09.773630",
     "exception": false,
     "start_time": "2022-08-06T22:31:09.714157",
     "status": "completed"
    },
    "tags": []
   },
   "source": [
    "**Findings:**\n",
    "\n",
    "- From the above images there is very little to no difference between malignant and benign samples.\n",
    "- This might be because we are not the pathologists, That's the original purpose of the detection system.\n",
    "- Thus it makes it easy in the absence of actual pathologists."
   ]
  },
  {
   "cell_type": "code",
   "execution_count": 47,
   "id": "c0d28169",
   "metadata": {
    "execution": {
     "iopub.execute_input": "2022-08-06T22:31:09.887977Z",
     "iopub.status.busy": "2022-08-06T22:31:09.887449Z",
     "iopub.status.idle": "2022-08-06T22:31:09.910066Z",
     "shell.execute_reply": "2022-08-06T22:31:09.909182Z"
    },
    "papermill": {
     "duration": 0.082865,
     "end_time": "2022-08-06T22:31:09.912162",
     "exception": false,
     "start_time": "2022-08-06T22:31:09.829297",
     "status": "completed"
    },
    "tags": []
   },
   "outputs": [
    {
     "data": {
      "text/html": [
       "<div>\n",
       "<style scoped>\n",
       "    .dataframe tbody tr th:only-of-type {\n",
       "        vertical-align: middle;\n",
       "    }\n",
       "\n",
       "    .dataframe tbody tr th {\n",
       "        vertical-align: top;\n",
       "    }\n",
       "\n",
       "    .dataframe thead th {\n",
       "        text-align: right;\n",
       "    }\n",
       "</style>\n",
       "<table border=\"1\" class=\"dataframe\">\n",
       "  <thead>\n",
       "    <tr style=\"text-align: right;\">\n",
       "      <th></th>\n",
       "      <th>file_loc</th>\n",
       "    </tr>\n",
       "  </thead>\n",
       "  <tbody>\n",
       "    <tr>\n",
       "      <th>0</th>\n",
       "      <td>data/400x/original/benign/SOB_B_A-14-22549G-40...</td>\n",
       "    </tr>\n",
       "    <tr>\n",
       "      <th>1</th>\n",
       "      <td>data/400x/original/benign/SOB_B_TA-14-3411F-40...</td>\n",
       "    </tr>\n",
       "    <tr>\n",
       "      <th>2</th>\n",
       "      <td>data/400x/original/benign/SOB_B_F-14-14134E-40...</td>\n",
       "    </tr>\n",
       "    <tr>\n",
       "      <th>3</th>\n",
       "      <td>data/400x/original/benign/SOB_B_TA-14-3411F-40...</td>\n",
       "    </tr>\n",
       "    <tr>\n",
       "      <th>4</th>\n",
       "      <td>data/400x/original/benign/SOB_B_TA-14-19854C-4...</td>\n",
       "    </tr>\n",
       "  </tbody>\n",
       "</table>\n",
       "</div>"
      ],
      "text/plain": [
       "                                            file_loc\n",
       "0  data/400x/original/benign/SOB_B_A-14-22549G-40...\n",
       "1  data/400x/original/benign/SOB_B_TA-14-3411F-40...\n",
       "2  data/400x/original/benign/SOB_B_F-14-14134E-40...\n",
       "3  data/400x/original/benign/SOB_B_TA-14-3411F-40...\n",
       "4  data/400x/original/benign/SOB_B_TA-14-19854C-4..."
      ]
     },
     "execution_count": 47,
     "metadata": {},
     "output_type": "execute_result"
    }
   ],
   "source": [
    "# Creating a new data frame with the file loc as its index, label and class of the patients as its columns.\n",
    "benign_files = os.listdir(output_path_original / 'benign')\n",
    "benign_files = [f\"data/{zoom}x/original/benign/\" +\n",
    "                file_name for file_name in benign_files]\n",
    "malignant_files = os.listdir(output_path_original / 'malignant')\n",
    "malignant_files = [f\"data/{zoom}x/original/malignant/\" +\n",
    "                   file_name for file_name in malignant_files]\n",
    "\n",
    "original_df = pd.DataFrame(benign_files + malignant_files).rename(columns={0: 'file_loc'})\n",
    "original_df.head()"
   ]
  },
  {
   "cell_type": "code",
   "execution_count": 48,
   "id": "87ec87a5",
   "metadata": {},
   "outputs": [
    {
     "data": {
      "text/html": [
       "<div>\n",
       "<style scoped>\n",
       "    .dataframe tbody tr th:only-of-type {\n",
       "        vertical-align: middle;\n",
       "    }\n",
       "\n",
       "    .dataframe tbody tr th {\n",
       "        vertical-align: top;\n",
       "    }\n",
       "\n",
       "    .dataframe thead th {\n",
       "        text-align: right;\n",
       "    }\n",
       "</style>\n",
       "<table border=\"1\" class=\"dataframe\">\n",
       "  <thead>\n",
       "    <tr style=\"text-align: right;\">\n",
       "      <th></th>\n",
       "      <th>label</th>\n",
       "      <th>label_str</th>\n",
       "      <th>patient_id</th>\n",
       "    </tr>\n",
       "    <tr>\n",
       "      <th>file_loc</th>\n",
       "      <th></th>\n",
       "      <th></th>\n",
       "      <th></th>\n",
       "    </tr>\n",
       "  </thead>\n",
       "  <tbody>\n",
       "    <tr>\n",
       "      <th>data/400x/original/benign/SOB_B_A-14-22549G-400-011.png</th>\n",
       "      <td>0</td>\n",
       "      <td>benign</td>\n",
       "      <td>SOB_B_A-14-22549G</td>\n",
       "    </tr>\n",
       "    <tr>\n",
       "      <th>data/400x/original/benign/SOB_B_TA-14-3411F-400-012.png</th>\n",
       "      <td>0</td>\n",
       "      <td>benign</td>\n",
       "      <td>SOB_B_TA-14-3411F</td>\n",
       "    </tr>\n",
       "    <tr>\n",
       "      <th>data/400x/original/benign/SOB_B_F-14-14134E-400-003.png</th>\n",
       "      <td>0</td>\n",
       "      <td>benign</td>\n",
       "      <td>SOB_B_F-14-14134E</td>\n",
       "    </tr>\n",
       "    <tr>\n",
       "      <th>data/400x/original/benign/SOB_B_TA-14-3411F-400-017.png</th>\n",
       "      <td>0</td>\n",
       "      <td>benign</td>\n",
       "      <td>SOB_B_TA-14-3411F</td>\n",
       "    </tr>\n",
       "    <tr>\n",
       "      <th>data/400x/original/benign/SOB_B_TA-14-19854C-400-012.png</th>\n",
       "      <td>0</td>\n",
       "      <td>benign</td>\n",
       "      <td>SOB_B_TA-14-19854C</td>\n",
       "    </tr>\n",
       "  </tbody>\n",
       "</table>\n",
       "</div>"
      ],
      "text/plain": [
       "                                                    label label_str  \\\n",
       "file_loc                                                              \n",
       "data/400x/original/benign/SOB_B_A-14-22549G-400...      0    benign   \n",
       "data/400x/original/benign/SOB_B_TA-14-3411F-400...      0    benign   \n",
       "data/400x/original/benign/SOB_B_F-14-14134E-400...      0    benign   \n",
       "data/400x/original/benign/SOB_B_TA-14-3411F-400...      0    benign   \n",
       "data/400x/original/benign/SOB_B_TA-14-19854C-40...      0    benign   \n",
       "\n",
       "                                                            patient_id  \n",
       "file_loc                                                                \n",
       "data/400x/original/benign/SOB_B_A-14-22549G-400...   SOB_B_A-14-22549G  \n",
       "data/400x/original/benign/SOB_B_TA-14-3411F-400...   SOB_B_TA-14-3411F  \n",
       "data/400x/original/benign/SOB_B_F-14-14134E-400...   SOB_B_F-14-14134E  \n",
       "data/400x/original/benign/SOB_B_TA-14-3411F-400...   SOB_B_TA-14-3411F  \n",
       "data/400x/original/benign/SOB_B_TA-14-19854C-40...  SOB_B_TA-14-19854C  "
      ]
     },
     "execution_count": 48,
     "metadata": {},
     "output_type": "execute_result"
    }
   ],
   "source": [
    "\n",
    "original_df['label'] = original_df['file_loc'].apply(\n",
    "    lambda x: 0 if x.split('/')[-1].split(\"_\")[1] == 'B' else 1)\n",
    "original_df['label_str'] = original_df['file_loc'].apply(\n",
    "    lambda x: \"benign\" if x.split('/')[-1].split(\"_\")[1] == 'B' else \"malignant\")\n",
    "\n",
    "original_df['patient_id'] = original_df['file_loc'].apply(\n",
    "    lambda x: \"-\".join(x.split(\"-\")[:3]).split(\"/\")[-1])\n",
    "original_df.set_index(\"file_loc\", inplace=True)\n",
    "\n",
    "original_df.head()"
   ]
  },
  {
   "cell_type": "markdown",
   "id": "fa709fbf",
   "metadata": {},
   "source": [
    "### Apply data-preparation scenarios"
   ]
  },
  {
   "attachments": {},
   "cell_type": "markdown",
   "id": "e2a05d8c",
   "metadata": {},
   "source": [
    "#### Divide images into 224x224 patches"
   ]
  },
  {
   "cell_type": "code",
   "execution_count": 122,
   "id": "3f0cb827",
   "metadata": {},
   "outputs": [],
   "source": [
    "def patches(original_df):\n",
    "    \"\"\"\n",
    "    Update the dataframe to include patches instead of original images.\n",
    "\n",
    "    :param original_df: Original dataframe.\n",
    "    :return: Updated dataframe.\n",
    "    \"\"\"\n",
    "\n",
    "    patch_size=224\n",
    "    stride=224\n",
    "\n",
    "    # Create a list to store the dataframes for the patches\n",
    "    patch_dfs = []\n",
    "\n",
    "    # Loop over each row in the dataframe\n",
    "    for idx, row in original_df.iterrows():\n",
    "        # Load the image to get its size\n",
    "        # img = Image.open(idx)  # idx is the file_loc, which is the index of the dataframe\n",
    "        img = Image.open(str(main_dir / idx))  # idx is the file_loc, which is the index of the dataframe\n",
    "\n",
    "        # Get the size of the image\n",
    "        width, height = img.size\n",
    "\n",
    "        # Calculate the number of patches in x and y direction\n",
    "        num_patches_x = width // stride\n",
    "        num_patches_y = height // stride\n",
    "\n",
    "        # Loop over the patches\n",
    "        for i in range(num_patches_x):\n",
    "            for j in range(num_patches_y):\n",
    "\n",
    "                # Calculate the coordinates of the patch\n",
    "                left = i * stride\n",
    "                upper = j * stride\n",
    "                right = left + patch_size\n",
    "                lower = upper + patch_size\n",
    "\n",
    "                # Extract the patch from the image\n",
    "                patch = img.crop((left, upper, right, lower))\n",
    "\n",
    "                # Update the filename and path\n",
    "                base_filename = os.path.splitext(idx)[0]\n",
    "                new_filename = f\"{base_filename}_{i}_{j}.png\".replace(\"original\", \"patches\")\n",
    "\n",
    "                # Save the patch\n",
    "                patch.save(str(main_dir / new_filename))\n",
    "\n",
    "                # Create a new dataframe for the patch, copying all the information from the original image\n",
    "                new_df = pd.DataFrame([row.values], columns=row.index, index=[new_filename])\n",
    "\n",
    "                # Add the new dataframe to the list of patch dataframes\n",
    "                patch_dfs.append(new_df)\n",
    "        \n",
    "    # Concatenate all the patch dataframes\n",
    "    df = pd.concat(patch_dfs)\n",
    "    df.index.name = 'file_loc'\n",
    "    return df\n"
   ]
  },
  {
   "cell_type": "code",
   "execution_count": 123,
   "id": "efc5c1f8",
   "metadata": {},
   "outputs": [],
   "source": [
    "preprocessing_scenarios[\"patches\"] = patches\n",
    "\n",
    "datasets = {\"original\": {\"df\": original_df, \"path\": output_path_original}}\n",
    "for scenario_name, scenario_func in preprocessing_scenarios.items():\n",
    "    if scenario_func is not None:\n",
    "        shutil.rmtree(output_path / scenario_name, ignore_errors=True)\n",
    "        os.makedirs(output_path / scenario_name)\n",
    "        os.makedirs(output_path / scenario_name / 'benign')\n",
    "        os.makedirs(output_path / scenario_name / 'malignant')\n",
    "        datasets[scenario_name] = {\"df\": scenario_func(original_df), \"path\": output_path / scenario_name}"
   ]
  },
  {
   "cell_type": "markdown",
   "id": "29ab17fc",
   "metadata": {},
   "source": [
    "### Divide dataset into folds"
   ]
  },
  {
   "cell_type": "code",
   "execution_count": 127,
   "id": "bb5e8d88",
   "metadata": {},
   "outputs": [],
   "source": [
    "import numpy as np\n",
    "from collections import Counter\n",
    "from sklearn.utils import shuffle\n",
    "\n",
    "def intersection(lst1, lst2):\n",
    "    return list(set(lst1) & set(lst2))\n",
    "\n",
    "def map_nested_indices(nested_indices, original_indices):\n",
    "    return original_indices[nested_indices]\n",
    "\n",
    "\n",
    "class StratifiedGroupKFold:\n",
    "    def __init__(self, n_splits=3, random_state=None):\n",
    "        self.n_splits = n_splits\n",
    "        self.random_state = random_state\n",
    "        self.used_group_ids = []\n",
    "\n",
    "    def _fill_bucket(self, bucket, class_counts, group_ids, y):\n",
    "        for group_id, label in zip(group_ids, y):\n",
    "            if group_id in self.used_group_ids:\n",
    "                continue\n",
    "            if class_counts[label] > 0:\n",
    "                group_indices = np.where(group_ids == group_id)[0]\n",
    "                bucket[label].extend(group_indices)\n",
    "                class_counts[label] -= len(group_indices)\n",
    "                self.used_group_ids.append(group_id)\n",
    "\n",
    "    def _create_buckets(self, group_ids, y, class_ratios):\n",
    "        total_samples = len(group_ids)\n",
    "        samples_per_split = total_samples // self.n_splits\n",
    "\n",
    "        buckets = []\n",
    "        for _ in range(self.n_splits):\n",
    "            bucket = {label: [] for label in class_ratios.keys()}\n",
    "            class_counts = {label: int(samples_per_split * ratio)\n",
    "                            for label, ratio in class_ratios.items()}\n",
    "            self._fill_bucket(bucket, class_counts, group_ids, y)\n",
    "            buckets.append(bucket)\n",
    "\n",
    "        return buckets\n",
    "\n",
    "    def _rotate_buckets(self, buckets):\n",
    "        return buckets[-1:] + buckets[:-1]\n",
    "\n",
    "    def _get_indices(self, bucket, group_ids, y):\n",
    "        indices = []\n",
    "        for label, groups in bucket.items():\n",
    "            for group in groups:\n",
    "                group_indices = np.where(group_ids == group)[0]\n",
    "                label_indices = np.where(y == label)[0]\n",
    "                indices.extend(np.intersect1d(group_indices, label_indices))\n",
    "        return np.array(indices)\n",
    "\n",
    "    def split(self, X, y, group_ids):\n",
    "        index_map = np.arange(len(y))\n",
    "        group_ids_s, y_s, index_map = shuffle(\n",
    "            group_ids, y, index_map, random_state=self.random_state)\n",
    "\n",
    "        class_ratios = {label: count / len(y)\n",
    "                        for label, count in Counter(y).items()}\n",
    "        buckets = self._create_buckets(group_ids_s, y_s, class_ratios)\n",
    "\n",
    "        for _ in range(self.n_splits):\n",
    "            train_buckets = buckets[1:]\n",
    "            test_bucket = buckets[0]\n",
    "\n",
    "            train_indices = np.concatenate(\n",
    "                [np.array(bucket[label]) for bucket in train_buckets for label in bucket])\n",
    "            test_indices = np.concatenate(\n",
    "                [np.array(test_bucket[label]) for label in test_bucket])\n",
    "\n",
    "            train_indices = index_map[train_indices]\n",
    "            test_indices = index_map[test_indices]\n",
    "            \n",
    "            assert len(np.intersect1d(\n",
    "                np.unique(group_ids.iloc[train_indices]), np.unique(group_ids.iloc[test_indices]))) == 0\n",
    "\n",
    "            yield train_indices, test_indices\n",
    "            buckets = self._rotate_buckets(buckets)\n"
   ]
  },
  {
   "cell_type": "markdown",
   "id": "da3f46c1",
   "metadata": {},
   "source": [
    "##### Split to train&val + test subdatasets (test 20%)"
   ]
  },
  {
   "cell_type": "code",
   "execution_count": null,
   "id": "7114b2a9",
   "metadata": {},
   "outputs": [],
   "source": [
    "import json\n",
    "\n",
    "\n",
    "def create_folds(df, output_path, n_splits=5):\n",
    "    files = df['label']\n",
    "    labels = df['label']\n",
    "    patient_ids = df['patient_id']\n",
    "\n",
    "    # Divide whole dataset into train+val & test subsets ~80%-20% (stratified by label and patient_id)\n",
    "    sgfk = StratifiedGroupKFold(n_splits=n_splits, random_state=42)\n",
    "    train_val_index, test_index = next(sgfk.split(files, labels, patient_ids))\n",
    "\n",
    "    df.iloc[test_index].to_csv(os.path.join(output_path, \"test.csv\"))\n",
    "\n",
    "    train_val_files = df['label'].iloc[train_val_index]\n",
    "    train_val_labels = df['label'].iloc[train_val_index]\n",
    "    train_val_patient_ids = df['patient_id'].iloc[train_val_index]\n",
    "\n",
    "    # Divide train+val into train & val subsets ~80%-20% (stratified by label and patient_id)\n",
    "    sgfk = StratifiedGroupKFold(n_splits=n_splits, random_state=42)\n",
    "\n",
    "    folds = sgfk.split(train_val_files, train_val_labels, train_val_patient_ids)\n",
    "    \n",
    "    print(f\"Zoom: {zoom}x\")\n",
    "    print(f\"output path: {output_path}\\n\")\n",
    "\n",
    "    classes_balance_metadata = {}\n",
    "    def check_balance(df, index, name):\n",
    "        m_len = len(df.iloc[index][df.iloc[index].label == 1])\n",
    "        b_len = len(df.iloc[index][df.iloc[index].label == 0])\n",
    "        mp = len(df.iloc[index][df.iloc[index].label == 1]) / len(df.iloc[index])\n",
    "        bp = len(df.iloc[index][df.iloc[index].label == 0]) / len(df.iloc[index])\n",
    "        print(f\"{name} - percent of B vs M samples: {bp:.2f} - {mp:.2f} / count: {b_len} : {m_len}\")\n",
    "        return {\"percent_benign\": bp, \"percent_malignant\": mp, \"count_benign\": b_len, \"count_malignant\": m_len}\n",
    "\n",
    "\n",
    "    classes_balance_metadata[\"all\"] = check_balance(df, range(len(df)), \"All\")\n",
    "    classes_balance_metadata[\"test\"] = check_balance(df, test_index, \"Test\")\n",
    "\n",
    "    test_patient_ids = df.iloc[test_index].patient_id.unique()\n",
    "\n",
    "    for idx, (train_index, val_index) in enumerate(folds):\n",
    "        print(\"=============================================\")\n",
    "        print(f\"Saving fold {idx}\")\n",
    "        train_index = map_nested_indices(train_index, train_val_index)\n",
    "        val_index = map_nested_indices(val_index, train_val_index)\n",
    "\n",
    "        # Check if there is no intersection between train/val/test datasets in terms of patient IDs\n",
    "        train_patient_ids = df.iloc[train_index].patient_id.unique()\n",
    "        val_patient_ids = df.iloc[val_index].patient_id.unique()\n",
    "        assert intersection(train_patient_ids, val_patient_ids) == [] \n",
    "        assert intersection(train_patient_ids, test_patient_ids) == []\n",
    "        assert intersection(val_patient_ids, test_patient_ids) == []\n",
    "        \n",
    "        classes_balance_metadata[f\"train_fold_{idx}\"] = check_balance(df, train_index, \"Train\")\n",
    "        classes_balance_metadata[f\"val_fold_{idx}\"] = check_balance(df, val_index, \"Val\")\n",
    "\n",
    "        df.iloc[train_index].to_csv(os.path.join(output_path, f\"train_{idx}.csv\"))\n",
    "        df.iloc[val_index].to_csv(os.path.join(output_path, f\"val_{idx}.csv\"))\n",
    "\n",
    "        with open(os.path.join(output_path, \"classes_balance_metadata.json\"), 'w') as metafile:\n",
    "            json.dump(classes_balance_metadata, metafile, indent=4)"
   ]
  },
  {
   "cell_type": "code",
   "execution_count": null,
   "id": "061ab15c",
   "metadata": {},
   "outputs": [],
   "source": [
    "for dataset_name, dataset_content in datasets.items():\n",
    "    print(f\"Creating folds for {dataset_name}\")\n",
    "    create_folds(dataset_content[\"df\"], dataset_content[\"path\"])"
   ]
  }
 ],
 "metadata": {
  "kernelspec": {
   "display_name": "tf-gpu",
   "language": "python",
   "name": "python3"
  },
  "language_info": {
   "codemirror_mode": {
    "name": "ipython",
    "version": 3
   },
   "file_extension": ".py",
   "mimetype": "text/x-python",
   "name": "python",
   "nbconvert_exporter": "python",
   "pygments_lexer": "ipython3",
   "version": "3.11.5"
  },
  "papermill": {
   "default_parameters": {},
   "duration": 3162.190167,
   "end_time": "2022-08-06T23:18:19.928862",
   "environment_variables": {},
   "exception": null,
   "input_path": "__notebook__.ipynb",
   "output_path": "__notebook__.ipynb",
   "parameters": {},
   "start_time": "2022-08-06T22:25:37.738695",
   "version": "2.3.4"
  },
  "vscode": {
   "interpreter": {
    "hash": "57cd4c39ed4dc9ca01eca98180f2061953ac6955d3d04f28a09153414c727fd3"
   }
  }
 },
 "nbformat": 4,
 "nbformat_minor": 5
}
