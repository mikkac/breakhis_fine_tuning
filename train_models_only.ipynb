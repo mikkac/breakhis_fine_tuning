{
 "cells": [
  {
   "attachments": {},
   "cell_type": "markdown",
   "metadata": {},
   "source": [
    "# BreakHis Image Classification with 🤗 Vision Transformers and `TensorFlow`"
   ]
  },
  {
   "attachments": {},
   "cell_type": "markdown",
   "metadata": {},
   "source": [
    "### Quick intro: Vision Transformer (ViT) by Google Brain\n",
    "The Vision Transformer (ViT) is basically BERT, but applied to images. It attains excellent results compared to state-of-the-art convolutional networks. In order to provide images to the model, each image is split into a sequence of fixed-size patches (typically of resolution 16x16 or 32x32), which are linearly embedded. One also adds a [CLS] token at the beginning of the sequence in order to classify images. Next, one adds absolute position embeddings and provides this sequence to the Transformer encoder.\n",
    "\n",
    "* [Original paper](https://arxiv.org/abs/2010.11929)\n",
    "* [Official repo (in JAX)](https://github.com/google-research/vision_transformer)\n",
    "* [🤗 Vision Transformer](https://huggingface.co/docs/transformers/model_doc/vit)\n",
    "* [Pre-trained model](https://huggingface.co/google/vit-base-patch16-224-in21k)"
   ]
  },
  {
   "attachments": {},
   "cell_type": "markdown",
   "metadata": {},
   "source": [
    "## Installation"
   ]
  },
  {
   "cell_type": "code",
   "execution_count": null,
   "metadata": {},
   "outputs": [],
   "source": [
    "# !pip install transformers datasets \"tensorflow==2.6.0\" tensorflow-addons --upgrade"
   ]
  },
  {
   "attachments": {},
   "cell_type": "markdown",
   "metadata": {},
   "source": [
    "## Setup & Configuration\n",
    "\n",
    "In this step, we will define global configurations and parameters, which are used across the whole end-to-end fine-tuning process, e.g. `feature extractor` and `model` we will use. \n",
    "\n",
    "In this example we are going to fine-tune the [google/vit-base-patch16-224-in21k](https://huggingface.co/google/vit-base-patch16-224-in21k) a Vision Transformer (ViT) pre-trained on ImageNet-21k (14 million images, 21,843 classes) at resolution 224x224.\n",
    "There are also [large](https://huggingface.co/google/vit-large-patch16-224-in21k) and [huge](https://huggingface.co/google/vit-huge-patch14-224-in21k) flavors of original ViT."
   ]
  },
  {
   "cell_type": "code",
   "execution_count": null,
   "metadata": {},
   "outputs": [],
   "source": [
    "from transformers import TFViTForImageClassification, TFResNetForImageClassification\n",
    "\n",
    "model_arch = TFViTForImageClassification\n",
    "model_id = \"google/vit-base-patch16-224-in21k\"\n",
    "\n",
    "# model_arch = TFResNetForImageClassification\n",
    "# model_id = \"microsoft/resnet-101\"\n",
    "\n",
    "zoom = 400\n"
   ]
  },
  {
   "cell_type": "code",
   "execution_count": null,
   "metadata": {},
   "outputs": [],
   "source": [
    "from datasets import load_dataset\n",
    "from datetime import datetime\n",
    "import json\n",
    "from keras.utils import to_categorical\n",
    "from keras.callbacks import CSVLogger, EarlyStopping\n",
    "import matplotlib.pyplot as plt\n",
    "import numpy as np\n",
    "import os\n",
    "import pandas as pd\n",
    "from pathlib import Path\n",
    "from PIL import Image\n",
    "import shutil\n",
    "\n",
    "import tensorflow as tf\n",
    "import tensorflow_addons as tfa\n",
    "from transformers import create_optimizer, DefaultDataCollator, AutoImageProcessor\n"
   ]
  },
  {
   "attachments": {},
   "cell_type": "markdown",
   "metadata": {},
   "source": [
    "## Dataset & Pre-processing\n",
    "\n",
    "- **Data Source:** https://www.kaggle.com/code/nasrulhakim86/breast-cancer-histopathology-images-classification/data\n",
    "- The Breast Cancer Histopathological Image Classification (BreakHis) is composed of 9,109 microscopic images of breast tumor tissue collected from 82 patients.\n",
    "- The images are collected using different magnifying factors (40X, 100X, 200X, and 400X). \n",
    "- To date, it contains 2,480 benign and 5,429 malignant samples (700X460 pixels, 3-channel RGB, 8-bit depth in each channel, PNG format).\n",
    "- This database has been built in collaboration with the P&D Laboratory – Pathological Anatomy and Cytopathology, Parana, Brazil (http://www.prevencaoediagnose.com.br). \n",
    "- Each image filename stores information about the image itself: method of procedure biopsy, tumor class, tumor type, patient identification, and magnification factor. \n",
    "- For example, SOBBTA-14-4659-40-001.png is the image 1, at magnification factor 40X, of a benign tumor of type tubular adenoma, original from the slide 14-4659, which was collected by procedure SOB."
   ]
  },
  {
   "attachments": {},
   "cell_type": "markdown",
   "metadata": {},
   "source": [
    "The `BreakHis` is not yet available as a dataset in the `datasets` library. To be able to create a `Dataset` instance we need to write a small little helper function, which will load our `Dataset` from the filesystem and create the instance to use later for training.\n",
    "\n",
    "This notebook assumes that the dataset is available in directory tree next to this file and its directory name is `breakhis_400x`"
   ]
  },
  {
   "cell_type": "code",
   "execution_count": null,
   "metadata": {},
   "outputs": [],
   "source": [
    "now = datetime.now().strftime(\"%Y_%m_%d-%H_%M_%S\")\n",
    "cwd = Path().absolute()\n",
    "input_path = cwd / f'breakhis_{zoom}x'\n",
    "output_path = cwd / 'results' / f'{zoom}x_{now}'\n",
    "\n",
    "output_path"
   ]
  },
  {
   "cell_type": "code",
   "execution_count": null,
   "metadata": {},
   "outputs": [],
   "source": [
    "shutil.rmtree(output_path, ignore_errors=True)\n",
    "os.makedirs(output_path)"
   ]
  },
  {
   "attachments": {},
   "cell_type": "markdown",
   "metadata": {},
   "source": [
    "#### Count number of samples per patient"
   ]
  },
  {
   "cell_type": "code",
   "execution_count": null,
   "metadata": {},
   "outputs": [],
   "source": [
    "# data = pd.read_csv(train_val_csv)\n",
    "# group_counts = data.groupby('patient_id').size().reset_index(name='count')\n",
    "\n",
    "# group_counts"
   ]
  },
  {
   "attachments": {},
   "cell_type": "markdown",
   "metadata": {},
   "source": [
    "## Fine-tuning the model using `Keras`\n",
    "\n",
    "Now that our `dataset` is processed, we can download the pretrained model and fine-tune it. But before we can do this we need to convert our Hugging Face `datasets` Dataset into a `tf.data.Dataset`. For this, we will use the `.to_tf_dataset` method and a `data collator` (Data collators are objects that will form a batch by using a list of dataset elements as input).\n",
    "\n",
    "\n"
   ]
  },
  {
   "attachments": {},
   "cell_type": "markdown",
   "metadata": {},
   "source": [
    "## Hyperparameter"
   ]
  },
  {
   "cell_type": "code",
   "execution_count": null,
   "metadata": {},
   "outputs": [],
   "source": [
    "id2label = {\"0\": \"benign\", \"1\": \"malignant\"}\n",
    "label2id = {v: k for k, v in id2label.items()}\n",
    "\n",
    "num_train_epochs = 10\n",
    "train_batch_size = 3\n",
    "eval_batch_size = 3\n",
    "learning_rate = 3e-5\n",
    "weight_decay_rate = 0.01\n",
    "num_warmup_steps = 0\n",
    "output_dir = model_id.split(\"/\")[1]\n",
    "fp16 = True\n",
    "\n",
    "# Train in mixed-precision float16\n",
    "# Comment this line out if you're using a GPU that will not benefit from this\n",
    "if fp16:\n",
    "    tf.keras.mixed_precision.set_global_policy(\"mixed_float16\")\n"
   ]
  },
  {
   "attachments": {},
   "cell_type": "markdown",
   "metadata": {},
   "source": [
    "### Download the pretrained transformer model and fine-tune it. "
   ]
  },
  {
   "cell_type": "code",
   "execution_count": null,
   "metadata": {},
   "outputs": [],
   "source": [
    "tf.debugging.disable_traceback_filtering()\n",
    "\n",
    "image_processor = AutoImageProcessor.from_pretrained(model_id)\n",
    "\n",
    "train_val_csv = str(input_path / \"train_val.csv\")\n",
    "\n",
    "dataset = load_dataset('csv', data_files={'train': train_val_csv})\n",
    "\n",
    "\n",
    "def load_images(file_locs):\n",
    "    return [Image.open(file_loc).convert(\"RGB\") for file_loc in file_locs]\n",
    "\n",
    "\n",
    "images = load_images(dataset['train']['file_loc'])\n",
    "\n",
    "\n",
    "def process_example(image):\n",
    "    inputs = image_processor(image, return_tensors='tf')\n",
    "    return inputs['pixel_values']\n",
    "\n",
    "\n",
    "def process_dataset(example, idx):\n",
    "    example['pixel_values'] = process_example(images[idx])\n",
    "\n",
    "    example['label'] = to_categorical(example['label'], num_classes=2)\n",
    "    return example\n",
    "\n",
    "\n",
    "dataset = dataset.map(process_dataset, with_indices=True, num_proc=1)\n",
    "\n",
    "print(dataset)\n",
    "print(image_processor)"
   ]
  },
  {
   "cell_type": "code",
   "execution_count": null,
   "metadata": {},
   "outputs": [],
   "source": [
    "def get_loss():\n",
    "    return tf.keras.losses.BinaryCrossentropy(from_logits=True)\n",
    "\n",
    "\n",
    "def get_metrics():\n",
    "    return [\n",
    "        tf.keras.metrics.BinaryAccuracy(name=\"accuracy\"),\n",
    "        tf.keras.metrics.AUC(name='auc', from_logits=True),\n",
    "        tf.keras.metrics.AUC(name='auc_multi', from_logits=True,\n",
    "                             num_labels=2, multi_label=True),\n",
    "        tf.keras.metrics.Recall(name='recall'),\n",
    "        tf.keras.metrics.Precision(name='precision'),\n",
    "        tfa.metrics.F1Score(name='f1_score', num_classes=2, threshold=0.5),\n",
    "    ]\n",
    "\n",
    "\n",
    "def get_callbacks(idx):\n",
    "    return [\n",
    "        EarlyStopping(monitor=\"val_loss\", patience=3),\n",
    "        CSVLogger(output_path / f'train_metrics_{idx}.csv')\n",
    "    ]\n",
    "\n",
    "\n",
    "def get_optimizer(learning_rate, weight_decay_rate, num_warmup_steps, num_train_steps):\n",
    "    optimizer, _ = create_optimizer(\n",
    "        init_lr=learning_rate,\n",
    "        num_train_steps=num_train_steps,\n",
    "        weight_decay_rate=weight_decay_rate,\n",
    "        num_warmup_steps=num_warmup_steps,\n",
    "    )\n",
    "\n",
    "    return optimizer\n",
    "\n",
    "\n",
    "num_train_steps_list = []\n",
    "def train_model(idx, train, val):\n",
    "    num_train_steps = len(train) * num_train_epochs\n",
    "    num_train_steps_list.append(num_train_steps)\n",
    "    print(f\"num_train_steps = {num_train_steps}\")\n",
    "    optimizer = get_optimizer(\n",
    "        learning_rate, weight_decay_rate, num_warmup_steps, num_train_steps)\n",
    "\n",
    "    # load pre-trained ViT model\n",
    "    model = model_arch.from_pretrained(\n",
    "        model_id,\n",
    "        num_labels=2,\n",
    "        id2label=id2label,\n",
    "        label2id=label2id,\n",
    "    )\n",
    "\n",
    "    # compile model\n",
    "    model.compile(optimizer=optimizer, loss=get_loss(), metrics=get_metrics())\n",
    "\n",
    "    history = model.fit(\n",
    "        train,\n",
    "        validation_data=val,\n",
    "        callbacks=get_callbacks(idx),\n",
    "        epochs=num_train_epochs,\n",
    "    )\n",
    "\n",
    "    return {\n",
    "        'model': model,\n",
    "        'history': history\n",
    "    }\n"
   ]
  },
  {
   "cell_type": "code",
   "execution_count": null,
   "metadata": {},
   "outputs": [],
   "source": [
    "data_collator = DefaultDataCollator(return_tensors=\"tf\")\n",
    "\n",
    "train_val_data = dataset['train']\n",
    "files = np.array(train_val_data['file_loc'])\n",
    "labels = np.array(train_val_data['label'])\n",
    "patient_ids = np.array(train_val_data['patient_id'])\n"
   ]
  },
  {
   "attachments": {},
   "cell_type": "markdown",
   "metadata": {},
   "source": [
    "#### Custom `StratifiedGroupKFold` implementation"
   ]
  },
  {
   "cell_type": "code",
   "execution_count": null,
   "metadata": {},
   "outputs": [],
   "source": [
    "import numpy as np\n",
    "from collections import Counter\n",
    "from sklearn.utils import shuffle\n",
    "\n",
    "def map_nested_indices(nested_indices, original_indices):\n",
    "    return original_indices[nested_indices]\n",
    "\n",
    "class StratifiedGroupKFold:\n",
    "    def __init__(self, n_splits=5, random_state=None):\n",
    "        self.n_splits = n_splits\n",
    "        self.random_state = random_state\n",
    "        self.used_group_ids = []\n",
    "\n",
    "    def _fill_bucket(self, bucket, class_counts, group_ids, y):\n",
    "        for group_id, label in zip(group_ids, y):\n",
    "            if group_id in self.used_group_ids:\n",
    "                continue\n",
    "            if class_counts[label] > 0:\n",
    "                group_indices = np.where(group_ids == group_id)[0]\n",
    "                bucket[label].extend(group_indices)\n",
    "                class_counts[label] -= len(group_indices)\n",
    "                self.used_group_ids.append(group_id)\n",
    "\n",
    "    def _create_buckets(self, group_ids, y, class_ratios):\n",
    "        total_samples = len(group_ids)\n",
    "        samples_per_split = total_samples // self.n_splits\n",
    "\n",
    "        buckets = []\n",
    "        for _ in range(self.n_splits):\n",
    "            bucket = {label: [] for label in class_ratios.keys()}\n",
    "            class_counts = {label: int(samples_per_split * ratio)\n",
    "                            for label, ratio in class_ratios.items()}\n",
    "            self._fill_bucket(bucket, class_counts, group_ids, y)\n",
    "            buckets.append(bucket)\n",
    "\n",
    "        return buckets\n",
    "\n",
    "    def _rotate_buckets(self, buckets):\n",
    "        return buckets[-1:] + buckets[:-1]\n",
    "\n",
    "    def _get_indices(self, bucket, group_ids, y):\n",
    "        indices = []\n",
    "        for label, groups in bucket.items():\n",
    "            for group in groups:\n",
    "                group_indices = np.where(group_ids == group)[0]\n",
    "                label_indices = np.where(y == label)[0]\n",
    "                indices.extend(np.intersect1d(group_indices, label_indices))\n",
    "        return np.array(indices)\n",
    "\n",
    "    def split(self, X, y, group_ids):\n",
    "        index_map = np.arange(len(y))\n",
    "        group_ids_s, y_s, index_map = shuffle(\n",
    "            group_ids, y, index_map, random_state=self.random_state)\n",
    "\n",
    "        class_ratios = {label: count / len(y)\n",
    "                        for label, count in Counter(y).items()}\n",
    "        buckets = self._create_buckets(group_ids_s, y_s, class_ratios)\n",
    "\n",
    "        for _ in range(self.n_splits):\n",
    "            train_buckets = buckets[1:]\n",
    "            test_bucket = buckets[0]\n",
    "\n",
    "            train_indices = np.concatenate(\n",
    "                [np.array(bucket[label]) for bucket in train_buckets for label in bucket])\n",
    "            test_indices = np.concatenate(\n",
    "                [np.array(test_bucket[label]) for label in test_bucket])\n",
    "\n",
    "            # Map shuffled indices to original ones\n",
    "            train_indices = index_map[train_indices]\n",
    "            test_indices = index_map[test_indices]\n",
    "            \n",
    "            assert len(np.intersect1d(np.unique(group_ids[train_indices]), np.unique(group_ids[test_indices]))) == 0\n",
    "\n",
    "\n",
    "            yield train_indices, test_indices\n",
    "            buckets = self._rotate_buckets(buckets)\n"
   ]
  },
  {
   "cell_type": "code",
   "execution_count": null,
   "metadata": {},
   "outputs": [],
   "source": [
    "def filter_train_val_indices(idx, indices):\n",
    "    return idx in indices\n",
    "\n",
    "def remove_extra_dim(example):\n",
    "    example['pixel_values'] = np.squeeze(example['pixel_values'], axis=0)\n",
    "    return example\n"
   ]
  },
  {
   "cell_type": "code",
   "execution_count": null,
   "metadata": {},
   "outputs": [],
   "source": [
    "n_splits = 5\n",
    "sgfk = StratifiedGroupKFold(n_splits=n_splits, random_state=42)\n",
    "\n",
    "folds = sgfk.split(files, np.argmax(labels, axis=1), patient_ids)\n"
   ]
  },
  {
   "cell_type": "code",
   "execution_count": null,
   "metadata": {},
   "outputs": [],
   "source": [
    "models_with_histories = []\n",
    "\n",
    "\n",
    "def intersection(lst1, lst2):\n",
    "    return list(set(lst1) & set(lst2))\n",
    "\n",
    "\n",
    "def run_fold(idx):\n",
    "    (train_index, val_index) = next(folds)\n",
    "\n",
    "    # train_index = map_nested_indices(train_index, train_val_index)\n",
    "    # val_index = map_nested_indices(val_index, train_val_index)\n",
    "\n",
    "    # Check indices uniqueness\n",
    "    train_index_unique, train_counts = np.unique(\n",
    "        train_index, return_counts=True)\n",
    "    val_index_unique, val_counts = np.unique(val_index, return_counts=True)\n",
    "    are_all_values_unique = np.all(\n",
    "        train_counts == 1) and np.all(val_counts == 1)\n",
    "\n",
    "    print('Are all indices', are_all_values_unique)\n",
    "    print(\n",
    "        f'Indices shared between train & val splits (should be empty): {intersection(train_index_unique, val_index_unique)}')\n",
    "\n",
    "    # Check patient ids uniqueness\n",
    "    train_data_filtered = train_val_data.filter(lambda _, idx: filter_train_val_indices(\n",
    "        idx, train_index), with_indices=True).map(remove_extra_dim)\n",
    "    val_data_filtered = train_val_data.filter(lambda _, idx: filter_train_val_indices(\n",
    "        idx, val_index), with_indices=True).map(remove_extra_dim)\n",
    "\n",
    "    train_ids_unique = np.unique(train_data_filtered['patient_id'])\n",
    "    val_ids_unique = np.unique(val_data_filtered['patient_id'])\n",
    "\n",
    "    print(f'Train patient IDs: {len(train_ids_unique)}')\n",
    "    print(f'Val patient IDs: {len(val_ids_unique)}')\n",
    "    print(\n",
    "        f'Train + Val patient IDs: {len(train_ids_unique) + len(val_ids_unique)}')\n",
    "    print(\n",
    "        f'Patient IDs shared between train & val splits (should be empty): {intersection(train_ids_unique, val_ids_unique)}')\n",
    "\n",
    "    print(f'Train patient ids: {train_ids_unique}')\n",
    "    print(f'Val patient ids: {val_ids_unique}')\n",
    "    assert len(np.intersect1d(train_ids_unique, val_ids_unique)) == 0\n",
    "\n",
    "    # Create datasets and train model\n",
    "    train_dataset = train_data_filtered.to_tf_dataset(\n",
    "        columns=['pixel_values'],\n",
    "        label_cols=['label'],\n",
    "        shuffle=True,\n",
    "        batch_size=train_batch_size,\n",
    "        collate_fn=data_collator\n",
    "    )\n",
    "\n",
    "    val_dataset = val_data_filtered.to_tf_dataset(\n",
    "        columns=['pixel_values'],\n",
    "        label_cols=['label'],\n",
    "        shuffle=True,\n",
    "        batch_size=eval_batch_size,\n",
    "        collate_fn=data_collator\n",
    "    )\n",
    "    print(train_dataset)\n",
    "    print(val_dataset)\n",
    "\n",
    "    # model_with_history = {}\n",
    "    model_with_history = train_model(idx, train_dataset, val_dataset)\n",
    "    model_with_history['patient_ids'] = {\n",
    "        'train': list(train_ids_unique), 'val': list(val_ids_unique)}\n",
    "\n",
    "    models_with_histories.append(model_with_history)\n",
    "\n",
    "    print(f'Fold {idx + 1}/{n_splits} finished')\n"
   ]
  },
  {
   "cell_type": "code",
   "execution_count": null,
   "metadata": {},
   "outputs": [],
   "source": [
    "# for idx in range(n_splits):\n",
    "    # run_fold(idx)\n",
    "run_fold(0)"
   ]
  },
  {
   "attachments": {},
   "cell_type": "markdown",
   "metadata": {},
   "source": [
    "#### Dump histories"
   ]
  },
  {
   "cell_type": "code",
   "execution_count": null,
   "metadata": {},
   "outputs": [],
   "source": [
    "# for idx, model_with_history in enumerate(models_with_histories):\n",
    "#     history = model_with_history.get('history', None)\n",
    "#     np.save(output_path / f'train_history_{idx}.npy', history.history)\n",
    "\n",
    "# To load:\n",
    "# history = np.load(output_path / f'train_history_{idx}.npy', allow_pickle='TRUE').item()\n"
   ]
  },
  {
   "attachments": {},
   "cell_type": "markdown",
   "metadata": {},
   "source": [
    "#### Save the best model"
   ]
  },
  {
   "cell_type": "code",
   "execution_count": null,
   "metadata": {},
   "outputs": [],
   "source": [
    "import pandas as pd\n",
    "\n",
    "csv_files = [output_path / f'train_metrics_{idx}.csv' for idx in range(n_splits)]\n",
    "dataframes = [pd.read_csv(file) for file in csv_files]\n",
    "\n",
    "\n",
    "best_model_index = None\n",
    "best_val_accuracy = 0.0\n",
    "\n",
    "for i, df in enumerate(dataframes):\n",
    "    val_accuracy = df.iloc[-1]['val_accuracy']\n",
    "    if val_accuracy > best_val_accuracy:\n",
    "        best_val_accuracy = val_accuracy\n",
    "        best_model_index = i\n",
    "\n",
    "print(f\"Best model index: {best_model_index}, val_accuracy: {best_val_accuracy}\")\n",
    "\n",
    "\n",
    "best_model = models_with_histories[best_model_index].get('model', None)\n",
    "best_model.save_pretrained(output_path / 'best_model', from_tf=True) \n",
    "\n",
    "best_model_info = {\"idx\": best_model_index,\n",
    "                   \"model_id\": model_id,\n",
    "                   \"zoom\": zoom,\n",
    "                   \"n_splits\": n_splits,\n",
    "                   \"num_train_epochs\": num_train_epochs,\n",
    "                   \"train_batch_size\": train_batch_size,\n",
    "                   \"eval_batch_size\": eval_batch_size,\n",
    "                   \"learning_rate\": learning_rate,\n",
    "                   \"weight_decay_rate\": weight_decay_rate,\n",
    "                   \"num_warmup_steps\": num_warmup_steps,\n",
    "                   \"num_train_steps\": num_train_steps_list[best_model_index]}\n",
    "\n",
    "with open(output_path / 'best_model_info.json', 'w') as f:\n",
    "    json.dump(best_model_info, f, indent=4)\n",
    "\n",
    "print(json.dumps(best_model_info, indent=4))"
   ]
  },
  {
   "cell_type": "code",
   "execution_count": null,
   "metadata": {},
   "outputs": [],
   "source": [
    "numeric_columns = ['accuracy', 'auc', 'f1_score', 'loss', 'precision', 'recall',\n",
    "                   'val_accuracy', 'val_auc', 'val_f1_score', 'val_loss', 'val_precision', 'val_recall']\n",
    "\n",
    "last_rows_numeric = [df[numeric_columns].iloc[-1] for df in dataframes]\n",
    "mean_metrics = pd.concat(last_rows_numeric, axis=1).mean(axis=1)\n",
    "std_metrics = pd.concat(last_rows_numeric, axis=1).std(axis=1)\n",
    "\n",
    "metrics_dict = {\n",
    "    metric_name: {\n",
    "        \"mean\": mean_metrics[metric_name],\n",
    "        \"std\": std_metrics[metric_name],\n",
    "    }\n",
    "    for metric_name in mean_metrics.index\n",
    "}\n",
    "\n",
    "with open(output_path / 'train_metrics_mean_with_std.json', 'w') as f:\n",
    "    json.dump(metrics_dict, f, indent=4)\n",
    "\n",
    "print(json.dumps(metrics_dict, indent=4))\n"
   ]
  }
 ],
 "metadata": {
  "instance_type": "ml.t3.medium",
  "interpreter": {
   "hash": "ec1370a512a4612a2908be3c3c8b0de1730d00dc30104daff827065aeaf438b7"
  },
  "kernelspec": {
   "display_name": "Python 3 (ipykernel)",
   "language": "python",
   "name": "python3"
  },
  "language_info": {
   "codemirror_mode": {
    "name": "ipython",
    "version": 3
   },
   "file_extension": ".py",
   "mimetype": "text/x-python",
   "name": "python",
   "nbconvert_exporter": "python",
   "pygments_lexer": "ipython3",
   "version": "3.10.9"
  }
 },
 "nbformat": 4,
 "nbformat_minor": 4
}
