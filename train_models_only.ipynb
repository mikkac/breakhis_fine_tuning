{
 "cells": [
  {
   "attachments": {},
   "cell_type": "markdown",
   "metadata": {},
   "source": [
    "# BreakHis Image Classification with 🤗 Vision Transformers and `TensorFlow`"
   ]
  },
  {
   "attachments": {},
   "cell_type": "markdown",
   "metadata": {},
   "source": [
    "### Quick intro: Vision Transformer (ViT) by Google Brain\n",
    "The Vision Transformer (ViT) is basically BERT, but applied to images. It attains excellent results compared to state-of-the-art convolutional networks. In order to provide images to the model, each image is split into a sequence of fixed-size patches (typically of resolution 16x16 or 32x32), which are linearly embedded. One also adds a [CLS] token at the beginning of the sequence in order to classify images. Next, one adds absolute position embeddings and provides this sequence to the Transformer encoder.\n",
    "\n",
    "* [Original paper](https://arxiv.org/abs/2010.11929)\n",
    "* [Official repo (in JAX)](https://github.com/google-research/vision_transformer)\n",
    "* [🤗 Vision Transformer](https://huggingface.co/docs/transformers/model_doc/vit)\n",
    "* [Pre-trained model](https://huggingface.co/google/vit-base-patch16-224-in21k)"
   ]
  },
  {
   "attachments": {},
   "cell_type": "markdown",
   "metadata": {},
   "source": [
    "## Installation"
   ]
  },
  {
   "cell_type": "code",
   "execution_count": 1,
   "metadata": {},
   "outputs": [],
   "source": [
    "# !pip install transformers datasets \"tensorflow==2.6.0\" tensorflow-addons --upgrade"
   ]
  },
  {
   "attachments": {},
   "cell_type": "markdown",
   "metadata": {},
   "source": [
    "## Setup & Configuration\n",
    "\n",
    "In this step, we will define global configurations and parameters, which are used across the whole end-to-end fine-tuning process, e.g. `feature extractor` and `model` we will use. \n",
    "\n",
    "In this example we are going to fine-tune the [google/vit-base-patch16-224-in21k](https://huggingface.co/google/vit-base-patch16-224-in21k) a Vision Transformer (ViT) pre-trained on ImageNet-21k (14 million images, 21,843 classes) at resolution 224x224.\n",
    "There are also [large](https://huggingface.co/google/vit-large-patch16-224-in21k) and [huge](https://huggingface.co/google/vit-huge-patch14-224-in21k) flavors of original ViT."
   ]
  },
  {
   "cell_type": "code",
   "execution_count": 2,
   "metadata": {},
   "outputs": [],
   "source": [
    "model_id = \"google/vit-base-patch16-224-in21k\"\n",
    "zoom = 400\n"
   ]
  },
  {
   "cell_type": "code",
   "execution_count": 3,
   "metadata": {},
   "outputs": [
    {
     "name": "stderr",
     "output_type": "stream",
     "text": [
      "2023-05-11 18:20:28.464487: I tensorflow/core/platform/cpu_feature_guard.cc:193] This TensorFlow binary is optimized with oneAPI Deep Neural Network Library (oneDNN) to use the following CPU instructions in performance-critical operations:  AVX2 FMA\n",
      "To enable them in other operations, rebuild TensorFlow with the appropriate compiler flags.\n",
      "2023-05-11 18:20:29.454257: W tensorflow/compiler/xla/stream_executor/platform/default/dso_loader.cc:64] Could not load dynamic library 'libnvinfer.so.7'; dlerror: libnvinfer.so.7: cannot open shared object file: No such file or directory; LD_LIBRARY_PATH: /usr/local/cuda-11.7/lib64::/home/miki/anaconda3/lib/:/home/miki/anaconda3/envs/tf/lib/\n",
      "2023-05-11 18:20:29.454336: W tensorflow/compiler/xla/stream_executor/platform/default/dso_loader.cc:64] Could not load dynamic library 'libnvinfer_plugin.so.7'; dlerror: libnvinfer_plugin.so.7: cannot open shared object file: No such file or directory; LD_LIBRARY_PATH: /usr/local/cuda-11.7/lib64::/home/miki/anaconda3/lib/:/home/miki/anaconda3/envs/tf/lib/\n",
      "2023-05-11 18:20:29.454343: W tensorflow/compiler/tf2tensorrt/utils/py_utils.cc:38] TF-TRT Warning: Cannot dlopen some TensorRT libraries. If you would like to use Nvidia GPU with TensorRT, please make sure the missing libraries mentioned above are installed properly.\n"
     ]
    }
   ],
   "source": [
    "from datasets import load_dataset\n",
    "from datetime import datetime\n",
    "import json\n",
    "from keras.utils import to_categorical\n",
    "from keras.callbacks import CSVLogger, EarlyStopping\n",
    "import matplotlib.pyplot as plt\n",
    "import numpy as np\n",
    "import os\n",
    "import pandas as pd\n",
    "from pathlib import Path\n",
    "from PIL import Image\n",
    "import shutil\n",
    "\n",
    "import tensorflow as tf\n",
    "import tensorflow_addons as tfa\n",
    "from transformers import create_optimizer, DefaultDataCollator, ViTImageProcessor, TFViTForImageClassification\n"
   ]
  },
  {
   "attachments": {},
   "cell_type": "markdown",
   "metadata": {},
   "source": [
    "## Dataset & Pre-processing\n",
    "\n",
    "- **Data Source:** https://www.kaggle.com/code/nasrulhakim86/breast-cancer-histopathology-images-classification/data\n",
    "- The Breast Cancer Histopathological Image Classification (BreakHis) is composed of 9,109 microscopic images of breast tumor tissue collected from 82 patients.\n",
    "- The images are collected using different magnifying factors (40X, 100X, 200X, and 400X). \n",
    "- To date, it contains 2,480 benign and 5,429 malignant samples (700X460 pixels, 3-channel RGB, 8-bit depth in each channel, PNG format).\n",
    "- This database has been built in collaboration with the P&D Laboratory – Pathological Anatomy and Cytopathology, Parana, Brazil (http://www.prevencaoediagnose.com.br). \n",
    "- Each image filename stores information about the image itself: method of procedure biopsy, tumor class, tumor type, patient identification, and magnification factor. \n",
    "- For example, SOBBTA-14-4659-40-001.png is the image 1, at magnification factor 40X, of a benign tumor of type tubular adenoma, original from the slide 14-4659, which was collected by procedure SOB."
   ]
  },
  {
   "attachments": {},
   "cell_type": "markdown",
   "metadata": {},
   "source": [
    "The `BreakHis` is not yet available as a dataset in the `datasets` library. To be able to create a `Dataset` instance we need to write a small little helper function, which will load our `Dataset` from the filesystem and create the instance to use later for training.\n",
    "\n",
    "This notebook assumes that the dataset is available in directory tree next to this file and its directory name is `breakhis_400x`"
   ]
  },
  {
   "cell_type": "code",
   "execution_count": 4,
   "metadata": {},
   "outputs": [
    {
     "data": {
      "text/plain": [
       "PosixPath('/home/miki/Documents/studia/praca_dyplomowa/vcs/results/400x_2023_05_11-18_20_31')"
      ]
     },
     "execution_count": 4,
     "metadata": {},
     "output_type": "execute_result"
    }
   ],
   "source": [
    "now = datetime.now().strftime(\"%Y_%m_%d-%H_%M_%S\")\n",
    "cwd = Path().absolute()\n",
    "input_path = cwd / f'breakhis_{zoom}x'\n",
    "output_path = cwd / 'results' / f'{zoom}x_{now}'\n",
    "\n",
    "output_path"
   ]
  },
  {
   "cell_type": "code",
   "execution_count": 5,
   "metadata": {},
   "outputs": [],
   "source": [
    "shutil.rmtree(output_path, ignore_errors=True)\n",
    "os.makedirs(output_path)"
   ]
  },
  {
   "cell_type": "code",
   "execution_count": null,
   "metadata": {},
   "outputs": [],
   "source": [
    "\n"
   ]
  },
  {
   "attachments": {},
   "cell_type": "markdown",
   "metadata": {},
   "source": [
    "#### Count number of samples per patient"
   ]
  },
  {
   "cell_type": "code",
   "execution_count": 6,
   "metadata": {},
   "outputs": [],
   "source": [
    "# data = pd.read_csv(train_val_csv)\n",
    "# group_counts = data.groupby('patient_id').size().reset_index(name='count')\n",
    "\n",
    "# group_counts"
   ]
  },
  {
   "attachments": {},
   "cell_type": "markdown",
   "metadata": {},
   "source": [
    "## Fine-tuning the model using `Keras`\n",
    "\n",
    "Now that our `dataset` is processed, we can download the pretrained model and fine-tune it. But before we can do this we need to convert our Hugging Face `datasets` Dataset into a `tf.data.Dataset`. For this, we will use the `.to_tf_dataset` method and a `data collator` (Data collators are objects that will form a batch by using a list of dataset elements as input).\n",
    "\n",
    "\n"
   ]
  },
  {
   "attachments": {},
   "cell_type": "markdown",
   "metadata": {},
   "source": [
    "## Hyperparameter"
   ]
  },
  {
   "cell_type": "code",
   "execution_count": 7,
   "metadata": {},
   "outputs": [
    {
     "name": "stdout",
     "output_type": "stream",
     "text": [
      "INFO:tensorflow:Mixed precision compatibility check (mixed_float16): OK\n",
      "Your GPU will likely run quickly with dtype policy mixed_float16 as it has compute capability of at least 7.0. Your GPU: NVIDIA GeForce RTX 3070 Laptop GPU, compute capability 8.6\n"
     ]
    },
    {
     "name": "stderr",
     "output_type": "stream",
     "text": [
      "2023-05-11 18:20:31.359768: I tensorflow/compiler/xla/stream_executor/cuda/cuda_gpu_executor.cc:981] successful NUMA node read from SysFS had negative value (-1), but there must be at least one NUMA node, so returning NUMA node zero\n",
      "2023-05-11 18:20:31.381396: I tensorflow/compiler/xla/stream_executor/cuda/cuda_gpu_executor.cc:981] successful NUMA node read from SysFS had negative value (-1), but there must be at least one NUMA node, so returning NUMA node zero\n",
      "2023-05-11 18:20:31.381582: I tensorflow/compiler/xla/stream_executor/cuda/cuda_gpu_executor.cc:981] successful NUMA node read from SysFS had negative value (-1), but there must be at least one NUMA node, so returning NUMA node zero\n",
      "2023-05-11 18:20:31.382235: I tensorflow/compiler/xla/stream_executor/cuda/cuda_gpu_executor.cc:981] successful NUMA node read from SysFS had negative value (-1), but there must be at least one NUMA node, so returning NUMA node zero\n"
     ]
    }
   ],
   "source": [
    "id2label = {\"0\": \"benign\", \"1\": \"malignant\"}\n",
    "label2id = {v: k for k, v in id2label.items()}\n",
    "\n",
    "num_train_epochs = 10\n",
    "train_batch_size = 3\n",
    "eval_batch_size = 3\n",
    "learning_rate = 3e-5\n",
    "weight_decay_rate = 0.01\n",
    "num_warmup_steps = 0\n",
    "output_dir = model_id.split(\"/\")[1]\n",
    "fp16 = True\n",
    "\n",
    "# Train in mixed-precision float16\n",
    "# Comment this line out if you're using a GPU that will not benefit from this\n",
    "if fp16:\n",
    "    tf.keras.mixed_precision.set_global_policy(\"mixed_float16\")\n"
   ]
  },
  {
   "attachments": {},
   "cell_type": "markdown",
   "metadata": {},
   "source": [
    "### Download the pretrained transformer model and fine-tune it. "
   ]
  },
  {
   "cell_type": "code",
   "execution_count": 8,
   "metadata": {},
   "outputs": [
    {
     "name": "stderr",
     "output_type": "stream",
     "text": [
      "Found cached dataset csv (/home/miki/.cache/huggingface/datasets/csv/default-0010e7a0edeaefdb/0.0.0/6b34fb8fcf56f7c8ba51dc895bfa2bfbe43546f190a60fcf74bb5e8afdcc2317)\n"
     ]
    },
    {
     "data": {
      "application/vnd.jupyter.widget-view+json": {
       "model_id": "e2fee4a2b5774279a192a0bd7317099a",
       "version_major": 2,
       "version_minor": 0
      },
      "text/plain": [
       "  0%|          | 0/1 [00:00<?, ?it/s]"
      ]
     },
     "metadata": {},
     "output_type": "display_data"
    },
    {
     "name": "stderr",
     "output_type": "stream",
     "text": [
      "Loading cached processed dataset at /home/miki/.cache/huggingface/datasets/csv/default-0010e7a0edeaefdb/0.0.0/6b34fb8fcf56f7c8ba51dc895bfa2bfbe43546f190a60fcf74bb5e8afdcc2317/cache-c7f948f062c03bd6.arrow\n"
     ]
    },
    {
     "name": "stdout",
     "output_type": "stream",
     "text": [
      "DatasetDict({\n",
      "    train: Dataset({\n",
      "        features: ['file_loc', 'label', 'patient_id', 'pixel_values'],\n",
      "        num_rows: 1427\n",
      "    })\n",
      "})\n"
     ]
    }
   ],
   "source": [
    "tf.debugging.disable_traceback_filtering()\n",
    "\n",
    "image_processor = ViTImageProcessor.from_pretrained(model_id)\n",
    "\n",
    "train_val_csv = str(input_path / \"train_val.csv\")\n",
    "\n",
    "dataset = load_dataset('csv', data_files={'train': train_val_csv})\n",
    "\n",
    "\n",
    "def load_images(file_locs):\n",
    "    return [Image.open(file_loc).convert(\"RGB\") for file_loc in file_locs]\n",
    "\n",
    "\n",
    "images = load_images(dataset['train']['file_loc'])\n",
    "\n",
    "\n",
    "def process_example(image):\n",
    "    inputs = image_processor(image, return_tensors='tf')\n",
    "    return inputs['pixel_values']\n",
    "\n",
    "\n",
    "def process_dataset(example, idx):\n",
    "    example['pixel_values'] = process_example(images[idx])\n",
    "\n",
    "    example['label'] = to_categorical(example['label'], num_classes=2)\n",
    "    return example\n",
    "\n",
    "\n",
    "dataset = dataset.map(process_dataset, with_indices=True, num_proc=1)\n",
    "\n",
    "print(dataset)"
   ]
  },
  {
   "cell_type": "code",
   "execution_count": 9,
   "metadata": {},
   "outputs": [],
   "source": [
    "def get_loss():\n",
    "    return tf.keras.losses.BinaryCrossentropy(from_logits=True)\n",
    "\n",
    "\n",
    "def get_metrics():\n",
    "    return [\n",
    "        tf.keras.metrics.BinaryAccuracy(name=\"accuracy\"),\n",
    "        tf.keras.metrics.AUC(name='auc', from_logits=True),\n",
    "        tf.keras.metrics.AUC(name='auc_multi', from_logits=True,\n",
    "                             num_labels=2, multi_label=True),\n",
    "        tf.keras.metrics.Recall(name='recall'),\n",
    "        tf.keras.metrics.Precision(name='precision'),\n",
    "        tfa.metrics.F1Score(name='f1_score', num_classes=2, threshold=0.5),\n",
    "    ]\n",
    "\n",
    "\n",
    "def get_callbacks(idx):\n",
    "    return [\n",
    "        EarlyStopping(monitor=\"val_loss\", patience=3),\n",
    "        CSVLogger(output_path / f'train_metrics_{idx}.csv')\n",
    "    ]\n",
    "\n",
    "\n",
    "def get_optimizer(learning_rate, weight_decay_rate, num_warmup_steps, num_train_steps):\n",
    "    optimizer, _ = create_optimizer(\n",
    "        init_lr=learning_rate,\n",
    "        num_train_steps=num_train_steps,\n",
    "        weight_decay_rate=weight_decay_rate,\n",
    "        num_warmup_steps=num_warmup_steps,\n",
    "    )\n",
    "\n",
    "    return optimizer\n",
    "\n",
    "\n",
    "num_train_steps_list = []\n",
    "def train_model(idx, train, val):\n",
    "    num_train_steps = len(train) * num_train_epochs\n",
    "    num_train_steps_list.append(num_train_steps)\n",
    "    print(f\"num_train_steps = {num_train_steps}\")\n",
    "    optimizer = get_optimizer(\n",
    "        learning_rate, weight_decay_rate, num_warmup_steps, num_train_steps)\n",
    "\n",
    "    # load pre-trained ViT model\n",
    "    model = TFViTForImageClassification.from_pretrained(\n",
    "        model_id,\n",
    "        num_labels=2,\n",
    "        id2label=id2label,\n",
    "        label2id=label2id,\n",
    "    )\n",
    "\n",
    "    # compile model\n",
    "    model.compile(optimizer=optimizer, loss=get_loss(), metrics=get_metrics())\n",
    "\n",
    "    history = model.fit(\n",
    "        train,\n",
    "        validation_data=val,\n",
    "        callbacks=get_callbacks(idx),\n",
    "        epochs=num_train_epochs,\n",
    "    )\n",
    "\n",
    "    return {\n",
    "        'model': model,\n",
    "        'history': history\n",
    "    }\n"
   ]
  },
  {
   "cell_type": "code",
   "execution_count": 10,
   "metadata": {},
   "outputs": [],
   "source": [
    "data_collator = DefaultDataCollator(return_tensors=\"tf\")\n",
    "\n",
    "train_val_data = dataset['train']\n",
    "files = np.array(train_val_data['file_loc'])\n",
    "labels = np.array(train_val_data['label'])\n",
    "patient_ids = np.array(train_val_data['patient_id'])\n"
   ]
  },
  {
   "attachments": {},
   "cell_type": "markdown",
   "metadata": {},
   "source": [
    "#### Custom `StratifiedGroupKFold` implementation"
   ]
  },
  {
   "cell_type": "code",
   "execution_count": 11,
   "metadata": {},
   "outputs": [],
   "source": [
    "import numpy as np\n",
    "from collections import Counter\n",
    "from sklearn.utils import shuffle\n",
    "\n",
    "def map_nested_indices(nested_indices, original_indices):\n",
    "    return original_indices[nested_indices]\n",
    "\n",
    "class StratifiedGroupKFold:\n",
    "    def __init__(self, n_splits=5, random_state=None):\n",
    "        self.n_splits = n_splits\n",
    "        self.random_state = random_state\n",
    "        self.used_group_ids = []\n",
    "\n",
    "    def _fill_bucket(self, bucket, class_counts, group_ids, y):\n",
    "        for group_id, label in zip(group_ids, y):\n",
    "            if group_id in self.used_group_ids:\n",
    "                continue\n",
    "            if class_counts[label] > 0:\n",
    "                group_indices = np.where(group_ids == group_id)[0]\n",
    "                bucket[label].extend(group_indices)\n",
    "                class_counts[label] -= len(group_indices)\n",
    "                self.used_group_ids.append(group_id)\n",
    "\n",
    "    def _create_buckets(self, group_ids, y, class_ratios):\n",
    "        total_samples = len(group_ids)\n",
    "        samples_per_split = total_samples // self.n_splits\n",
    "\n",
    "        buckets = []\n",
    "        for _ in range(self.n_splits):\n",
    "            bucket = {label: [] for label in class_ratios.keys()}\n",
    "            class_counts = {label: int(samples_per_split * ratio)\n",
    "                            for label, ratio in class_ratios.items()}\n",
    "            self._fill_bucket(bucket, class_counts, group_ids, y)\n",
    "            buckets.append(bucket)\n",
    "\n",
    "        return buckets\n",
    "\n",
    "    def _rotate_buckets(self, buckets):\n",
    "        return buckets[-1:] + buckets[:-1]\n",
    "\n",
    "    def _get_indices(self, bucket, group_ids, y):\n",
    "        indices = []\n",
    "        for label, groups in bucket.items():\n",
    "            for group in groups:\n",
    "                group_indices = np.where(group_ids == group)[0]\n",
    "                label_indices = np.where(y == label)[0]\n",
    "                indices.extend(np.intersect1d(group_indices, label_indices))\n",
    "        return np.array(indices)\n",
    "\n",
    "    def split(self, X, y, group_ids):\n",
    "        index_map = np.arange(len(y))\n",
    "        group_ids_s, y_s, index_map = shuffle(\n",
    "            group_ids, y, index_map, random_state=self.random_state)\n",
    "\n",
    "        class_ratios = {label: count / len(y)\n",
    "                        for label, count in Counter(y).items()}\n",
    "        buckets = self._create_buckets(group_ids_s, y_s, class_ratios)\n",
    "\n",
    "        for _ in range(self.n_splits):\n",
    "            train_buckets = buckets[1:]\n",
    "            test_bucket = buckets[0]\n",
    "\n",
    "            train_indices = np.concatenate(\n",
    "                [np.array(bucket[label]) for bucket in train_buckets for label in bucket])\n",
    "            test_indices = np.concatenate(\n",
    "                [np.array(test_bucket[label]) for label in test_bucket])\n",
    "\n",
    "            # Map shuffled indices to original ones\n",
    "            train_indices = index_map[train_indices]\n",
    "            test_indices = index_map[test_indices]\n",
    "            \n",
    "            assert len(np.intersect1d(np.unique(group_ids[train_indices]), np.unique(group_ids[test_indices]))) == 0\n",
    "\n",
    "\n",
    "            yield train_indices, test_indices\n",
    "            buckets = self._rotate_buckets(buckets)\n"
   ]
  },
  {
   "attachments": {},
   "cell_type": "markdown",
   "metadata": {},
   "source": [
    "#### `StratifiedGroupKFold` usage example"
   ]
  },
  {
   "cell_type": "code",
   "execution_count": 12,
   "metadata": {},
   "outputs": [],
   "source": [
    "# np.random.seed(42)\n",
    "\n",
    "# # Wygeneruj dane\n",
    "# n_samples = 1800\n",
    "# n_features = 2\n",
    "\n",
    "# X = np.random.rand(n_samples, n_features)\n",
    "# y = np.random.randint(0, 2, n_samples)\n",
    "# group_ids = np.repeat(np.arange(n_samples // 4), 4)\n",
    "\n",
    "# # Mieszamy dane, etykiety i grupy\n",
    "# X, y, group_ids = shuffle(X, y, group_ids, random_state=42)\n",
    "\n",
    "# # Utwórz instancję StratifiedGroupKFold\n",
    "# skf = StratifiedGroupKFold(n_splits=3, random_state=42)\n",
    "\n",
    "# # Iteruj przez foldy\n",
    "# for train_index, test_index in skf.split(X, y, group_ids):\n",
    "#     print(\"TRAIN:\", len(train_index), \"TEST:\", len(test_index))\n",
    "#     # X_train, X_test = X[train_index], X[test_index]\n",
    "#     y_train, y_test = y[train_index], y[test_index]\n",
    "#     train_groups, test_groups = group_ids[train_index], group_ids[test_index]\n",
    "#     train_class_ratio = {label: count / len(y_train) for label, count in Counter(y_train).items()}\n",
    "#     print(f\"Train class ratio: {train_class_ratio}\")\n",
    "#     test_class_ratio = {label: count / len(y_test) for label, count in Counter(y_test).items()}\n",
    "#     print(f\"test class ratio: {test_class_ratio}\")\n",
    "#     assert len(np.intersect1d(np.unique(train_groups), np.unique(test_groups))) == 0\n",
    "#     print(\"-----\")\n"
   ]
  },
  {
   "cell_type": "code",
   "execution_count": 13,
   "metadata": {},
   "outputs": [],
   "source": [
    "def filter_train_val_indices(idx, indices):\n",
    "    return idx in indices\n",
    "\n",
    "def remove_extra_dim(example):\n",
    "    example['pixel_values'] = np.squeeze(example['pixel_values'], axis=0)\n",
    "    return example\n"
   ]
  },
  {
   "cell_type": "code",
   "execution_count": 14,
   "metadata": {},
   "outputs": [],
   "source": [
    "n_splits = 5\n",
    "sgfk = StratifiedGroupKFold(n_splits=n_splits, random_state=42)\n",
    "\n",
    "folds = sgfk.split(files, np.argmax(labels, axis=1), patient_ids)\n"
   ]
  },
  {
   "cell_type": "code",
   "execution_count": 15,
   "metadata": {},
   "outputs": [],
   "source": [
    "models_with_histories = []\n",
    "\n",
    "\n",
    "def intersection(lst1, lst2):\n",
    "    return list(set(lst1) & set(lst2))\n",
    "\n",
    "\n",
    "def run_fold(idx):\n",
    "    (train_index, val_index) = next(folds)\n",
    "\n",
    "    # train_index = map_nested_indices(train_index, train_val_index)\n",
    "    # val_index = map_nested_indices(val_index, train_val_index)\n",
    "\n",
    "    # Check indices uniqueness\n",
    "    train_index_unique, train_counts = np.unique(\n",
    "        train_index, return_counts=True)\n",
    "    val_index_unique, val_counts = np.unique(val_index, return_counts=True)\n",
    "    are_all_values_unique = np.all(\n",
    "        train_counts == 1) and np.all(val_counts == 1)\n",
    "\n",
    "    print('Are all indices', are_all_values_unique)\n",
    "    print(\n",
    "        f'Indices shared between train & val splits (should be empty): {intersection(train_index_unique, val_index_unique)}')\n",
    "\n",
    "    # Check patient ids uniqueness\n",
    "    train_data_filtered = train_val_data.filter(lambda _, idx: filter_train_val_indices(\n",
    "        idx, train_index), with_indices=True).map(remove_extra_dim)\n",
    "    val_data_filtered = train_val_data.filter(lambda _, idx: filter_train_val_indices(\n",
    "        idx, val_index), with_indices=True).map(remove_extra_dim)\n",
    "\n",
    "    train_ids_unique = np.unique(train_data_filtered['patient_id'])\n",
    "    val_ids_unique = np.unique(val_data_filtered['patient_id'])\n",
    "\n",
    "    print(f'Train patient IDs: {len(train_ids_unique)}')\n",
    "    print(f'Val patient IDs: {len(val_ids_unique)}')\n",
    "    print(\n",
    "        f'Train + Val patient IDs: {len(train_ids_unique) + len(val_ids_unique)}')\n",
    "    print(\n",
    "        f'Patient IDs shared between train & val splits (should be empty): {intersection(train_ids_unique, val_ids_unique)}')\n",
    "\n",
    "    print(f'Train patient ids: {train_ids_unique}')\n",
    "    print(f'Val patient ids: {val_ids_unique}')\n",
    "    assert len(np.intersect1d(train_ids_unique, val_ids_unique)) == 0\n",
    "\n",
    "    # Create datasets and train model\n",
    "    train_dataset = train_data_filtered.to_tf_dataset(\n",
    "        columns=['pixel_values'],\n",
    "        label_cols=['label'],\n",
    "        shuffle=True,\n",
    "        batch_size=train_batch_size,\n",
    "        collate_fn=data_collator\n",
    "    )\n",
    "\n",
    "    val_dataset = val_data_filtered.to_tf_dataset(\n",
    "        columns=['pixel_values'],\n",
    "        label_cols=['label'],\n",
    "        shuffle=True,\n",
    "        batch_size=eval_batch_size,\n",
    "        collate_fn=data_collator\n",
    "    )\n",
    "    print(train_dataset)\n",
    "    print(val_dataset)\n",
    "\n",
    "    # model_with_history = {}\n",
    "    model_with_history = train_model(idx, train_dataset, val_dataset)\n",
    "    model_with_history['patient_ids'] = {\n",
    "        'train': list(train_ids_unique), 'val': list(val_ids_unique)}\n",
    "\n",
    "    models_with_histories.append(model_with_history)\n",
    "\n",
    "    print(f'Fold {idx + 1}/{n_splits} finished')\n"
   ]
  },
  {
   "cell_type": "code",
   "execution_count": 16,
   "metadata": {},
   "outputs": [
    {
     "name": "stderr",
     "output_type": "stream",
     "text": [
      "Loading cached processed dataset at /home/miki/.cache/huggingface/datasets/csv/default-0010e7a0edeaefdb/0.0.0/6b34fb8fcf56f7c8ba51dc895bfa2bfbe43546f190a60fcf74bb5e8afdcc2317/cache-bd94e691d43e79b1.arrow\n",
      "Loading cached processed dataset at /home/miki/.cache/huggingface/datasets/csv/default-0010e7a0edeaefdb/0.0.0/6b34fb8fcf56f7c8ba51dc895bfa2bfbe43546f190a60fcf74bb5e8afdcc2317/cache-a54dfef17c92cdf9.arrow\n",
      "Loading cached processed dataset at /home/miki/.cache/huggingface/datasets/csv/default-0010e7a0edeaefdb/0.0.0/6b34fb8fcf56f7c8ba51dc895bfa2bfbe43546f190a60fcf74bb5e8afdcc2317/cache-7db0b6ffe2457e9d.arrow\n",
      "Loading cached processed dataset at /home/miki/.cache/huggingface/datasets/csv/default-0010e7a0edeaefdb/0.0.0/6b34fb8fcf56f7c8ba51dc895bfa2bfbe43546f190a60fcf74bb5e8afdcc2317/cache-2637fd494c64f9d0.arrow\n"
     ]
    },
    {
     "name": "stdout",
     "output_type": "stream",
     "text": [
      "Are all indices True\n",
      "Indices shared between train & val splits (should be empty): []\n",
      "Train patient IDs: 54\n",
      "Val patient IDs: 13\n",
      "Train + Val patient IDs: 67\n",
      "Patient IDs shared between train & val splits (should be empty): []\n",
      "Train patient ids: ['SOB_B_A-14-22549G' 'SOB_B_A-14-29960CD' 'SOB_B_F-14-14134'\n",
      " 'SOB_B_F-14-14134E' 'SOB_B_F-14-21998CD' 'SOB_B_F-14-23060CD'\n",
      " 'SOB_B_F-14-23222AB' 'SOB_B_F-14-25197' 'SOB_B_PT-14-22704'\n",
      " 'SOB_B_PT-14-29315EF' 'SOB_B_TA-14-13200' 'SOB_B_TA-14-15275'\n",
      " 'SOB_B_TA-14-16184' 'SOB_B_TA-14-19854C' 'SOB_B_TA-14-21978AB'\n",
      " 'SOB_B_TA-14-3411F' 'SOB_M_DC-14-10926' 'SOB_M_DC-14-11031'\n",
      " 'SOB_M_DC-14-11951' 'SOB_M_DC-14-13412' 'SOB_M_DC-14-14015'\n",
      " 'SOB_M_DC-14-14926' 'SOB_M_DC-14-14946' 'SOB_M_DC-14-15572'\n",
      " 'SOB_M_DC-14-15696' 'SOB_M_DC-14-16188' 'SOB_M_DC-14-16336'\n",
      " 'SOB_M_DC-14-16716' 'SOB_M_DC-14-17614' 'SOB_M_DC-14-17915'\n",
      " 'SOB_M_DC-14-18650' 'SOB_M_DC-14-2523' 'SOB_M_DC-14-2773'\n",
      " 'SOB_M_DC-14-2980' 'SOB_M_DC-14-3909' 'SOB_M_DC-14-4364'\n",
      " 'SOB_M_DC-14-4372' 'SOB_M_DC-14-5694' 'SOB_M_DC-14-5695'\n",
      " 'SOB_M_DC-14-6241' 'SOB_M_DC-14-8168' 'SOB_M_LC-14-12204'\n",
      " 'SOB_M_LC-14-13412' 'SOB_M_LC-14-15570' 'SOB_M_MC-14-10147'\n",
      " 'SOB_M_MC-14-13418DE' 'SOB_M_MC-14-18842' 'SOB_M_MC-14-18842D'\n",
      " 'SOB_M_PC-14-12465' 'SOB_M_PC-14-15687B' 'SOB_M_PC-14-15704'\n",
      " 'SOB_M_PC-14-19440' 'SOB_M_PC-14-9146' 'SOB_M_PC-15-190EF']\n",
      "Val patient ids: ['SOB_B_A-14-22549AB' 'SOB_B_F-14-23060AB' 'SOB_B_F-14-29960AB'\n",
      " 'SOB_B_F-14-9133' 'SOB_M_DC-14-12312' 'SOB_M_DC-14-15792'\n",
      " 'SOB_M_DC-14-16875' 'SOB_M_DC-14-20629' 'SOB_M_DC-14-20636'\n",
      " 'SOB_M_LC-14-15570C' 'SOB_M_LC-14-16196' 'SOB_M_MC-14-13413'\n",
      " 'SOB_M_MC-14-19979']\n"
     ]
    },
    {
     "name": "stderr",
     "output_type": "stream",
     "text": [
      "2023-05-11 18:20:44.623797: I tensorflow/core/platform/cpu_feature_guard.cc:193] This TensorFlow binary is optimized with oneAPI Deep Neural Network Library (oneDNN) to use the following CPU instructions in performance-critical operations:  AVX2 FMA\n",
      "To enable them in other operations, rebuild TensorFlow with the appropriate compiler flags.\n",
      "2023-05-11 18:20:44.624576: I tensorflow/compiler/xla/stream_executor/cuda/cuda_gpu_executor.cc:981] successful NUMA node read from SysFS had negative value (-1), but there must be at least one NUMA node, so returning NUMA node zero\n",
      "2023-05-11 18:20:44.624767: I tensorflow/compiler/xla/stream_executor/cuda/cuda_gpu_executor.cc:981] successful NUMA node read from SysFS had negative value (-1), but there must be at least one NUMA node, so returning NUMA node zero\n",
      "2023-05-11 18:20:44.624893: I tensorflow/compiler/xla/stream_executor/cuda/cuda_gpu_executor.cc:981] successful NUMA node read from SysFS had negative value (-1), but there must be at least one NUMA node, so returning NUMA node zero\n",
      "2023-05-11 18:20:45.234320: I tensorflow/compiler/xla/stream_executor/cuda/cuda_gpu_executor.cc:981] successful NUMA node read from SysFS had negative value (-1), but there must be at least one NUMA node, so returning NUMA node zero\n",
      "2023-05-11 18:20:45.234899: I tensorflow/compiler/xla/stream_executor/cuda/cuda_gpu_executor.cc:981] successful NUMA node read from SysFS had negative value (-1), but there must be at least one NUMA node, so returning NUMA node zero\n",
      "2023-05-11 18:20:45.235093: I tensorflow/compiler/xla/stream_executor/cuda/cuda_gpu_executor.cc:981] successful NUMA node read from SysFS had negative value (-1), but there must be at least one NUMA node, so returning NUMA node zero\n",
      "2023-05-11 18:20:45.235366: I tensorflow/core/common_runtime/gpu/gpu_device.cc:1613] Created device /job:localhost/replica:0/task:0/device:GPU:0 with 6056 MB memory:  -> device: 0, name: NVIDIA GeForce RTX 3070 Laptop GPU, pci bus id: 0000:01:00.0, compute capability: 8.6\n"
     ]
    },
    {
     "name": "stdout",
     "output_type": "stream",
     "text": [
      "<PrefetchDataset element_spec=(TensorSpec(shape=(None, 3, 224, 224), dtype=tf.float32, name=None), TensorSpec(shape=(None, 2), dtype=tf.float32, name=None))>\n",
      "<PrefetchDataset element_spec=(TensorSpec(shape=(None, 3, 224, 224), dtype=tf.float32, name=None), TensorSpec(shape=(None, 2), dtype=tf.float32, name=None))>\n",
      "num_train_steps = 5670\n"
     ]
    },
    {
     "name": "stderr",
     "output_type": "stream",
     "text": [
      "2023-05-11 18:20:47.094469: I tensorflow/compiler/xla/stream_executor/cuda/cuda_dnn.cc:428] Loaded cuDNN version 8100\n",
      "2023-05-11 18:20:47.903177: I tensorflow/tsl/platform/default/subprocess.cc:304] Start cannot spawn child process: No such file or directory\n",
      "2023-05-11 18:20:47.904389: I tensorflow/tsl/platform/default/subprocess.cc:304] Start cannot spawn child process: No such file or directory\n",
      "2023-05-11 18:20:47.904407: W tensorflow/compiler/xla/stream_executor/gpu/asm_compiler.cc:85] Couldn't get ptxas version string: INTERNAL: Couldn't invoke ptxas --version\n",
      "2023-05-11 18:20:47.905220: I tensorflow/tsl/platform/default/subprocess.cc:304] Start cannot spawn child process: No such file or directory\n",
      "2023-05-11 18:20:47.905271: W tensorflow/compiler/xla/stream_executor/gpu/redzone_allocator.cc:318] INTERNAL: Failed to launch ptxas\n",
      "Relying on driver to perform ptx compilation. \n",
      "Modify $PATH to customize ptxas location.\n",
      "This message will be only logged once.\n",
      "Some layers from the model checkpoint at google/vit-base-patch16-224-in21k were not used when initializing TFViTForImageClassification: ['vit/pooler/dense/kernel:0', 'vit/pooler/dense/bias:0']\n",
      "- This IS expected if you are initializing TFViTForImageClassification from the checkpoint of a model trained on another task or with another architecture (e.g. initializing a BertForSequenceClassification model from a BertForPreTraining model).\n",
      "- This IS NOT expected if you are initializing TFViTForImageClassification from the checkpoint of a model that you expect to be exactly identical (initializing a BertForSequenceClassification model from a BertForSequenceClassification model).\n",
      "Some layers of TFViTForImageClassification were not initialized from the model checkpoint at google/vit-base-patch16-224-in21k and are newly initialized: ['classifier']\n",
      "You should probably TRAIN this model on a down-stream task to be able to use it for predictions and inference.\n"
     ]
    },
    {
     "name": "stdout",
     "output_type": "stream",
     "text": [
      "Epoch 1/15\n",
      "WARNING:tensorflow:From /home/miki/.local/lib/python3.10/site-packages/tensorflow/python/autograph/pyct/static_analysis/liveness.py:83: Analyzer.lamba_check (from tensorflow.python.autograph.pyct.static_analysis.liveness) is deprecated and will be removed after 2023-09-23.\n",
      "Instructions for updating:\n",
      "Lambda fuctions will be no more assumed to be used in the statement where they are used, or at least in the same block. https://github.com/tensorflow/tensorflow/issues/56089\n",
      "378/378 [==============================] - 47s 85ms/step - loss: 0.4235 - accuracy: 0.8186 - auc: 0.8940 - auc_multi: 0.8623 - recall: 0.7449 - precision: 0.8737 - f1_score: 0.7392 - val_loss: 0.3810 - val_accuracy: 0.8197 - val_auc: 0.9278 - val_auc_multi: 0.9804 - val_recall: 0.6871 - val_precision: 0.9352 - val_f1_score: 0.4821\n",
      "Epoch 2/15\n",
      "378/378 [==============================] - 30s 80ms/step - loss: 0.2889 - accuracy: 0.8892 - auc: 0.9592 - auc_multi: 0.9531 - recall: 0.8526 - precision: 0.9200 - f1_score: 0.8586 - val_loss: 0.1869 - val_accuracy: 0.9456 - val_auc: 0.9827 - val_auc_multi: 0.9933 - val_recall: 0.9320 - val_precision: 0.9580 - val_f1_score: 0.9239\n",
      "Epoch 3/15\n",
      "378/378 [==============================] - 30s 79ms/step - loss: 0.1955 - accuracy: 0.9356 - auc: 0.9821 - auc_multi: 0.9789 - recall: 0.9241 - precision: 0.9458 - f1_score: 0.9218 - val_loss: 0.1849 - val_accuracy: 0.9337 - val_auc: 0.9884 - val_auc_multi: 0.9864 - val_recall: 0.9252 - val_precision: 0.9412 - val_f1_score: 0.9217\n",
      "Epoch 4/15\n",
      "378/378 [==============================] - 30s 79ms/step - loss: 0.1031 - accuracy: 0.9744 - auc: 0.9953 - auc_multi: 0.9946 - recall: 0.9700 - precision: 0.9786 - f1_score: 0.9699 - val_loss: 0.1630 - val_accuracy: 0.9405 - val_auc: 0.9889 - val_auc_multi: 0.9883 - val_recall: 0.9252 - val_precision: 0.9544 - val_f1_score: 0.9263\n",
      "Epoch 5/15\n",
      "378/378 [==============================] - 30s 79ms/step - loss: 0.0441 - accuracy: 0.9947 - auc: 0.9994 - auc_multi: 0.9995 - recall: 0.9947 - precision: 0.9947 - f1_score: 0.9938 - val_loss: 0.2524 - val_accuracy: 0.9184 - val_auc: 0.9741 - val_auc_multi: 0.9749 - val_recall: 0.9116 - val_precision: 0.9241 - val_f1_score: 0.9037\n",
      "Epoch 6/15\n",
      "378/378 [==============================] - 30s 79ms/step - loss: 0.0422 - accuracy: 0.9921 - auc: 0.9997 - auc_multi: 0.9997 - recall: 0.9903 - precision: 0.9938 - f1_score: 0.9907 - val_loss: 0.1811 - val_accuracy: 0.9405 - val_auc: 0.9924 - val_auc_multi: 0.9913 - val_recall: 0.9354 - val_precision: 0.9450 - val_f1_score: 0.9295\n",
      "Epoch 7/15\n",
      "378/378 [==============================] - 30s 79ms/step - loss: 0.0246 - accuracy: 0.9978 - auc: 1.0000 - auc_multi: 1.0000 - recall: 0.9974 - precision: 0.9982 - f1_score: 0.9972 - val_loss: 0.2240 - val_accuracy: 0.9320 - val_auc: 0.9821 - val_auc_multi: 0.9837 - val_recall: 0.9286 - val_precision: 0.9349 - val_f1_score: 0.9188\n",
      "Epoch 8/15\n",
      "378/378 [==============================] - 30s 79ms/step - loss: 0.0142 - accuracy: 1.0000 - auc: 1.0000 - auc_multi: 1.0000 - recall: 1.0000 - precision: 1.0000 - f1_score: 1.0000 - val_loss: 0.2318 - val_accuracy: 0.9371 - val_auc: 0.9687 - val_auc_multi: 0.9578 - val_recall: 0.9320 - val_precision: 0.9416 - val_f1_score: 0.9238\n",
      "Epoch 9/15\n",
      "378/378 [==============================] - 30s 79ms/step - loss: 0.0114 - accuracy: 1.0000 - auc: 1.0000 - auc_multi: 1.0000 - recall: 1.0000 - precision: 1.0000 - f1_score: 1.0000 - val_loss: 0.2389 - val_accuracy: 0.9388 - val_auc: 0.9800 - val_auc_multi: 0.9834 - val_recall: 0.9354 - val_precision: 0.9418 - val_f1_score: 0.9250\n",
      "Epoch 10/15\n",
      "378/378 [==============================] - 30s 80ms/step - loss: 0.0095 - accuracy: 1.0000 - auc: 1.0000 - auc_multi: 1.0000 - recall: 1.0000 - precision: 1.0000 - f1_score: 1.0000 - val_loss: 0.2455 - val_accuracy: 0.9405 - val_auc: 0.9649 - val_auc_multi: 0.9567 - val_recall: 0.9354 - val_precision: 0.9450 - val_f1_score: 0.9276\n",
      "Epoch 11/15\n",
      "378/378 [==============================] - 30s 79ms/step - loss: 0.0082 - accuracy: 1.0000 - auc: 1.0000 - auc_multi: 1.0000 - recall: 1.0000 - precision: 1.0000 - f1_score: 1.0000 - val_loss: 0.2512 - val_accuracy: 0.9405 - val_auc: 0.9641 - val_auc_multi: 0.9448 - val_recall: 0.9354 - val_precision: 0.9450 - val_f1_score: 0.9276\n",
      "Epoch 12/15\n",
      "378/378 [==============================] - 30s 79ms/step - loss: 0.0071 - accuracy: 1.0000 - auc: 1.0000 - auc_multi: 1.0000 - recall: 1.0000 - precision: 1.0000 - f1_score: 1.0000 - val_loss: 0.2564 - val_accuracy: 0.9405 - val_auc: 0.9617 - val_auc_multi: 0.9432 - val_recall: 0.9354 - val_precision: 0.9450 - val_f1_score: 0.9276\n",
      "Epoch 13/15\n",
      "378/378 [==============================] - 30s 80ms/step - loss: 0.0064 - accuracy: 1.0000 - auc: 1.0000 - auc_multi: 1.0000 - recall: 1.0000 - precision: 1.0000 - f1_score: 1.0000 - val_loss: 0.2603 - val_accuracy: 0.9405 - val_auc: 0.9706 - val_auc_multi: 0.9615 - val_recall: 0.9354 - val_precision: 0.9450 - val_f1_score: 0.9276\n",
      "Epoch 14/15\n",
      "378/378 [==============================] - 30s 79ms/step - loss: 0.0060 - accuracy: 1.0000 - auc: 1.0000 - auc_multi: 1.0000 - recall: 1.0000 - precision: 1.0000 - f1_score: 1.0000 - val_loss: 0.2632 - val_accuracy: 0.9439 - val_auc: 0.9754 - val_auc_multi: 0.9732 - val_recall: 0.9422 - val_precision: 0.9454 - val_f1_score: 0.9320\n",
      "Epoch 15/15\n",
      "378/378 [==============================] - 30s 80ms/step - loss: 0.0057 - accuracy: 1.0000 - auc: 1.0000 - auc_multi: 1.0000 - recall: 1.0000 - precision: 1.0000 - f1_score: 1.0000 - val_loss: 0.2642 - val_accuracy: 0.9439 - val_auc: 0.9791 - val_auc_multi: 0.9803 - val_recall: 0.9422 - val_precision: 0.9454 - val_f1_score: 0.9320\n"
     ]
    },
    {
     "name": "stderr",
     "output_type": "stream",
     "text": [
      "Loading cached processed dataset at /home/miki/.cache/huggingface/datasets/csv/default-0010e7a0edeaefdb/0.0.0/6b34fb8fcf56f7c8ba51dc895bfa2bfbe43546f190a60fcf74bb5e8afdcc2317/cache-672ce7abea409518.arrow\n",
      "Loading cached processed dataset at /home/miki/.cache/huggingface/datasets/csv/default-0010e7a0edeaefdb/0.0.0/6b34fb8fcf56f7c8ba51dc895bfa2bfbe43546f190a60fcf74bb5e8afdcc2317/cache-4a1ce6bbfdc5aa01.arrow\n",
      "Loading cached processed dataset at /home/miki/.cache/huggingface/datasets/csv/default-0010e7a0edeaefdb/0.0.0/6b34fb8fcf56f7c8ba51dc895bfa2bfbe43546f190a60fcf74bb5e8afdcc2317/cache-edf5c95ddaed5554.arrow\n",
      "Loading cached processed dataset at /home/miki/.cache/huggingface/datasets/csv/default-0010e7a0edeaefdb/0.0.0/6b34fb8fcf56f7c8ba51dc895bfa2bfbe43546f190a60fcf74bb5e8afdcc2317/cache-c44d1f68b06d3122.arrow\n"
     ]
    },
    {
     "name": "stdout",
     "output_type": "stream",
     "text": [
      "Fold 1/5 finished\n",
      "Are all indices True\n",
      "Indices shared between train & val splits (should be empty): []\n",
      "Train patient IDs: 53\n",
      "Val patient IDs: 14\n",
      "Train + Val patient IDs: 67\n",
      "Patient IDs shared between train & val splits (should be empty): []\n",
      "Train patient ids: ['SOB_B_A-14-22549AB' 'SOB_B_A-14-22549G' 'SOB_B_A-14-29960CD'\n",
      " 'SOB_B_F-14-14134' 'SOB_B_F-14-21998CD' 'SOB_B_F-14-23060AB'\n",
      " 'SOB_B_F-14-23060CD' 'SOB_B_F-14-23222AB' 'SOB_B_F-14-25197'\n",
      " 'SOB_B_F-14-29960AB' 'SOB_B_F-14-9133' 'SOB_B_PT-14-22704'\n",
      " 'SOB_B_TA-14-13200' 'SOB_B_TA-14-15275' 'SOB_B_TA-14-16184'\n",
      " 'SOB_B_TA-14-19854C' 'SOB_B_TA-14-3411F' 'SOB_M_DC-14-12312'\n",
      " 'SOB_M_DC-14-13412' 'SOB_M_DC-14-14015' 'SOB_M_DC-14-14926'\n",
      " 'SOB_M_DC-14-14946' 'SOB_M_DC-14-15792' 'SOB_M_DC-14-16188'\n",
      " 'SOB_M_DC-14-16716' 'SOB_M_DC-14-16875' 'SOB_M_DC-14-17614'\n",
      " 'SOB_M_DC-14-17915' 'SOB_M_DC-14-18650' 'SOB_M_DC-14-20629'\n",
      " 'SOB_M_DC-14-20636' 'SOB_M_DC-14-2523' 'SOB_M_DC-14-2773'\n",
      " 'SOB_M_DC-14-2980' 'SOB_M_DC-14-3909' 'SOB_M_DC-14-4372'\n",
      " 'SOB_M_DC-14-5694' 'SOB_M_DC-14-8168' 'SOB_M_LC-14-12204'\n",
      " 'SOB_M_LC-14-13412' 'SOB_M_LC-14-15570' 'SOB_M_LC-14-15570C'\n",
      " 'SOB_M_LC-14-16196' 'SOB_M_MC-14-10147' 'SOB_M_MC-14-13413'\n",
      " 'SOB_M_MC-14-18842' 'SOB_M_MC-14-19979' 'SOB_M_PC-14-12465'\n",
      " 'SOB_M_PC-14-15687B' 'SOB_M_PC-14-15704' 'SOB_M_PC-14-19440'\n",
      " 'SOB_M_PC-14-9146' 'SOB_M_PC-15-190EF']\n",
      "Val patient ids: ['SOB_B_F-14-14134E' 'SOB_B_PT-14-29315EF' 'SOB_B_TA-14-21978AB'\n",
      " 'SOB_M_DC-14-10926' 'SOB_M_DC-14-11031' 'SOB_M_DC-14-11951'\n",
      " 'SOB_M_DC-14-15572' 'SOB_M_DC-14-15696' 'SOB_M_DC-14-16336'\n",
      " 'SOB_M_DC-14-4364' 'SOB_M_DC-14-5695' 'SOB_M_DC-14-6241'\n",
      " 'SOB_M_MC-14-13418DE' 'SOB_M_MC-14-18842D']\n",
      "<PrefetchDataset element_spec=(TensorSpec(shape=(None, 3, 224, 224), dtype=tf.float32, name=None), TensorSpec(shape=(None, 2), dtype=tf.float32, name=None))>\n",
      "<PrefetchDataset element_spec=(TensorSpec(shape=(None, 3, 224, 224), dtype=tf.float32, name=None), TensorSpec(shape=(None, 2), dtype=tf.float32, name=None))>\n",
      "num_train_steps = 6150\n"
     ]
    },
    {
     "name": "stderr",
     "output_type": "stream",
     "text": [
      "Some layers from the model checkpoint at google/vit-base-patch16-224-in21k were not used when initializing TFViTForImageClassification: ['vit/pooler/dense/kernel:0', 'vit/pooler/dense/bias:0']\n",
      "- This IS expected if you are initializing TFViTForImageClassification from the checkpoint of a model trained on another task or with another architecture (e.g. initializing a BertForSequenceClassification model from a BertForPreTraining model).\n",
      "- This IS NOT expected if you are initializing TFViTForImageClassification from the checkpoint of a model that you expect to be exactly identical (initializing a BertForSequenceClassification model from a BertForSequenceClassification model).\n",
      "Some layers of TFViTForImageClassification were not initialized from the model checkpoint at google/vit-base-patch16-224-in21k and are newly initialized: ['classifier']\n",
      "You should probably TRAIN this model on a down-stream task to be able to use it for predictions and inference.\n"
     ]
    },
    {
     "name": "stdout",
     "output_type": "stream",
     "text": [
      "Epoch 1/15\n",
      "410/410 [==============================] - 46s 80ms/step - loss: 0.4238 - accuracy: 0.8181 - auc: 0.9002 - auc_multi: 0.8841 - recall: 0.7356 - precision: 0.8811 - f1_score: 0.7415 - val_loss: 0.3143 - val_accuracy: 0.8687 - val_auc: 0.9660 - val_auc_multi: 0.9529 - val_recall: 0.8636 - val_precision: 0.8724 - val_f1_score: 0.8302\n",
      "Epoch 2/15\n",
      "410/410 [==============================] - 31s 75ms/step - loss: 0.2060 - accuracy: 0.9308 - auc: 0.9807 - auc_multi: 0.9762 - recall: 0.9121 - precision: 0.9476 - f1_score: 0.9194 - val_loss: 0.3270 - val_accuracy: 0.8662 - val_auc: 0.9640 - val_auc_multi: 0.9644 - val_recall: 0.8535 - val_precision: 0.8756 - val_f1_score: 0.8357\n",
      "Epoch 3/15\n",
      "410/410 [==============================] - 31s 75ms/step - loss: 0.1163 - accuracy: 0.9707 - auc: 0.9916 - auc_multi: 0.9900 - recall: 0.9642 - precision: 0.9769 - f1_score: 0.9665 - val_loss: 0.4341 - val_accuracy: 0.8561 - val_auc: 0.9219 - val_auc_multi: 0.9085 - val_recall: 0.8485 - val_precision: 0.8615 - val_f1_score: 0.8214\n",
      "Epoch 4/15\n",
      "410/410 [==============================] - 31s 75ms/step - loss: 0.0885 - accuracy: 0.9772 - auc: 0.9952 - auc_multi: 0.9945 - recall: 0.9723 - precision: 0.9819 - f1_score: 0.9748 - val_loss: 0.4383 - val_accuracy: 0.8409 - val_auc: 0.9440 - val_auc_multi: 0.9173 - val_recall: 0.8232 - val_precision: 0.8534 - val_f1_score: 0.7824\n",
      "Epoch 5/15\n",
      "410/410 [==============================] - 31s 75ms/step - loss: 0.0599 - accuracy: 0.9882 - auc: 0.9975 - auc_multi: 0.9964 - recall: 0.9862 - precision: 0.9902 - f1_score: 0.9864 - val_loss: 0.5137 - val_accuracy: 0.8409 - val_auc: 0.9470 - val_auc_multi: 0.9134 - val_recall: 0.8333 - val_precision: 0.8462 - val_f1_score: 0.7925\n",
      "Epoch 6/15\n",
      "410/410 [==============================] - 31s 75ms/step - loss: 0.0372 - accuracy: 0.9919 - auc: 0.9995 - auc_multi: 0.9991 - recall: 0.9886 - precision: 0.9951 - f1_score: 0.9903 - val_loss: 0.4686 - val_accuracy: 0.8561 - val_auc: 0.9420 - val_auc_multi: 0.9028 - val_recall: 0.8434 - val_precision: 0.8653 - val_f1_score: 0.8029\n",
      "Epoch 7/15\n",
      "410/410 [==============================] - 31s 75ms/step - loss: 0.0384 - accuracy: 0.9919 - auc: 0.9993 - auc_multi: 0.9995 - recall: 0.9894 - precision: 0.9943 - f1_score: 0.9910 - val_loss: 0.5321 - val_accuracy: 0.8283 - val_auc: 0.9343 - val_auc_multi: 0.8838 - val_recall: 0.8182 - val_precision: 0.8351 - val_f1_score: 0.7669\n",
      "Epoch 8/15\n",
      "410/410 [==============================] - 31s 75ms/step - loss: 0.0130 - accuracy: 1.0000 - auc: 1.0000 - auc_multi: 1.0000 - recall: 1.0000 - precision: 1.0000 - f1_score: 1.0000 - val_loss: 0.5986 - val_accuracy: 0.8232 - val_auc: 0.9343 - val_auc_multi: 0.8893 - val_recall: 0.8182 - val_precision: 0.8265 - val_f1_score: 0.7639\n",
      "Epoch 9/15\n",
      "410/410 [==============================] - 31s 75ms/step - loss: 0.0100 - accuracy: 1.0000 - auc: 1.0000 - auc_multi: 1.0000 - recall: 1.0000 - precision: 1.0000 - f1_score: 1.0000 - val_loss: 0.6292 - val_accuracy: 0.8258 - val_auc: 0.9302 - val_auc_multi: 0.8755 - val_recall: 0.8232 - val_precision: 0.8274 - val_f1_score: 0.7689\n",
      "Epoch 10/15\n",
      "410/410 [==============================] - 31s 75ms/step - loss: 0.0083 - accuracy: 1.0000 - auc: 1.0000 - auc_multi: 1.0000 - recall: 1.0000 - precision: 1.0000 - f1_score: 1.0000 - val_loss: 0.6532 - val_accuracy: 0.8258 - val_auc: 0.8938 - val_auc_multi: 0.8751 - val_recall: 0.8232 - val_precision: 0.8274 - val_f1_score: 0.7689\n",
      "Epoch 11/15\n",
      "410/410 [==============================] - 31s 75ms/step - loss: 0.0070 - accuracy: 1.0000 - auc: 1.0000 - auc_multi: 1.0000 - recall: 1.0000 - precision: 1.0000 - f1_score: 1.0000 - val_loss: 0.6721 - val_accuracy: 0.8258 - val_auc: 0.8842 - val_auc_multi: 0.8676 - val_recall: 0.8232 - val_precision: 0.8274 - val_f1_score: 0.7689\n",
      "Epoch 12/15\n",
      "410/410 [==============================] - 31s 76ms/step - loss: 0.0061 - accuracy: 1.0000 - auc: 1.0000 - auc_multi: 1.0000 - recall: 1.0000 - precision: 1.0000 - f1_score: 1.0000 - val_loss: 0.6906 - val_accuracy: 0.8258 - val_auc: 0.9351 - val_auc_multi: 0.8946 - val_recall: 0.8232 - val_precision: 0.8274 - val_f1_score: 0.7689\n",
      "Epoch 13/15\n",
      "410/410 [==============================] - 31s 75ms/step - loss: 0.0055 - accuracy: 1.0000 - auc: 1.0000 - auc_multi: 1.0000 - recall: 1.0000 - precision: 1.0000 - f1_score: 1.0000 - val_loss: 0.7039 - val_accuracy: 0.8258 - val_auc: 0.9314 - val_auc_multi: 0.8785 - val_recall: 0.8232 - val_precision: 0.8274 - val_f1_score: 0.7689\n",
      "Epoch 14/15\n",
      "410/410 [==============================] - 31s 75ms/step - loss: 0.0051 - accuracy: 1.0000 - auc: 1.0000 - auc_multi: 1.0000 - recall: 1.0000 - precision: 1.0000 - f1_score: 1.0000 - val_loss: 0.7133 - val_accuracy: 0.8258 - val_auc: 0.9320 - val_auc_multi: 0.8797 - val_recall: 0.8232 - val_precision: 0.8274 - val_f1_score: 0.7689\n",
      "Epoch 15/15\n",
      "410/410 [==============================] - 31s 75ms/step - loss: 0.0048 - accuracy: 1.0000 - auc: 1.0000 - auc_multi: 1.0000 - recall: 1.0000 - precision: 1.0000 - f1_score: 1.0000 - val_loss: 0.7171 - val_accuracy: 0.8258 - val_auc: 0.9319 - val_auc_multi: 0.8807 - val_recall: 0.8232 - val_precision: 0.8274 - val_f1_score: 0.7689\n"
     ]
    },
    {
     "name": "stderr",
     "output_type": "stream",
     "text": [
      "Loading cached processed dataset at /home/miki/.cache/huggingface/datasets/csv/default-0010e7a0edeaefdb/0.0.0/6b34fb8fcf56f7c8ba51dc895bfa2bfbe43546f190a60fcf74bb5e8afdcc2317/cache-09429a8004943140.arrow\n",
      "Loading cached processed dataset at /home/miki/.cache/huggingface/datasets/csv/default-0010e7a0edeaefdb/0.0.0/6b34fb8fcf56f7c8ba51dc895bfa2bfbe43546f190a60fcf74bb5e8afdcc2317/cache-467e29293f6c934c.arrow\n",
      "Loading cached processed dataset at /home/miki/.cache/huggingface/datasets/csv/default-0010e7a0edeaefdb/0.0.0/6b34fb8fcf56f7c8ba51dc895bfa2bfbe43546f190a60fcf74bb5e8afdcc2317/cache-900177109df0c039.arrow\n",
      "Loading cached processed dataset at /home/miki/.cache/huggingface/datasets/csv/default-0010e7a0edeaefdb/0.0.0/6b34fb8fcf56f7c8ba51dc895bfa2bfbe43546f190a60fcf74bb5e8afdcc2317/cache-7bd3dbfa8d84ec5b.arrow\n"
     ]
    },
    {
     "name": "stdout",
     "output_type": "stream",
     "text": [
      "Fold 2/5 finished\n",
      "Are all indices True\n",
      "Indices shared between train & val splits (should be empty): []\n",
      "Train patient IDs: 51\n",
      "Val patient IDs: 16\n",
      "Train + Val patient IDs: 67\n",
      "Patient IDs shared between train & val splits (should be empty): []\n",
      "Train patient ids: ['SOB_B_A-14-22549AB' 'SOB_B_A-14-22549G' 'SOB_B_A-14-29960CD'\n",
      " 'SOB_B_F-14-14134' 'SOB_B_F-14-14134E' 'SOB_B_F-14-23060AB'\n",
      " 'SOB_B_F-14-25197' 'SOB_B_F-14-29960AB' 'SOB_B_F-14-9133'\n",
      " 'SOB_B_PT-14-22704' 'SOB_B_PT-14-29315EF' 'SOB_B_TA-14-13200'\n",
      " 'SOB_B_TA-14-15275' 'SOB_B_TA-14-21978AB' 'SOB_B_TA-14-3411F'\n",
      " 'SOB_M_DC-14-10926' 'SOB_M_DC-14-11031' 'SOB_M_DC-14-11951'\n",
      " 'SOB_M_DC-14-12312' 'SOB_M_DC-14-14946' 'SOB_M_DC-14-15572'\n",
      " 'SOB_M_DC-14-15696' 'SOB_M_DC-14-15792' 'SOB_M_DC-14-16188'\n",
      " 'SOB_M_DC-14-16336' 'SOB_M_DC-14-16716' 'SOB_M_DC-14-16875'\n",
      " 'SOB_M_DC-14-17614' 'SOB_M_DC-14-20629' 'SOB_M_DC-14-20636'\n",
      " 'SOB_M_DC-14-2523' 'SOB_M_DC-14-2773' 'SOB_M_DC-14-4364'\n",
      " 'SOB_M_DC-14-4372' 'SOB_M_DC-14-5695' 'SOB_M_DC-14-6241'\n",
      " 'SOB_M_DC-14-8168' 'SOB_M_LC-14-12204' 'SOB_M_LC-14-13412'\n",
      " 'SOB_M_LC-14-15570' 'SOB_M_LC-14-15570C' 'SOB_M_LC-14-16196'\n",
      " 'SOB_M_MC-14-13413' 'SOB_M_MC-14-13418DE' 'SOB_M_MC-14-18842D'\n",
      " 'SOB_M_MC-14-19979' 'SOB_M_PC-14-12465' 'SOB_M_PC-14-15687B'\n",
      " 'SOB_M_PC-14-15704' 'SOB_M_PC-14-19440' 'SOB_M_PC-14-9146']\n",
      "Val patient ids: ['SOB_B_F-14-21998CD' 'SOB_B_F-14-23060CD' 'SOB_B_F-14-23222AB'\n",
      " 'SOB_B_TA-14-16184' 'SOB_B_TA-14-19854C' 'SOB_M_DC-14-13412'\n",
      " 'SOB_M_DC-14-14015' 'SOB_M_DC-14-14926' 'SOB_M_DC-14-17915'\n",
      " 'SOB_M_DC-14-18650' 'SOB_M_DC-14-2980' 'SOB_M_DC-14-3909'\n",
      " 'SOB_M_DC-14-5694' 'SOB_M_MC-14-10147' 'SOB_M_MC-14-18842'\n",
      " 'SOB_M_PC-15-190EF']\n",
      "<PrefetchDataset element_spec=(TensorSpec(shape=(None, 3, 224, 224), dtype=tf.float32, name=None), TensorSpec(shape=(None, 2), dtype=tf.float32, name=None))>\n",
      "<PrefetchDataset element_spec=(TensorSpec(shape=(None, 3, 224, 224), dtype=tf.float32, name=None), TensorSpec(shape=(None, 2), dtype=tf.float32, name=None))>\n",
      "num_train_steps = 5595\n"
     ]
    },
    {
     "name": "stderr",
     "output_type": "stream",
     "text": [
      "Some layers from the model checkpoint at google/vit-base-patch16-224-in21k were not used when initializing TFViTForImageClassification: ['vit/pooler/dense/kernel:0', 'vit/pooler/dense/bias:0']\n",
      "- This IS expected if you are initializing TFViTForImageClassification from the checkpoint of a model trained on another task or with another architecture (e.g. initializing a BertForSequenceClassification model from a BertForPreTraining model).\n",
      "- This IS NOT expected if you are initializing TFViTForImageClassification from the checkpoint of a model that you expect to be exactly identical (initializing a BertForSequenceClassification model from a BertForSequenceClassification model).\n",
      "Some layers of TFViTForImageClassification were not initialized from the model checkpoint at google/vit-base-patch16-224-in21k and are newly initialized: ['classifier']\n",
      "You should probably TRAIN this model on a down-stream task to be able to use it for predictions and inference.\n"
     ]
    },
    {
     "name": "stdout",
     "output_type": "stream",
     "text": [
      "Epoch 1/15\n",
      "373/373 [==============================] - 45s 86ms/step - loss: 0.3516 - accuracy: 0.8603 - auc: 0.9359 - auc_multi: 0.9221 - recall: 0.7986 - precision: 0.9111 - f1_score: 0.7979 - val_loss: 0.4918 - val_accuracy: 0.7919 - val_auc: 0.8956 - val_auc_multi: 0.9452 - val_recall: 0.7742 - val_precision: 0.8027 - val_f1_score: 0.7876\n",
      "Epoch 2/15\n",
      "373/373 [==============================] - 30s 80ms/step - loss: 0.1690 - accuracy: 0.9526 - auc: 0.9892 - auc_multi: 0.9859 - recall: 0.9445 - precision: 0.9600 - f1_score: 0.9434 - val_loss: 0.4005 - val_accuracy: 0.8565 - val_auc: 0.9428 - val_auc_multi: 0.9369 - val_recall: 0.8516 - val_precision: 0.8599 - val_f1_score: 0.8506\n",
      "Epoch 3/15\n",
      "373/373 [==============================] - 30s 80ms/step - loss: 0.0862 - accuracy: 0.9772 - auc: 0.9975 - auc_multi: 0.9968 - recall: 0.9678 - precision: 0.9863 - f1_score: 0.9742 - val_loss: 0.4264 - val_accuracy: 0.8548 - val_auc: 0.9380 - val_auc_multi: 0.9095 - val_recall: 0.8452 - val_precision: 0.8618 - val_f1_score: 0.8467\n",
      "Epoch 4/15\n",
      "373/373 [==============================] - 30s 80ms/step - loss: 0.0436 - accuracy: 0.9933 - auc: 0.9998 - auc_multi: 0.9998 - recall: 0.9910 - precision: 0.9955 - f1_score: 0.9918 - val_loss: 0.5194 - val_accuracy: 0.8581 - val_auc: 0.9381 - val_auc_multi: 0.9102 - val_recall: 0.8581 - val_precision: 0.8581 - val_f1_score: 0.8536\n",
      "Epoch 5/15\n",
      "373/373 [==============================] - 30s 80ms/step - loss: 0.0597 - accuracy: 0.9875 - auc: 0.9927 - auc_multi: 0.9902 - recall: 0.9839 - precision: 0.9910 - f1_score: 0.9845 - val_loss: 0.5256 - val_accuracy: 0.8323 - val_auc: 0.9263 - val_auc_multi: 0.9230 - val_recall: 0.8290 - val_precision: 0.8344 - val_f1_score: 0.8235\n",
      "Epoch 6/15\n",
      "373/373 [==============================] - 30s 80ms/step - loss: 0.0282 - accuracy: 0.9964 - auc: 0.9999 - auc_multi: 0.9999 - recall: 0.9955 - precision: 0.9973 - f1_score: 0.9953 - val_loss: 0.5186 - val_accuracy: 0.8565 - val_auc: 0.9369 - val_auc_multi: 0.9055 - val_recall: 0.8516 - val_precision: 0.8599 - val_f1_score: 0.8494\n",
      "Epoch 7/15\n",
      "373/373 [==============================] - 30s 80ms/step - loss: 0.0131 - accuracy: 1.0000 - auc: 1.0000 - auc_multi: 1.0000 - recall: 1.0000 - precision: 1.0000 - f1_score: 1.0000 - val_loss: 0.5583 - val_accuracy: 0.8468 - val_auc: 0.9336 - val_auc_multi: 0.9143 - val_recall: 0.8387 - val_precision: 0.8525 - val_f1_score: 0.8378\n",
      "Epoch 8/15\n",
      "373/373 [==============================] - 30s 80ms/step - loss: 0.0103 - accuracy: 1.0000 - auc: 1.0000 - auc_multi: 1.0000 - recall: 1.0000 - precision: 1.0000 - f1_score: 1.0000 - val_loss: 0.5846 - val_accuracy: 0.8484 - val_auc: 0.9308 - val_auc_multi: 0.8937 - val_recall: 0.8387 - val_precision: 0.8553 - val_f1_score: 0.8390\n",
      "Epoch 9/15\n",
      "373/373 [==============================] - 30s 80ms/step - loss: 0.0084 - accuracy: 1.0000 - auc: 1.0000 - auc_multi: 1.0000 - recall: 1.0000 - precision: 1.0000 - f1_score: 1.0000 - val_loss: 0.6077 - val_accuracy: 0.8500 - val_auc: 0.9218 - val_auc_multi: 0.9111 - val_recall: 0.8419 - val_precision: 0.8557 - val_f1_score: 0.8415\n",
      "Epoch 10/15\n",
      "373/373 [==============================] - 30s 80ms/step - loss: 0.0071 - accuracy: 1.0000 - auc: 1.0000 - auc_multi: 1.0000 - recall: 1.0000 - precision: 1.0000 - f1_score: 1.0000 - val_loss: 0.6273 - val_accuracy: 0.8500 - val_auc: 0.8813 - val_auc_multi: 0.8932 - val_recall: 0.8419 - val_precision: 0.8557 - val_f1_score: 0.8415\n",
      "Epoch 11/15\n",
      "373/373 [==============================] - 30s 81ms/step - loss: 0.0061 - accuracy: 1.0000 - auc: 1.0000 - auc_multi: 1.0000 - recall: 1.0000 - precision: 1.0000 - f1_score: 1.0000 - val_loss: 0.6444 - val_accuracy: 0.8532 - val_auc: 0.9306 - val_auc_multi: 0.8953 - val_recall: 0.8484 - val_precision: 0.8567 - val_f1_score: 0.8463\n",
      "Epoch 12/15\n",
      "373/373 [==============================] - 29s 78ms/step - loss: 0.0054 - accuracy: 1.0000 - auc: 1.0000 - auc_multi: 1.0000 - recall: 1.0000 - precision: 1.0000 - f1_score: 1.0000 - val_loss: 0.6588 - val_accuracy: 0.8532 - val_auc: 0.9307 - val_auc_multi: 0.8928 - val_recall: 0.8484 - val_precision: 0.8567 - val_f1_score: 0.8463\n",
      "Epoch 13/15\n",
      "373/373 [==============================] - 29s 77ms/step - loss: 0.0048 - accuracy: 1.0000 - auc: 1.0000 - auc_multi: 1.0000 - recall: 1.0000 - precision: 1.0000 - f1_score: 1.0000 - val_loss: 0.6700 - val_accuracy: 0.8532 - val_auc: 0.9294 - val_auc_multi: 0.8896 - val_recall: 0.8484 - val_precision: 0.8567 - val_f1_score: 0.8463\n",
      "Epoch 14/15\n",
      "373/373 [==============================] - 29s 77ms/step - loss: 0.0045 - accuracy: 1.0000 - auc: 1.0000 - auc_multi: 1.0000 - recall: 1.0000 - precision: 1.0000 - f1_score: 1.0000 - val_loss: 0.6772 - val_accuracy: 0.8532 - val_auc: 0.9296 - val_auc_multi: 0.8900 - val_recall: 0.8484 - val_precision: 0.8567 - val_f1_score: 0.8463\n",
      "Epoch 15/15\n",
      "373/373 [==============================] - 30s 80ms/step - loss: 0.0043 - accuracy: 1.0000 - auc: 1.0000 - auc_multi: 1.0000 - recall: 1.0000 - precision: 1.0000 - f1_score: 1.0000 - val_loss: 0.6797 - val_accuracy: 0.8532 - val_auc: 0.9296 - val_auc_multi: 0.8900 - val_recall: 0.8484 - val_precision: 0.8567 - val_f1_score: 0.8463\n"
     ]
    },
    {
     "name": "stderr",
     "output_type": "stream",
     "text": [
      "Loading cached processed dataset at /home/miki/.cache/huggingface/datasets/csv/default-0010e7a0edeaefdb/0.0.0/6b34fb8fcf56f7c8ba51dc895bfa2bfbe43546f190a60fcf74bb5e8afdcc2317/cache-0065557df797b3f7.arrow\n",
      "Loading cached processed dataset at /home/miki/.cache/huggingface/datasets/csv/default-0010e7a0edeaefdb/0.0.0/6b34fb8fcf56f7c8ba51dc895bfa2bfbe43546f190a60fcf74bb5e8afdcc2317/cache-05acabea464fe84e.arrow\n",
      "Loading cached processed dataset at /home/miki/.cache/huggingface/datasets/csv/default-0010e7a0edeaefdb/0.0.0/6b34fb8fcf56f7c8ba51dc895bfa2bfbe43546f190a60fcf74bb5e8afdcc2317/cache-70a14f2cb1668398.arrow\n",
      "Loading cached processed dataset at /home/miki/.cache/huggingface/datasets/csv/default-0010e7a0edeaefdb/0.0.0/6b34fb8fcf56f7c8ba51dc895bfa2bfbe43546f190a60fcf74bb5e8afdcc2317/cache-9b64585082c8b492.arrow\n"
     ]
    },
    {
     "name": "stdout",
     "output_type": "stream",
     "text": [
      "Fold 3/5 finished\n",
      "Are all indices True\n",
      "Indices shared between train & val splits (should be empty): []\n",
      "Train patient IDs: 55\n",
      "Val patient IDs: 12\n",
      "Train + Val patient IDs: 67\n",
      "Patient IDs shared between train & val splits (should be empty): []\n",
      "Train patient ids: ['SOB_B_A-14-22549AB' 'SOB_B_A-14-22549G' 'SOB_B_A-14-29960CD'\n",
      " 'SOB_B_F-14-14134' 'SOB_B_F-14-14134E' 'SOB_B_F-14-21998CD'\n",
      " 'SOB_B_F-14-23060AB' 'SOB_B_F-14-23060CD' 'SOB_B_F-14-23222AB'\n",
      " 'SOB_B_F-14-29960AB' 'SOB_B_F-14-9133' 'SOB_B_PT-14-29315EF'\n",
      " 'SOB_B_TA-14-15275' 'SOB_B_TA-14-16184' 'SOB_B_TA-14-19854C'\n",
      " 'SOB_B_TA-14-21978AB' 'SOB_M_DC-14-10926' 'SOB_M_DC-14-11031'\n",
      " 'SOB_M_DC-14-11951' 'SOB_M_DC-14-12312' 'SOB_M_DC-14-13412'\n",
      " 'SOB_M_DC-14-14015' 'SOB_M_DC-14-14926' 'SOB_M_DC-14-15572'\n",
      " 'SOB_M_DC-14-15696' 'SOB_M_DC-14-15792' 'SOB_M_DC-14-16188'\n",
      " 'SOB_M_DC-14-16336' 'SOB_M_DC-14-16875' 'SOB_M_DC-14-17915'\n",
      " 'SOB_M_DC-14-18650' 'SOB_M_DC-14-20629' 'SOB_M_DC-14-20636'\n",
      " 'SOB_M_DC-14-2523' 'SOB_M_DC-14-2773' 'SOB_M_DC-14-2980'\n",
      " 'SOB_M_DC-14-3909' 'SOB_M_DC-14-4364' 'SOB_M_DC-14-4372'\n",
      " 'SOB_M_DC-14-5694' 'SOB_M_DC-14-5695' 'SOB_M_DC-14-6241'\n",
      " 'SOB_M_LC-14-15570' 'SOB_M_LC-14-15570C' 'SOB_M_LC-14-16196'\n",
      " 'SOB_M_MC-14-10147' 'SOB_M_MC-14-13413' 'SOB_M_MC-14-13418DE'\n",
      " 'SOB_M_MC-14-18842' 'SOB_M_MC-14-18842D' 'SOB_M_MC-14-19979'\n",
      " 'SOB_M_PC-14-12465' 'SOB_M_PC-14-19440' 'SOB_M_PC-14-9146'\n",
      " 'SOB_M_PC-15-190EF']\n",
      "Val patient ids: ['SOB_B_F-14-25197' 'SOB_B_PT-14-22704' 'SOB_B_TA-14-13200'\n",
      " 'SOB_B_TA-14-3411F' 'SOB_M_DC-14-14946' 'SOB_M_DC-14-16716'\n",
      " 'SOB_M_DC-14-17614' 'SOB_M_DC-14-8168' 'SOB_M_LC-14-12204'\n",
      " 'SOB_M_LC-14-13412' 'SOB_M_PC-14-15687B' 'SOB_M_PC-14-15704']\n",
      "<PrefetchDataset element_spec=(TensorSpec(shape=(None, 3, 224, 224), dtype=tf.float32, name=None), TensorSpec(shape=(None, 2), dtype=tf.float32, name=None))>\n",
      "<PrefetchDataset element_spec=(TensorSpec(shape=(None, 3, 224, 224), dtype=tf.float32, name=None), TensorSpec(shape=(None, 2), dtype=tf.float32, name=None))>\n",
      "num_train_steps = 5625\n"
     ]
    },
    {
     "name": "stderr",
     "output_type": "stream",
     "text": [
      "Some layers from the model checkpoint at google/vit-base-patch16-224-in21k were not used when initializing TFViTForImageClassification: ['vit/pooler/dense/kernel:0', 'vit/pooler/dense/bias:0']\n",
      "- This IS expected if you are initializing TFViTForImageClassification from the checkpoint of a model trained on another task or with another architecture (e.g. initializing a BertForSequenceClassification model from a BertForPreTraining model).\n",
      "- This IS NOT expected if you are initializing TFViTForImageClassification from the checkpoint of a model that you expect to be exactly identical (initializing a BertForSequenceClassification model from a BertForSequenceClassification model).\n",
      "Some layers of TFViTForImageClassification were not initialized from the model checkpoint at google/vit-base-patch16-224-in21k and are newly initialized: ['classifier']\n",
      "You should probably TRAIN this model on a down-stream task to be able to use it for predictions and inference.\n"
     ]
    },
    {
     "name": "stdout",
     "output_type": "stream",
     "text": [
      "Epoch 1/15\n",
      "375/375 [==============================] - 46s 85ms/step - loss: 0.3146 - accuracy: 0.8776 - auc: 0.9547 - auc_multi: 0.9456 - recall: 0.8094 - precision: 0.9371 - f1_score: 0.8287 - val_loss: 0.6259 - val_accuracy: 0.7401 - val_auc: 0.7347 - val_auc_multi: 0.6555 - val_recall: 0.7105 - val_precision: 0.7552 - val_f1_score: 0.7086\n",
      "Epoch 2/15\n",
      "375/375 [==============================] - 30s 80ms/step - loss: 0.1436 - accuracy: 0.9635 - auc: 0.9865 - auc_multi: 0.9825 - recall: 0.9546 - precision: 0.9719 - f1_score: 0.9553 - val_loss: 1.0789 - val_accuracy: 0.6036 - val_auc: 0.6585 - val_auc_multi: 0.6580 - val_recall: 0.5921 - val_precision: 0.6061 - val_f1_score: 0.5928\n",
      "Epoch 3/15\n",
      "375/375 [==============================] - 30s 80ms/step - loss: 0.1017 - accuracy: 0.9720 - auc: 0.9971 - auc_multi: 0.9963 - recall: 0.9644 - precision: 0.9792 - f1_score: 0.9672 - val_loss: 0.5953 - val_accuracy: 0.8289 - val_auc: 0.8087 - val_auc_multi: 0.7341 - val_recall: 0.8257 - val_precision: 0.8311 - val_f1_score: 0.7983\n",
      "Epoch 4/15\n",
      "375/375 [==============================] - 30s 80ms/step - loss: 0.0454 - accuracy: 0.9929 - auc: 0.9983 - auc_multi: 0.9977 - recall: 0.9920 - precision: 0.9938 - f1_score: 0.9915 - val_loss: 0.6189 - val_accuracy: 0.8322 - val_auc: 0.8136 - val_auc_multi: 0.7465 - val_recall: 0.8322 - val_precision: 0.8322 - val_f1_score: 0.8019\n",
      "Epoch 5/15\n",
      "375/375 [==============================] - 30s 80ms/step - loss: 0.0224 - accuracy: 0.9991 - auc: 1.0000 - auc_multi: 1.0000 - recall: 0.9982 - precision: 1.0000 - f1_score: 0.9989 - val_loss: 0.6909 - val_accuracy: 0.8322 - val_auc: 0.8280 - val_auc_multi: 0.7745 - val_recall: 0.8289 - val_precision: 0.8344 - val_f1_score: 0.8004\n",
      "Epoch 6/15\n",
      "375/375 [==============================] - 30s 80ms/step - loss: 0.0302 - accuracy: 0.9942 - auc: 0.9998 - auc_multi: 0.9996 - recall: 0.9920 - precision: 0.9964 - f1_score: 0.9933 - val_loss: 0.8492 - val_accuracy: 0.7697 - val_auc: 0.8049 - val_auc_multi: 0.7577 - val_recall: 0.7599 - val_precision: 0.7752 - val_f1_score: 0.7429\n",
      "Epoch 7/15\n",
      "375/375 [==============================] - 30s 79ms/step - loss: 0.0131 - accuracy: 0.9991 - auc: 1.0000 - auc_multi: 1.0000 - recall: 0.9991 - precision: 0.9991 - f1_score: 0.9989 - val_loss: 0.8056 - val_accuracy: 0.8191 - val_auc: 0.8173 - val_auc_multi: 0.7636 - val_recall: 0.8158 - val_precision: 0.8212 - val_f1_score: 0.7894\n",
      "Epoch 8/15\n",
      "375/375 [==============================] - 30s 80ms/step - loss: 0.0242 - accuracy: 0.9942 - auc: 0.9999 - auc_multi: 0.9999 - recall: 0.9938 - precision: 0.9947 - f1_score: 0.9929 - val_loss: 0.7996 - val_accuracy: 0.8257 - val_auc: 0.8342 - val_auc_multi: 0.7861 - val_recall: 0.8224 - val_precision: 0.8278 - val_f1_score: 0.7916\n",
      "Epoch 9/15\n",
      "375/375 [==============================] - 30s 80ms/step - loss: 0.0086 - accuracy: 1.0000 - auc: 1.0000 - auc_multi: 1.0000 - recall: 1.0000 - precision: 1.0000 - f1_score: 1.0000 - val_loss: 0.8512 - val_accuracy: 0.8240 - val_auc: 0.8239 - val_auc_multi: 0.7825 - val_recall: 0.8224 - val_precision: 0.8251 - val_f1_score: 0.7906\n",
      "Epoch 10/15\n",
      "375/375 [==============================] - 30s 80ms/step - loss: 0.0067 - accuracy: 1.0000 - auc: 1.0000 - auc_multi: 1.0000 - recall: 1.0000 - precision: 1.0000 - f1_score: 1.0000 - val_loss: 0.8738 - val_accuracy: 0.8257 - val_auc: 0.8280 - val_auc_multi: 0.7799 - val_recall: 0.8257 - val_precision: 0.8257 - val_f1_score: 0.7941\n",
      "Epoch 11/15\n",
      "375/375 [==============================] - 30s 80ms/step - loss: 0.0058 - accuracy: 1.0000 - auc: 1.0000 - auc_multi: 1.0000 - recall: 1.0000 - precision: 1.0000 - f1_score: 1.0000 - val_loss: 0.8951 - val_accuracy: 0.8257 - val_auc: 0.8368 - val_auc_multi: 0.7919 - val_recall: 0.8257 - val_precision: 0.8257 - val_f1_score: 0.7941\n",
      "Epoch 12/15\n",
      "375/375 [==============================] - 30s 80ms/step - loss: 0.0051 - accuracy: 1.0000 - auc: 1.0000 - auc_multi: 1.0000 - recall: 1.0000 - precision: 1.0000 - f1_score: 1.0000 - val_loss: 0.9133 - val_accuracy: 0.8273 - val_auc: 0.8359 - val_auc_multi: 0.7899 - val_recall: 0.8257 - val_precision: 0.8284 - val_f1_score: 0.7951\n",
      "Epoch 13/15\n",
      "375/375 [==============================] - 30s 80ms/step - loss: 0.0047 - accuracy: 1.0000 - auc: 1.0000 - auc_multi: 1.0000 - recall: 1.0000 - precision: 1.0000 - f1_score: 1.0000 - val_loss: 0.9273 - val_accuracy: 0.8273 - val_auc: 0.8330 - val_auc_multi: 0.7848 - val_recall: 0.8257 - val_precision: 0.8284 - val_f1_score: 0.7951\n",
      "Epoch 14/15\n",
      "375/375 [==============================] - 30s 81ms/step - loss: 0.0043 - accuracy: 1.0000 - auc: 1.0000 - auc_multi: 1.0000 - recall: 1.0000 - precision: 1.0000 - f1_score: 1.0000 - val_loss: 0.9368 - val_accuracy: 0.8273 - val_auc: 0.8330 - val_auc_multi: 0.7848 - val_recall: 0.8257 - val_precision: 0.8284 - val_f1_score: 0.7951\n",
      "Epoch 15/15\n",
      "375/375 [==============================] - 30s 80ms/step - loss: 0.0042 - accuracy: 1.0000 - auc: 1.0000 - auc_multi: 1.0000 - recall: 1.0000 - precision: 1.0000 - f1_score: 1.0000 - val_loss: 0.9405 - val_accuracy: 0.8273 - val_auc: 0.8330 - val_auc_multi: 0.7848 - val_recall: 0.8257 - val_precision: 0.8284 - val_f1_score: 0.7951\n"
     ]
    },
    {
     "name": "stderr",
     "output_type": "stream",
     "text": [
      "Loading cached processed dataset at /home/miki/.cache/huggingface/datasets/csv/default-0010e7a0edeaefdb/0.0.0/6b34fb8fcf56f7c8ba51dc895bfa2bfbe43546f190a60fcf74bb5e8afdcc2317/cache-25a1e5a04b697f60.arrow\n",
      "Loading cached processed dataset at /home/miki/.cache/huggingface/datasets/csv/default-0010e7a0edeaefdb/0.0.0/6b34fb8fcf56f7c8ba51dc895bfa2bfbe43546f190a60fcf74bb5e8afdcc2317/cache-e6a67e99fc1bf625.arrow\n",
      "Loading cached processed dataset at /home/miki/.cache/huggingface/datasets/csv/default-0010e7a0edeaefdb/0.0.0/6b34fb8fcf56f7c8ba51dc895bfa2bfbe43546f190a60fcf74bb5e8afdcc2317/cache-5dc1d6945bbb02f4.arrow\n",
      "Loading cached processed dataset at /home/miki/.cache/huggingface/datasets/csv/default-0010e7a0edeaefdb/0.0.0/6b34fb8fcf56f7c8ba51dc895bfa2bfbe43546f190a60fcf74bb5e8afdcc2317/cache-b85136c4211e8e0e.arrow\n"
     ]
    },
    {
     "name": "stdout",
     "output_type": "stream",
     "text": [
      "Fold 4/5 finished\n",
      "Are all indices True\n",
      "Indices shared between train & val splits (should be empty): []\n",
      "Train patient IDs: 55\n",
      "Val patient IDs: 12\n",
      "Train + Val patient IDs: 67\n",
      "Patient IDs shared between train & val splits (should be empty): []\n",
      "Train patient ids: ['SOB_B_A-14-22549AB' 'SOB_B_F-14-14134E' 'SOB_B_F-14-21998CD'\n",
      " 'SOB_B_F-14-23060AB' 'SOB_B_F-14-23060CD' 'SOB_B_F-14-23222AB'\n",
      " 'SOB_B_F-14-25197' 'SOB_B_F-14-29960AB' 'SOB_B_F-14-9133'\n",
      " 'SOB_B_PT-14-22704' 'SOB_B_PT-14-29315EF' 'SOB_B_TA-14-13200'\n",
      " 'SOB_B_TA-14-16184' 'SOB_B_TA-14-19854C' 'SOB_B_TA-14-21978AB'\n",
      " 'SOB_B_TA-14-3411F' 'SOB_M_DC-14-10926' 'SOB_M_DC-14-11031'\n",
      " 'SOB_M_DC-14-11951' 'SOB_M_DC-14-12312' 'SOB_M_DC-14-13412'\n",
      " 'SOB_M_DC-14-14015' 'SOB_M_DC-14-14926' 'SOB_M_DC-14-14946'\n",
      " 'SOB_M_DC-14-15572' 'SOB_M_DC-14-15696' 'SOB_M_DC-14-15792'\n",
      " 'SOB_M_DC-14-16336' 'SOB_M_DC-14-16716' 'SOB_M_DC-14-16875'\n",
      " 'SOB_M_DC-14-17614' 'SOB_M_DC-14-17915' 'SOB_M_DC-14-18650'\n",
      " 'SOB_M_DC-14-20629' 'SOB_M_DC-14-20636' 'SOB_M_DC-14-2980'\n",
      " 'SOB_M_DC-14-3909' 'SOB_M_DC-14-4364' 'SOB_M_DC-14-5694'\n",
      " 'SOB_M_DC-14-5695' 'SOB_M_DC-14-6241' 'SOB_M_DC-14-8168'\n",
      " 'SOB_M_LC-14-12204' 'SOB_M_LC-14-13412' 'SOB_M_LC-14-15570C'\n",
      " 'SOB_M_LC-14-16196' 'SOB_M_MC-14-10147' 'SOB_M_MC-14-13413'\n",
      " 'SOB_M_MC-14-13418DE' 'SOB_M_MC-14-18842' 'SOB_M_MC-14-18842D'\n",
      " 'SOB_M_MC-14-19979' 'SOB_M_PC-14-15687B' 'SOB_M_PC-14-15704'\n",
      " 'SOB_M_PC-15-190EF']\n",
      "Val patient ids: ['SOB_B_A-14-22549G' 'SOB_B_A-14-29960CD' 'SOB_B_F-14-14134'\n",
      " 'SOB_B_TA-14-15275' 'SOB_M_DC-14-16188' 'SOB_M_DC-14-2523'\n",
      " 'SOB_M_DC-14-2773' 'SOB_M_DC-14-4372' 'SOB_M_LC-14-15570'\n",
      " 'SOB_M_PC-14-12465' 'SOB_M_PC-14-19440' 'SOB_M_PC-14-9146']\n",
      "<PrefetchDataset element_spec=(TensorSpec(shape=(None, 3, 224, 224), dtype=tf.float32, name=None), TensorSpec(shape=(None, 2), dtype=tf.float32, name=None))>\n",
      "<PrefetchDataset element_spec=(TensorSpec(shape=(None, 3, 224, 224), dtype=tf.float32, name=None), TensorSpec(shape=(None, 2), dtype=tf.float32, name=None))>\n",
      "num_train_steps = 5535\n"
     ]
    },
    {
     "name": "stderr",
     "output_type": "stream",
     "text": [
      "Some layers from the model checkpoint at google/vit-base-patch16-224-in21k were not used when initializing TFViTForImageClassification: ['vit/pooler/dense/kernel:0', 'vit/pooler/dense/bias:0']\n",
      "- This IS expected if you are initializing TFViTForImageClassification from the checkpoint of a model trained on another task or with another architecture (e.g. initializing a BertForSequenceClassification model from a BertForPreTraining model).\n",
      "- This IS NOT expected if you are initializing TFViTForImageClassification from the checkpoint of a model that you expect to be exactly identical (initializing a BertForSequenceClassification model from a BertForSequenceClassification model).\n",
      "Some layers of TFViTForImageClassification were not initialized from the model checkpoint at google/vit-base-patch16-224-in21k and are newly initialized: ['classifier']\n",
      "You should probably TRAIN this model on a down-stream task to be able to use it for predictions and inference.\n"
     ]
    },
    {
     "name": "stdout",
     "output_type": "stream",
     "text": [
      "Epoch 1/15\n",
      "369/369 [==============================] - 45s 86ms/step - loss: 0.3706 - accuracy: 0.8463 - auc: 0.9308 - auc_multi: 0.9177 - recall: 0.7749 - precision: 0.9040 - f1_score: 0.7876 - val_loss: 0.2958 - val_accuracy: 0.8910 - val_auc: 0.9583 - val_auc_multi: 0.9574 - val_recall: 0.8785 - val_precision: 0.9010 - val_f1_score: 0.8626\n",
      "Epoch 2/15\n",
      "369/369 [==============================] - 30s 80ms/step - loss: 0.1567 - accuracy: 0.9593 - auc: 0.9928 - auc_multi: 0.9906 - recall: 0.9467 - precision: 0.9712 - f1_score: 0.9514 - val_loss: 0.2961 - val_accuracy: 0.8894 - val_auc: 0.9497 - val_auc_multi: 0.9431 - val_recall: 0.8723 - val_precision: 0.9032 - val_f1_score: 0.8690\n",
      "Epoch 3/15\n",
      "369/369 [==============================] - 30s 80ms/step - loss: 0.1240 - accuracy: 0.9656 - auc: 0.9877 - auc_multi: 0.9842 - recall: 0.9566 - precision: 0.9742 - f1_score: 0.9579 - val_loss: 0.2169 - val_accuracy: 0.9237 - val_auc: 0.9732 - val_auc_multi: 0.9757 - val_recall: 0.9097 - val_precision: 0.9359 - val_f1_score: 0.9057\n",
      "Epoch 4/15\n",
      "369/369 [==============================] - 30s 81ms/step - loss: 0.0736 - accuracy: 0.9837 - auc: 0.9913 - auc_multi: 0.9868 - recall: 0.9810 - precision: 0.9864 - f1_score: 0.9813 - val_loss: 0.3144 - val_accuracy: 0.8863 - val_auc: 0.9550 - val_auc_multi: 0.9551 - val_recall: 0.8723 - val_precision: 0.8974 - val_f1_score: 0.8550\n",
      "Epoch 5/15\n",
      "369/369 [==============================] - 30s 81ms/step - loss: 0.1043 - accuracy: 0.9724 - auc: 0.9896 - auc_multi: 0.9846 - recall: 0.9702 - precision: 0.9746 - f1_score: 0.9664 - val_loss: 0.3357 - val_accuracy: 0.8769 - val_auc: 0.9414 - val_auc_multi: 0.9288 - val_recall: 0.8723 - val_precision: 0.8805 - val_f1_score: 0.8408\n",
      "Epoch 6/15\n",
      "369/369 [==============================] - 30s 81ms/step - loss: 0.0328 - accuracy: 0.9950 - auc: 0.9999 - auc_multi: 0.9999 - recall: 0.9937 - precision: 0.9964 - f1_score: 0.9940 - val_loss: 0.3092 - val_accuracy: 0.8988 - val_auc: 0.9576 - val_auc_multi: 0.9471 - val_recall: 0.8879 - val_precision: 0.9076 - val_f1_score: 0.8749\n",
      "Epoch 7/15\n",
      "369/369 [==============================] - 30s 82ms/step - loss: 0.0162 - accuracy: 1.0000 - auc: 1.0000 - auc_multi: 1.0000 - recall: 1.0000 - precision: 1.0000 - f1_score: 1.0000 - val_loss: 0.3181 - val_accuracy: 0.9050 - val_auc: 0.9615 - val_auc_multi: 0.9481 - val_recall: 0.8972 - val_precision: 0.9114 - val_f1_score: 0.8866\n",
      "Epoch 8/15\n",
      "369/369 [==============================] - 30s 81ms/step - loss: 0.0127 - accuracy: 1.0000 - auc: 1.0000 - auc_multi: 1.0000 - recall: 1.0000 - precision: 1.0000 - f1_score: 1.0000 - val_loss: 0.3317 - val_accuracy: 0.9034 - val_auc: 0.9569 - val_auc_multi: 0.9492 - val_recall: 0.8972 - val_precision: 0.9085 - val_f1_score: 0.8855\n",
      "Epoch 9/15\n",
      "369/369 [==============================] - 30s 81ms/step - loss: 0.0104 - accuracy: 1.0000 - auc: 1.0000 - auc_multi: 1.0000 - recall: 1.0000 - precision: 1.0000 - f1_score: 1.0000 - val_loss: 0.3437 - val_accuracy: 0.9034 - val_auc: 0.9622 - val_auc_multi: 0.9480 - val_recall: 0.8972 - val_precision: 0.9085 - val_f1_score: 0.8855\n",
      "Epoch 10/15\n",
      "369/369 [==============================] - 30s 80ms/step - loss: 0.0087 - accuracy: 1.0000 - auc: 1.0000 - auc_multi: 1.0000 - recall: 1.0000 - precision: 1.0000 - f1_score: 1.0000 - val_loss: 0.3542 - val_accuracy: 0.9050 - val_auc: 0.9524 - val_auc_multi: 0.9429 - val_recall: 0.9003 - val_precision: 0.9088 - val_f1_score: 0.8867\n",
      "Epoch 11/15\n",
      "369/369 [==============================] - 30s 81ms/step - loss: 0.0075 - accuracy: 1.0000 - auc: 1.0000 - auc_multi: 1.0000 - recall: 1.0000 - precision: 1.0000 - f1_score: 1.0000 - val_loss: 0.3638 - val_accuracy: 0.9050 - val_auc: 0.9487 - val_auc_multi: 0.9419 - val_recall: 0.9003 - val_precision: 0.9088 - val_f1_score: 0.8867\n",
      "Epoch 12/15\n",
      "369/369 [==============================] - 30s 80ms/step - loss: 0.0066 - accuracy: 1.0000 - auc: 1.0000 - auc_multi: 1.0000 - recall: 1.0000 - precision: 1.0000 - f1_score: 1.0000 - val_loss: 0.3712 - val_accuracy: 0.9050 - val_auc: 0.9475 - val_auc_multi: 0.9423 - val_recall: 0.9003 - val_precision: 0.9088 - val_f1_score: 0.8867\n",
      "Epoch 13/15\n",
      "369/369 [==============================] - 30s 80ms/step - loss: 0.0059 - accuracy: 1.0000 - auc: 1.0000 - auc_multi: 1.0000 - recall: 1.0000 - precision: 1.0000 - f1_score: 1.0000 - val_loss: 0.3775 - val_accuracy: 0.9050 - val_auc: 0.9571 - val_auc_multi: 0.9467 - val_recall: 0.9003 - val_precision: 0.9088 - val_f1_score: 0.8867\n",
      "Epoch 14/15\n",
      "369/369 [==============================] - 30s 81ms/step - loss: 0.0055 - accuracy: 1.0000 - auc: 1.0000 - auc_multi: 1.0000 - recall: 1.0000 - precision: 1.0000 - f1_score: 1.0000 - val_loss: 0.3814 - val_accuracy: 0.9050 - val_auc: 0.9605 - val_auc_multi: 0.9475 - val_recall: 0.9003 - val_precision: 0.9088 - val_f1_score: 0.8867\n",
      "Epoch 15/15\n",
      "369/369 [==============================] - 30s 81ms/step - loss: 0.0053 - accuracy: 1.0000 - auc: 1.0000 - auc_multi: 1.0000 - recall: 1.0000 - precision: 1.0000 - f1_score: 1.0000 - val_loss: 0.3829 - val_accuracy: 0.9050 - val_auc: 0.9595 - val_auc_multi: 0.9452 - val_recall: 0.9003 - val_precision: 0.9088 - val_f1_score: 0.8867\n",
      "Fold 5/5 finished\n"
     ]
    }
   ],
   "source": [
    "for idx in range(n_splits):\n",
    "    run_fold(idx)"
   ]
  },
  {
   "attachments": {},
   "cell_type": "markdown",
   "metadata": {},
   "source": [
    "#### Dump histories"
   ]
  },
  {
   "cell_type": "code",
   "execution_count": 17,
   "metadata": {},
   "outputs": [],
   "source": [
    "# for idx, model_with_history in enumerate(models_with_histories):\n",
    "#     history = model_with_history.get('history', None)\n",
    "#     np.save(output_path / f'train_history_{idx}.npy', history.history)\n",
    "\n",
    "# To load:\n",
    "# history = np.load(output_path / f'train_history_{idx}.npy', allow_pickle='TRUE').item()\n"
   ]
  },
  {
   "attachments": {},
   "cell_type": "markdown",
   "metadata": {},
   "source": [
    "#### Save the best model"
   ]
  },
  {
   "cell_type": "code",
   "execution_count": 18,
   "metadata": {},
   "outputs": [
    {
     "name": "stdout",
     "output_type": "stream",
     "text": [
      "Best model index: 0, val_accuracy: 0.9438775777816772\n",
      "{\n",
      "    \"idx\": 0,\n",
      "    \"model_id\": \"google/vit-base-patch16-224-in21k\",\n",
      "    \"zoom\": 400,\n",
      "    \"n_splits\": 5,\n",
      "    \"num_train_epochs\": 15,\n",
      "    \"train_batch_size\": 3,\n",
      "    \"eval_batch_size\": 3,\n",
      "    \"learning_rate\": 3e-05,\n",
      "    \"weight_decay_rate\": 0.01,\n",
      "    \"num_warmup_steps\": 0,\n",
      "    \"num_train_steps\": 5670\n",
      "}\n"
     ]
    }
   ],
   "source": [
    "import pandas as pd\n",
    "\n",
    "csv_files = [output_path / f'train_metrics_{idx}.csv' for idx in range(n_splits)]\n",
    "dataframes = [pd.read_csv(file) for file in csv_files]\n",
    "\n",
    "\n",
    "best_model_index = None\n",
    "best_val_accuracy = 0.0\n",
    "\n",
    "for i, df in enumerate(dataframes):\n",
    "    val_accuracy = df.iloc[-1]['val_accuracy']\n",
    "    if val_accuracy > best_val_accuracy:\n",
    "        best_val_accuracy = val_accuracy\n",
    "        best_model_index = i\n",
    "\n",
    "print(f\"Best model index: {best_model_index}, val_accuracy: {best_val_accuracy}\")\n",
    "\n",
    "\n",
    "best_model = models_with_histories[best_model_index].get('model', None)\n",
    "best_model.save_pretrained(output_path / 'best_model', from_tf=True) \n",
    "\n",
    "best_model_info = {\"idx\": best_model_index,\n",
    "                   \"model_id\": model_id,\n",
    "                   \"zoom\": zoom,\n",
    "                   \"n_splits\": n_splits,\n",
    "                   \"num_train_epochs\": num_train_epochs,\n",
    "                   \"train_batch_size\": train_batch_size,\n",
    "                   \"eval_batch_size\": eval_batch_size,\n",
    "                   \"learning_rate\": learning_rate,\n",
    "                   \"weight_decay_rate\": weight_decay_rate,\n",
    "                   \"num_warmup_steps\": num_warmup_steps,\n",
    "                   \"num_train_steps\": num_train_steps_list[best_model_index]}\n",
    "\n",
    "with open(output_path / 'best_model_info.json', 'w') as f:\n",
    "    json.dump(best_model_info, f, indent=4)\n",
    "\n",
    "print(json.dumps(best_model_info, indent=4))"
   ]
  },
  {
   "cell_type": "code",
   "execution_count": 19,
   "metadata": {},
   "outputs": [
    {
     "name": "stdout",
     "output_type": "stream",
     "text": [
      "{\n",
      "    \"accuracy\": {\n",
      "        \"mean\": 1.0,\n",
      "        \"std\": 0.0\n",
      "    },\n",
      "    \"auc\": {\n",
      "        \"mean\": 0.9999999761581421,\n",
      "        \"std\": 3.2646808475563895e-08\n",
      "    },\n",
      "    \"auc_multi\": {\n",
      "        \"mean\": 1.0,\n",
      "        \"std\": 0.0\n",
      "    },\n",
      "    \"loss\": {\n",
      "        \"mean\": 0.00485589941963548,\n",
      "        \"std\": 0.0006440639756461792\n",
      "    },\n",
      "    \"precision\": {\n",
      "        \"mean\": 1.0,\n",
      "        \"std\": 0.0\n",
      "    },\n",
      "    \"recall\": {\n",
      "        \"mean\": 1.0,\n",
      "        \"std\": 0.0\n",
      "    },\n",
      "    \"val_accuracy\": {\n",
      "        \"mean\": 0.8710296034812928,\n",
      "        \"std\": 0.05181297241500801\n",
      "    },\n",
      "    \"val_auc\": {\n",
      "        \"mean\": 0.9266295075416565,\n",
      "        \"std\": 0.05623185394946403\n",
      "    },\n",
      "    \"val_auc_multi\": {\n",
      "        \"mean\": 0.8962021350860596,\n",
      "        \"std\": 0.0744364940638051\n",
      "    },\n",
      "    \"val_loss\": {\n",
      "        \"mean\": 0.5968723237514496,\n",
      "        \"std\": 0.2719715224660621\n",
      "    },\n",
      "    \"val_precision\": {\n",
      "        \"mean\": 0.8733338117599487,\n",
      "        \"std\": 0.05209982809886342\n",
      "    },\n",
      "    \"val_recall\": {\n",
      "        \"mean\": 0.8679531574249267,\n",
      "        \"std\": 0.05178777262425958\n",
      "    }\n",
      "}\n"
     ]
    }
   ],
   "source": [
    "numeric_columns = ['accuracy', 'auc', 'auc_multi', 'loss', 'precision', 'recall',\n",
    "                   'val_accuracy', 'val_auc', 'val_auc_multi', 'val_loss', 'val_precision', 'val_recall']\n",
    "\n",
    "last_rows_numeric = [df[numeric_columns].iloc[-1] for df in dataframes]\n",
    "mean_metrics = pd.concat(last_rows_numeric, axis=1).mean(axis=1)\n",
    "std_metrics = pd.concat(last_rows_numeric, axis=1).std(axis=1)\n",
    "\n",
    "metrics_dict = {\n",
    "    metric_name: {\n",
    "        \"mean\": mean_metrics[metric_name],\n",
    "        \"std\": std_metrics[metric_name],\n",
    "    }\n",
    "    for metric_name in mean_metrics.index\n",
    "}\n",
    "\n",
    "with open(output_path / 'train_metrics_mean_with_std.json', 'w') as f:\n",
    "    json.dump(metrics_dict, f, indent=4)\n",
    "\n",
    "print(json.dumps(metrics_dict, indent=4))\n"
   ]
  }
 ],
 "metadata": {
  "instance_type": "ml.t3.medium",
  "interpreter": {
   "hash": "ec1370a512a4612a2908be3c3c8b0de1730d00dc30104daff827065aeaf438b7"
  },
  "kernelspec": {
   "display_name": "Python 3 (ipykernel)",
   "language": "python",
   "name": "python3"
  },
  "language_info": {
   "codemirror_mode": {
    "name": "ipython",
    "version": 3
   },
   "file_extension": ".py",
   "mimetype": "text/x-python",
   "name": "python",
   "nbconvert_exporter": "python",
   "pygments_lexer": "ipython3",
   "version": "3.10.9"
  }
 },
 "nbformat": 4,
 "nbformat_minor": 4
}
