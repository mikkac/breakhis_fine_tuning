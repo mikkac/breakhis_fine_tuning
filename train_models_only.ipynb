{
 "cells": [
  {
   "attachments": {},
   "cell_type": "markdown",
   "metadata": {},
   "source": [
    "# BreakHis Image Classification with 🤗 Vision Transformers and `TensorFlow`"
   ]
  },
  {
   "attachments": {},
   "cell_type": "markdown",
   "metadata": {},
   "source": [
    "### Quick intro: Vision Transformer (ViT) by Google Brain\n",
    "The Vision Transformer (ViT) is basically BERT, but applied to images. It attains excellent results compared to state-of-the-art convolutional networks. In order to provide images to the model, each image is split into a sequence of fixed-size patches (typically of resolution 16x16 or 32x32), which are linearly embedded. One also adds a [CLS] token at the beginning of the sequence in order to classify images. Next, one adds absolute position embeddings and provides this sequence to the Transformer encoder.\n",
    "\n",
    "* [Original paper](https://arxiv.org/abs/2010.11929)\n",
    "* [Official repo (in JAX)](https://github.com/google-research/vision_transformer)\n",
    "* [🤗 Vision Transformer](https://huggingface.co/docs/transformers/model_doc/vit)\n",
    "* [Pre-trained model](https://huggingface.co/google/vit-base-patch16-224-in21k)"
   ]
  },
  {
   "attachments": {},
   "cell_type": "markdown",
   "metadata": {},
   "source": [
    "## Installation"
   ]
  },
  {
   "cell_type": "code",
   "execution_count": 1,
   "metadata": {},
   "outputs": [],
   "source": [
    "# !pip install transformers datasets \"tensorflow==2.6.0\" tensorflow-addons --upgrade"
   ]
  },
  {
   "attachments": {},
   "cell_type": "markdown",
   "metadata": {},
   "source": [
    "## Setup & Configuration\n",
    "\n",
    "In this step, we will define global configurations and parameters, which are used across the whole end-to-end fine-tuning process, e.g. `feature extractor` and `model` we will use. \n",
    "\n",
    "In this example we are going to fine-tune the [google/vit-base-patch16-224-in21k](https://huggingface.co/google/vit-base-patch16-224-in21k) a Vision Transformer (ViT) pre-trained on ImageNet-21k (14 million images, 21,843 classes) at resolution 224x224.\n",
    "There are also [large](https://huggingface.co/google/vit-large-patch16-224-in21k) and [huge](https://huggingface.co/google/vit-huge-patch14-224-in21k) flavors of original ViT."
   ]
  },
  {
   "cell_type": "code",
   "execution_count": 2,
   "metadata": {},
   "outputs": [
    {
     "name": "stderr",
     "output_type": "stream",
     "text": [
      "2023-05-21 01:07:00.575842: I tensorflow/core/platform/cpu_feature_guard.cc:193] This TensorFlow binary is optimized with oneAPI Deep Neural Network Library (oneDNN) to use the following CPU instructions in performance-critical operations:  AVX2 FMA\n",
      "To enable them in other operations, rebuild TensorFlow with the appropriate compiler flags.\n",
      "2023-05-21 01:07:01.282240: W tensorflow/compiler/xla/stream_executor/platform/default/dso_loader.cc:64] Could not load dynamic library 'libnvinfer.so.7'; dlerror: libnvinfer.so.7: cannot open shared object file: No such file or directory; LD_LIBRARY_PATH: /usr/local/cuda-11.7/lib64::/home/miki/anaconda3/lib/:/home/miki/anaconda3/envs/tf/lib/\n",
      "2023-05-21 01:07:01.282321: W tensorflow/compiler/xla/stream_executor/platform/default/dso_loader.cc:64] Could not load dynamic library 'libnvinfer_plugin.so.7'; dlerror: libnvinfer_plugin.so.7: cannot open shared object file: No such file or directory; LD_LIBRARY_PATH: /usr/local/cuda-11.7/lib64::/home/miki/anaconda3/lib/:/home/miki/anaconda3/envs/tf/lib/\n",
      "2023-05-21 01:07:01.282329: W tensorflow/compiler/tf2tensorrt/utils/py_utils.cc:38] TF-TRT Warning: Cannot dlopen some TensorRT libraries. If you would like to use Nvidia GPU with TensorRT, please make sure the missing libraries mentioned above are installed properly.\n"
     ]
    }
   ],
   "source": [
    "from transformers import TFViTForImageClassification, TFResNetForImageClassification\n",
    "\n",
    "model_arch = TFViTForImageClassification\n",
    "model_id = \"google/vit-base-patch16-224-in21k\"\n",
    "\n",
    "# model_arch = TFResNetForImageClassification\n",
    "# model_id = \"microsoft/resnet-101\"\n",
    "\n",
    "zoom = 400\n"
   ]
  },
  {
   "cell_type": "code",
   "execution_count": 3,
   "metadata": {},
   "outputs": [],
   "source": [
    "from datasets import load_dataset\n",
    "from datetime import datetime\n",
    "import json\n",
    "from keras.utils import to_categorical\n",
    "from keras.callbacks import CSVLogger, EarlyStopping\n",
    "import matplotlib.pyplot as plt\n",
    "import numpy as np\n",
    "import os\n",
    "import pandas as pd\n",
    "from pathlib import Path\n",
    "from PIL import Image\n",
    "import shutil\n",
    "\n",
    "import tensorflow as tf\n",
    "import tensorflow_addons as tfa\n",
    "from transformers import create_optimizer, DefaultDataCollator, AutoImageProcessor\n"
   ]
  },
  {
   "attachments": {},
   "cell_type": "markdown",
   "metadata": {},
   "source": [
    "## Dataset & Pre-processing\n",
    "\n",
    "- **Data Source:** https://www.kaggle.com/code/nasrulhakim86/breast-cancer-histopathology-images-classification/data\n",
    "- The Breast Cancer Histopathological Image Classification (BreakHis) is composed of 9,109 microscopic images of breast tumor tissue collected from 82 patients.\n",
    "- The images are collected using different magnifying factors (40X, 100X, 200X, and 400X). \n",
    "- To date, it contains 2,480 benign and 5,429 malignant samples (700X460 pixels, 3-channel RGB, 8-bit depth in each channel, PNG format).\n",
    "- This database has been built in collaboration with the P&D Laboratory – Pathological Anatomy and Cytopathology, Parana, Brazil (http://www.prevencaoediagnose.com.br). \n",
    "- Each image filename stores information about the image itself: method of procedure biopsy, tumor class, tumor type, patient identification, and magnification factor. \n",
    "- For example, SOBBTA-14-4659-40-001.png is the image 1, at magnification factor 40X, of a benign tumor of type tubular adenoma, original from the slide 14-4659, which was collected by procedure SOB."
   ]
  },
  {
   "attachments": {},
   "cell_type": "markdown",
   "metadata": {},
   "source": [
    "The `BreakHis` is not yet available as a dataset in the `datasets` library. To be able to create a `Dataset` instance we need to write a small little helper function, which will load our `Dataset` from the filesystem and create the instance to use later for training.\n",
    "\n",
    "This notebook assumes that the dataset is available in directory tree next to this file and its directory name is `breakhis_400x`"
   ]
  },
  {
   "cell_type": "code",
   "execution_count": 4,
   "metadata": {},
   "outputs": [
    {
     "data": {
      "text/plain": [
       "PosixPath('/home/miki/Documents/studia/praca_dyplomowa/vcs/results/400x_2023_05_21-01_07_03')"
      ]
     },
     "execution_count": 4,
     "metadata": {},
     "output_type": "execute_result"
    }
   ],
   "source": [
    "now = datetime.now().strftime(\"%Y_%m_%d-%H_%M_%S\")\n",
    "cwd = Path().absolute()\n",
    "input_path = cwd / f'breakhis_{zoom}x'\n",
    "output_path = cwd / 'results' / f'{zoom}x_{now}'\n",
    "\n",
    "output_path"
   ]
  },
  {
   "cell_type": "code",
   "execution_count": 5,
   "metadata": {},
   "outputs": [],
   "source": [
    "shutil.rmtree(output_path, ignore_errors=True)\n",
    "os.makedirs(output_path)"
   ]
  },
  {
   "attachments": {},
   "cell_type": "markdown",
   "metadata": {},
   "source": [
    "#### Count number of samples per patient"
   ]
  },
  {
   "cell_type": "code",
   "execution_count": 6,
   "metadata": {},
   "outputs": [],
   "source": [
    "# data = pd.read_csv(train_val_csv)\n",
    "# group_counts = data.groupby('patient_id').size().reset_index(name='count')\n",
    "\n",
    "# group_counts"
   ]
  },
  {
   "attachments": {},
   "cell_type": "markdown",
   "metadata": {},
   "source": [
    "## Fine-tuning the model using `Keras`\n",
    "\n",
    "Now that our `dataset` is processed, we can download the pretrained model and fine-tune it. But before we can do this we need to convert our Hugging Face `datasets` Dataset into a `tf.data.Dataset`. For this, we will use the `.to_tf_dataset` method and a `data collator` (Data collators are objects that will form a batch by using a list of dataset elements as input).\n",
    "\n",
    "\n"
   ]
  },
  {
   "attachments": {},
   "cell_type": "markdown",
   "metadata": {},
   "source": [
    "## Hyperparameter"
   ]
  },
  {
   "cell_type": "code",
   "execution_count": 7,
   "metadata": {},
   "outputs": [
    {
     "name": "stdout",
     "output_type": "stream",
     "text": [
      "INFO:tensorflow:Mixed precision compatibility check (mixed_float16): OK\n",
      "Your GPU will likely run quickly with dtype policy mixed_float16 as it has compute capability of at least 7.0. Your GPU: NVIDIA GeForce RTX 3070 Laptop GPU, compute capability 8.6\n"
     ]
    },
    {
     "name": "stderr",
     "output_type": "stream",
     "text": [
      "2023-05-21 01:07:03.646199: I tensorflow/compiler/xla/stream_executor/cuda/cuda_gpu_executor.cc:981] successful NUMA node read from SysFS had negative value (-1), but there must be at least one NUMA node, so returning NUMA node zero\n",
      "2023-05-21 01:07:03.652196: I tensorflow/compiler/xla/stream_executor/cuda/cuda_gpu_executor.cc:981] successful NUMA node read from SysFS had negative value (-1), but there must be at least one NUMA node, so returning NUMA node zero\n",
      "2023-05-21 01:07:03.652471: I tensorflow/compiler/xla/stream_executor/cuda/cuda_gpu_executor.cc:981] successful NUMA node read from SysFS had negative value (-1), but there must be at least one NUMA node, so returning NUMA node zero\n",
      "2023-05-21 01:07:03.653691: I tensorflow/compiler/xla/stream_executor/cuda/cuda_gpu_executor.cc:981] successful NUMA node read from SysFS had negative value (-1), but there must be at least one NUMA node, so returning NUMA node zero\n"
     ]
    }
   ],
   "source": [
    "id2label = {\"0\": \"benign\", \"1\": \"malignant\"}\n",
    "label2id = {v: k for k, v in id2label.items()}\n",
    "\n",
    "num_train_epochs = 10\n",
    "train_batch_size = 3\n",
    "eval_batch_size = 3\n",
    "learning_rate = 3e-5\n",
    "weight_decay_rate = 0.01\n",
    "num_warmup_steps = 0\n",
    "output_dir = model_id.split(\"/\")[1]\n",
    "fp16 = True\n",
    "\n",
    "# Train in mixed-precision float16\n",
    "# Comment this line out if you're using a GPU that will not benefit from this\n",
    "if fp16:\n",
    "    tf.keras.mixed_precision.set_global_policy(\"mixed_float16\")\n"
   ]
  },
  {
   "attachments": {},
   "cell_type": "markdown",
   "metadata": {},
   "source": [
    "### Download the pretrained transformer model and fine-tune it. "
   ]
  },
  {
   "cell_type": "code",
   "execution_count": 8,
   "metadata": {},
   "outputs": [
    {
     "data": {
      "application/vnd.jupyter.widget-view+json": {
       "model_id": "123ec0596595435bb190f1d38a6166b5",
       "version_major": 2,
       "version_minor": 0
      },
      "text/plain": [
       "Downloading (…)rocessor_config.json:   0%|          | 0.00/266 [00:00<?, ?B/s]"
      ]
     },
     "metadata": {},
     "output_type": "display_data"
    },
    {
     "name": "stderr",
     "output_type": "stream",
     "text": [
      "Could not find image processor class in the image processor config or the model config. Loading based on pattern matching with the model's feature extractor configuration.\n",
      "Found cached dataset csv (/home/miki/.cache/huggingface/datasets/csv/default-0010e7a0edeaefdb/0.0.0/6b34fb8fcf56f7c8ba51dc895bfa2bfbe43546f190a60fcf74bb5e8afdcc2317)\n"
     ]
    },
    {
     "data": {
      "application/vnd.jupyter.widget-view+json": {
       "model_id": "d0cbb130afc447a78e4befce45543be9",
       "version_major": 2,
       "version_minor": 0
      },
      "text/plain": [
       "  0%|          | 0/1 [00:00<?, ?it/s]"
      ]
     },
     "metadata": {},
     "output_type": "display_data"
    },
    {
     "name": "stderr",
     "output_type": "stream",
     "text": [
      "Loading cached processed dataset at /home/miki/.cache/huggingface/datasets/csv/default-0010e7a0edeaefdb/0.0.0/6b34fb8fcf56f7c8ba51dc895bfa2bfbe43546f190a60fcf74bb5e8afdcc2317/cache-89697de3631412d7.arrow\n"
     ]
    },
    {
     "name": "stdout",
     "output_type": "stream",
     "text": [
      "DatasetDict({\n",
      "    train: Dataset({\n",
      "        features: ['file_loc', 'label', 'patient_id', 'pixel_values'],\n",
      "        num_rows: 1427\n",
      "    })\n",
      "})\n",
      "ConvNextImageProcessor {\n",
      "  \"crop_pct\": 0.875,\n",
      "  \"do_normalize\": true,\n",
      "  \"do_rescale\": true,\n",
      "  \"do_resize\": true,\n",
      "  \"image_mean\": [\n",
      "    0.485,\n",
      "    0.456,\n",
      "    0.406\n",
      "  ],\n",
      "  \"image_processor_type\": \"ConvNextImageProcessor\",\n",
      "  \"image_std\": [\n",
      "    0.229,\n",
      "    0.224,\n",
      "    0.225\n",
      "  ],\n",
      "  \"resample\": 3,\n",
      "  \"rescale_factor\": 0.00392156862745098,\n",
      "  \"size\": {\n",
      "    \"shortest_edge\": 224\n",
      "  }\n",
      "}\n",
      "\n"
     ]
    }
   ],
   "source": [
    "tf.debugging.disable_traceback_filtering()\n",
    "\n",
    "image_processor = AutoImageProcessor.from_pretrained(model_id)\n",
    "\n",
    "train_val_csv = str(input_path / \"train_val.csv\")\n",
    "\n",
    "dataset = load_dataset('csv', data_files={'train': train_val_csv})\n",
    "\n",
    "\n",
    "def load_images(file_locs):\n",
    "    return [Image.open(file_loc).convert(\"RGB\") for file_loc in file_locs]\n",
    "\n",
    "\n",
    "images = load_images(dataset['train']['file_loc'])\n",
    "\n",
    "\n",
    "def process_example(image):\n",
    "    inputs = image_processor(image, return_tensors='tf')\n",
    "    return inputs['pixel_values']\n",
    "\n",
    "\n",
    "def process_dataset(example, idx):\n",
    "    example['pixel_values'] = process_example(images[idx])\n",
    "\n",
    "    example['label'] = to_categorical(example['label'], num_classes=2)\n",
    "    return example\n",
    "\n",
    "\n",
    "dataset = dataset.map(process_dataset, with_indices=True, num_proc=1)\n",
    "\n",
    "print(dataset)\n",
    "print(image_processor)"
   ]
  },
  {
   "cell_type": "code",
   "execution_count": 9,
   "metadata": {},
   "outputs": [],
   "source": [
    "def get_loss():\n",
    "    return tf.keras.losses.BinaryCrossentropy(from_logits=True)\n",
    "\n",
    "\n",
    "def get_metrics():\n",
    "    return [\n",
    "        tf.keras.metrics.BinaryAccuracy(name=\"accuracy\"),\n",
    "        tf.keras.metrics.AUC(name='auc', from_logits=True),\n",
    "        tf.keras.metrics.AUC(name='auc_multi', from_logits=True,\n",
    "                             num_labels=2, multi_label=True),\n",
    "        tf.keras.metrics.Recall(name='recall'),\n",
    "        tf.keras.metrics.Precision(name='precision'),\n",
    "        tfa.metrics.F1Score(name='f1_score', num_classes=2, threshold=0.5),\n",
    "    ]\n",
    "\n",
    "\n",
    "def get_callbacks(idx):\n",
    "    return [\n",
    "        EarlyStopping(monitor=\"val_loss\", patience=3),\n",
    "        CSVLogger(output_path / f'train_metrics_{idx}.csv')\n",
    "    ]\n",
    "\n",
    "\n",
    "def get_optimizer(learning_rate, weight_decay_rate, num_warmup_steps, num_train_steps):\n",
    "    optimizer, _ = create_optimizer(\n",
    "        init_lr=learning_rate,\n",
    "        num_train_steps=num_train_steps,\n",
    "        weight_decay_rate=weight_decay_rate,\n",
    "        num_warmup_steps=num_warmup_steps,\n",
    "    )\n",
    "\n",
    "    return optimizer\n",
    "\n",
    "\n",
    "num_train_steps_list = []\n",
    "def train_model(idx, train, val):\n",
    "    num_train_steps = len(train) * num_train_epochs\n",
    "    num_train_steps_list.append(num_train_steps)\n",
    "    print(f\"num_train_steps = {num_train_steps}\")\n",
    "    optimizer = get_optimizer(\n",
    "        learning_rate, weight_decay_rate, num_warmup_steps, num_train_steps)\n",
    "\n",
    "    # load pre-trained ViT model\n",
    "    model = model_arch.from_pretrained(\n",
    "        model_id,\n",
    "        num_labels=2,\n",
    "        id2label=id2label,\n",
    "        label2id=label2id,\n",
    "    )\n",
    "\n",
    "    # compile model\n",
    "    model.compile(optimizer=optimizer, loss=get_loss(), metrics=get_metrics())\n",
    "\n",
    "    history = model.fit(\n",
    "        train,\n",
    "        validation_data=val,\n",
    "        callbacks=get_callbacks(idx),\n",
    "        epochs=num_train_epochs,\n",
    "    )\n",
    "\n",
    "    return {\n",
    "        'model': model,\n",
    "        'history': history\n",
    "    }\n"
   ]
  },
  {
   "cell_type": "code",
   "execution_count": 10,
   "metadata": {},
   "outputs": [],
   "source": [
    "data_collator = DefaultDataCollator(return_tensors=\"tf\")\n",
    "\n",
    "train_val_data = dataset['train']\n",
    "files = np.array(train_val_data['file_loc'])\n",
    "labels = np.array(train_val_data['label'])\n",
    "patient_ids = np.array(train_val_data['patient_id'])\n"
   ]
  },
  {
   "attachments": {},
   "cell_type": "markdown",
   "metadata": {},
   "source": [
    "#### Custom `StratifiedGroupKFold` implementation"
   ]
  },
  {
   "cell_type": "code",
   "execution_count": 11,
   "metadata": {},
   "outputs": [],
   "source": [
    "import numpy as np\n",
    "from collections import Counter\n",
    "from sklearn.utils import shuffle\n",
    "\n",
    "def map_nested_indices(nested_indices, original_indices):\n",
    "    return original_indices[nested_indices]\n",
    "\n",
    "class StratifiedGroupKFold:\n",
    "    def __init__(self, n_splits=5, random_state=None):\n",
    "        self.n_splits = n_splits\n",
    "        self.random_state = random_state\n",
    "        self.used_group_ids = []\n",
    "\n",
    "    def _fill_bucket(self, bucket, class_counts, group_ids, y):\n",
    "        for group_id, label in zip(group_ids, y):\n",
    "            if group_id in self.used_group_ids:\n",
    "                continue\n",
    "            if class_counts[label] > 0:\n",
    "                group_indices = np.where(group_ids == group_id)[0]\n",
    "                bucket[label].extend(group_indices)\n",
    "                class_counts[label] -= len(group_indices)\n",
    "                self.used_group_ids.append(group_id)\n",
    "\n",
    "    def _create_buckets(self, group_ids, y, class_ratios):\n",
    "        total_samples = len(group_ids)\n",
    "        samples_per_split = total_samples // self.n_splits\n",
    "\n",
    "        buckets = []\n",
    "        for _ in range(self.n_splits):\n",
    "            bucket = {label: [] for label in class_ratios.keys()}\n",
    "            class_counts = {label: int(samples_per_split * ratio)\n",
    "                            for label, ratio in class_ratios.items()}\n",
    "            self._fill_bucket(bucket, class_counts, group_ids, y)\n",
    "            buckets.append(bucket)\n",
    "\n",
    "        return buckets\n",
    "\n",
    "    def _rotate_buckets(self, buckets):\n",
    "        return buckets[-1:] + buckets[:-1]\n",
    "\n",
    "    def _get_indices(self, bucket, group_ids, y):\n",
    "        indices = []\n",
    "        for label, groups in bucket.items():\n",
    "            for group in groups:\n",
    "                group_indices = np.where(group_ids == group)[0]\n",
    "                label_indices = np.where(y == label)[0]\n",
    "                indices.extend(np.intersect1d(group_indices, label_indices))\n",
    "        return np.array(indices)\n",
    "\n",
    "    def split(self, X, y, group_ids):\n",
    "        index_map = np.arange(len(y))\n",
    "        group_ids_s, y_s, index_map = shuffle(\n",
    "            group_ids, y, index_map, random_state=self.random_state)\n",
    "\n",
    "        class_ratios = {label: count / len(y)\n",
    "                        for label, count in Counter(y).items()}\n",
    "        buckets = self._create_buckets(group_ids_s, y_s, class_ratios)\n",
    "\n",
    "        for _ in range(self.n_splits):\n",
    "            train_buckets = buckets[1:]\n",
    "            test_bucket = buckets[0]\n",
    "\n",
    "            train_indices = np.concatenate(\n",
    "                [np.array(bucket[label]) for bucket in train_buckets for label in bucket])\n",
    "            test_indices = np.concatenate(\n",
    "                [np.array(test_bucket[label]) for label in test_bucket])\n",
    "\n",
    "            # Map shuffled indices to original ones\n",
    "            train_indices = index_map[train_indices]\n",
    "            test_indices = index_map[test_indices]\n",
    "            \n",
    "            assert len(np.intersect1d(np.unique(group_ids[train_indices]), np.unique(group_ids[test_indices]))) == 0\n",
    "\n",
    "\n",
    "            yield train_indices, test_indices\n",
    "            buckets = self._rotate_buckets(buckets)\n"
   ]
  },
  {
   "attachments": {},
   "cell_type": "markdown",
   "metadata": {},
   "source": [
    "#### `StratifiedGroupKFold` usage example"
   ]
  },
  {
   "cell_type": "code",
   "execution_count": 12,
   "metadata": {},
   "outputs": [],
   "source": [
    "# np.random.seed(42)\n",
    "\n",
    "# # Wygeneruj dane\n",
    "# n_samples = 1800\n",
    "# n_features = 2\n",
    "\n",
    "# X = np.random.rand(n_samples, n_features)\n",
    "# y = np.random.randint(0, 2, n_samples)\n",
    "# group_ids = np.repeat(np.arange(n_samples // 4), 4)\n",
    "\n",
    "# # Mieszamy dane, etykiety i grupy\n",
    "# X, y, group_ids = shuffle(X, y, group_ids, random_state=42)\n",
    "\n",
    "# # Utwórz instancję StratifiedGroupKFold\n",
    "# skf = StratifiedGroupKFold(n_splits=3, random_state=42)\n",
    "\n",
    "# # Iteruj przez foldy\n",
    "# for train_index, test_index in skf.split(X, y, group_ids):\n",
    "#     print(\"TRAIN:\", len(train_index), \"TEST:\", len(test_index))\n",
    "#     # X_train, X_test = X[train_index], X[test_index]\n",
    "#     y_train, y_test = y[train_index], y[test_index]\n",
    "#     train_groups, test_groups = group_ids[train_index], group_ids[test_index]\n",
    "#     train_class_ratio = {label: count / len(y_train) for label, count in Counter(y_train).items()}\n",
    "#     print(f\"Train class ratio: {train_class_ratio}\")\n",
    "#     test_class_ratio = {label: count / len(y_test) for label, count in Counter(y_test).items()}\n",
    "#     print(f\"test class ratio: {test_class_ratio}\")\n",
    "#     assert len(np.intersect1d(np.unique(train_groups), np.unique(test_groups))) == 0\n",
    "#     print(\"-----\")\n"
   ]
  },
  {
   "cell_type": "code",
   "execution_count": 13,
   "metadata": {},
   "outputs": [],
   "source": [
    "def filter_train_val_indices(idx, indices):\n",
    "    return idx in indices\n",
    "\n",
    "def remove_extra_dim(example):\n",
    "    example['pixel_values'] = np.squeeze(example['pixel_values'], axis=0)\n",
    "    return example\n"
   ]
  },
  {
   "cell_type": "code",
   "execution_count": 14,
   "metadata": {},
   "outputs": [],
   "source": [
    "n_splits = 5\n",
    "sgfk = StratifiedGroupKFold(n_splits=n_splits, random_state=42)\n",
    "\n",
    "folds = sgfk.split(files, np.argmax(labels, axis=1), patient_ids)\n"
   ]
  },
  {
   "cell_type": "code",
   "execution_count": 15,
   "metadata": {},
   "outputs": [],
   "source": [
    "models_with_histories = []\n",
    "\n",
    "\n",
    "def intersection(lst1, lst2):\n",
    "    return list(set(lst1) & set(lst2))\n",
    "\n",
    "\n",
    "def run_fold(idx):\n",
    "    (train_index, val_index) = next(folds)\n",
    "\n",
    "    # train_index = map_nested_indices(train_index, train_val_index)\n",
    "    # val_index = map_nested_indices(val_index, train_val_index)\n",
    "\n",
    "    # Check indices uniqueness\n",
    "    train_index_unique, train_counts = np.unique(\n",
    "        train_index, return_counts=True)\n",
    "    val_index_unique, val_counts = np.unique(val_index, return_counts=True)\n",
    "    are_all_values_unique = np.all(\n",
    "        train_counts == 1) and np.all(val_counts == 1)\n",
    "\n",
    "    print('Are all indices', are_all_values_unique)\n",
    "    print(\n",
    "        f'Indices shared between train & val splits (should be empty): {intersection(train_index_unique, val_index_unique)}')\n",
    "\n",
    "    # Check patient ids uniqueness\n",
    "    train_data_filtered = train_val_data.filter(lambda _, idx: filter_train_val_indices(\n",
    "        idx, train_index), with_indices=True).map(remove_extra_dim)\n",
    "    val_data_filtered = train_val_data.filter(lambda _, idx: filter_train_val_indices(\n",
    "        idx, val_index), with_indices=True).map(remove_extra_dim)\n",
    "\n",
    "    train_ids_unique = np.unique(train_data_filtered['patient_id'])\n",
    "    val_ids_unique = np.unique(val_data_filtered['patient_id'])\n",
    "\n",
    "    print(f'Train patient IDs: {len(train_ids_unique)}')\n",
    "    print(f'Val patient IDs: {len(val_ids_unique)}')\n",
    "    print(\n",
    "        f'Train + Val patient IDs: {len(train_ids_unique) + len(val_ids_unique)}')\n",
    "    print(\n",
    "        f'Patient IDs shared between train & val splits (should be empty): {intersection(train_ids_unique, val_ids_unique)}')\n",
    "\n",
    "    print(f'Train patient ids: {train_ids_unique}')\n",
    "    print(f'Val patient ids: {val_ids_unique}')\n",
    "    assert len(np.intersect1d(train_ids_unique, val_ids_unique)) == 0\n",
    "\n",
    "    # Create datasets and train model\n",
    "    train_dataset = train_data_filtered.to_tf_dataset(\n",
    "        columns=['pixel_values'],\n",
    "        label_cols=['label'],\n",
    "        shuffle=True,\n",
    "        batch_size=train_batch_size,\n",
    "        collate_fn=data_collator\n",
    "    )\n",
    "\n",
    "    val_dataset = val_data_filtered.to_tf_dataset(\n",
    "        columns=['pixel_values'],\n",
    "        label_cols=['label'],\n",
    "        shuffle=True,\n",
    "        batch_size=eval_batch_size,\n",
    "        collate_fn=data_collator\n",
    "    )\n",
    "    print(train_dataset)\n",
    "    print(val_dataset)\n",
    "\n",
    "    # model_with_history = {}\n",
    "    model_with_history = train_model(idx, train_dataset, val_dataset)\n",
    "    model_with_history['patient_ids'] = {\n",
    "        'train': list(train_ids_unique), 'val': list(val_ids_unique)}\n",
    "\n",
    "    models_with_histories.append(model_with_history)\n",
    "\n",
    "    print(f'Fold {idx + 1}/{n_splits} finished')\n"
   ]
  },
  {
   "cell_type": "code",
   "execution_count": 16,
   "metadata": {},
   "outputs": [
    {
     "name": "stderr",
     "output_type": "stream",
     "text": [
      "Loading cached processed dataset at /home/miki/.cache/huggingface/datasets/csv/default-0010e7a0edeaefdb/0.0.0/6b34fb8fcf56f7c8ba51dc895bfa2bfbe43546f190a60fcf74bb5e8afdcc2317/cache-aa2c7875272f9e67.arrow\n",
      "Loading cached processed dataset at /home/miki/.cache/huggingface/datasets/csv/default-0010e7a0edeaefdb/0.0.0/6b34fb8fcf56f7c8ba51dc895bfa2bfbe43546f190a60fcf74bb5e8afdcc2317/cache-8ac6b69c8129b421.arrow\n",
      "Loading cached processed dataset at /home/miki/.cache/huggingface/datasets/csv/default-0010e7a0edeaefdb/0.0.0/6b34fb8fcf56f7c8ba51dc895bfa2bfbe43546f190a60fcf74bb5e8afdcc2317/cache-3b6de4f164cfbcce.arrow\n",
      "Loading cached processed dataset at /home/miki/.cache/huggingface/datasets/csv/default-0010e7a0edeaefdb/0.0.0/6b34fb8fcf56f7c8ba51dc895bfa2bfbe43546f190a60fcf74bb5e8afdcc2317/cache-ca1650086c6e6d04.arrow\n"
     ]
    },
    {
     "name": "stdout",
     "output_type": "stream",
     "text": [
      "Are all indices True\n",
      "Indices shared between train & val splits (should be empty): []\n",
      "Train patient IDs: 54\n",
      "Val patient IDs: 13\n",
      "Train + Val patient IDs: 67\n",
      "Patient IDs shared between train & val splits (should be empty): []\n",
      "Train patient ids: ['SOB_B_A-14-22549G' 'SOB_B_A-14-29960CD' 'SOB_B_F-14-14134'\n",
      " 'SOB_B_F-14-14134E' 'SOB_B_F-14-21998CD' 'SOB_B_F-14-23060CD'\n",
      " 'SOB_B_F-14-23222AB' 'SOB_B_F-14-25197' 'SOB_B_PT-14-22704'\n",
      " 'SOB_B_PT-14-29315EF' 'SOB_B_TA-14-13200' 'SOB_B_TA-14-15275'\n",
      " 'SOB_B_TA-14-16184' 'SOB_B_TA-14-19854C' 'SOB_B_TA-14-21978AB'\n",
      " 'SOB_B_TA-14-3411F' 'SOB_M_DC-14-10926' 'SOB_M_DC-14-11031'\n",
      " 'SOB_M_DC-14-11951' 'SOB_M_DC-14-13412' 'SOB_M_DC-14-14015'\n",
      " 'SOB_M_DC-14-14926' 'SOB_M_DC-14-14946' 'SOB_M_DC-14-15572'\n",
      " 'SOB_M_DC-14-15696' 'SOB_M_DC-14-16188' 'SOB_M_DC-14-16336'\n",
      " 'SOB_M_DC-14-16716' 'SOB_M_DC-14-17614' 'SOB_M_DC-14-17915'\n",
      " 'SOB_M_DC-14-18650' 'SOB_M_DC-14-2523' 'SOB_M_DC-14-2773'\n",
      " 'SOB_M_DC-14-2980' 'SOB_M_DC-14-3909' 'SOB_M_DC-14-4364'\n",
      " 'SOB_M_DC-14-4372' 'SOB_M_DC-14-5694' 'SOB_M_DC-14-5695'\n",
      " 'SOB_M_DC-14-6241' 'SOB_M_DC-14-8168' 'SOB_M_LC-14-12204'\n",
      " 'SOB_M_LC-14-13412' 'SOB_M_LC-14-15570' 'SOB_M_MC-14-10147'\n",
      " 'SOB_M_MC-14-13418DE' 'SOB_M_MC-14-18842' 'SOB_M_MC-14-18842D'\n",
      " 'SOB_M_PC-14-12465' 'SOB_M_PC-14-15687B' 'SOB_M_PC-14-15704'\n",
      " 'SOB_M_PC-14-19440' 'SOB_M_PC-14-9146' 'SOB_M_PC-15-190EF']\n",
      "Val patient ids: ['SOB_B_A-14-22549AB' 'SOB_B_F-14-23060AB' 'SOB_B_F-14-29960AB'\n",
      " 'SOB_B_F-14-9133' 'SOB_M_DC-14-12312' 'SOB_M_DC-14-15792'\n",
      " 'SOB_M_DC-14-16875' 'SOB_M_DC-14-20629' 'SOB_M_DC-14-20636'\n",
      " 'SOB_M_LC-14-15570C' 'SOB_M_LC-14-16196' 'SOB_M_MC-14-13413'\n",
      " 'SOB_M_MC-14-19979']\n"
     ]
    },
    {
     "name": "stderr",
     "output_type": "stream",
     "text": [
      "2023-05-21 01:07:17.869041: I tensorflow/core/platform/cpu_feature_guard.cc:193] This TensorFlow binary is optimized with oneAPI Deep Neural Network Library (oneDNN) to use the following CPU instructions in performance-critical operations:  AVX2 FMA\n",
      "To enable them in other operations, rebuild TensorFlow with the appropriate compiler flags.\n",
      "2023-05-21 01:07:17.870136: I tensorflow/compiler/xla/stream_executor/cuda/cuda_gpu_executor.cc:981] successful NUMA node read from SysFS had negative value (-1), but there must be at least one NUMA node, so returning NUMA node zero\n",
      "2023-05-21 01:07:17.870564: I tensorflow/compiler/xla/stream_executor/cuda/cuda_gpu_executor.cc:981] successful NUMA node read from SysFS had negative value (-1), but there must be at least one NUMA node, so returning NUMA node zero\n",
      "2023-05-21 01:07:17.870906: I tensorflow/compiler/xla/stream_executor/cuda/cuda_gpu_executor.cc:981] successful NUMA node read from SysFS had negative value (-1), but there must be at least one NUMA node, so returning NUMA node zero\n",
      "2023-05-21 01:07:18.245582: I tensorflow/compiler/xla/stream_executor/cuda/cuda_gpu_executor.cc:981] successful NUMA node read from SysFS had negative value (-1), but there must be at least one NUMA node, so returning NUMA node zero\n",
      "2023-05-21 01:07:18.245770: I tensorflow/compiler/xla/stream_executor/cuda/cuda_gpu_executor.cc:981] successful NUMA node read from SysFS had negative value (-1), but there must be at least one NUMA node, so returning NUMA node zero\n",
      "2023-05-21 01:07:18.245908: I tensorflow/compiler/xla/stream_executor/cuda/cuda_gpu_executor.cc:981] successful NUMA node read from SysFS had negative value (-1), but there must be at least one NUMA node, so returning NUMA node zero\n",
      "2023-05-21 01:07:18.246017: I tensorflow/core/common_runtime/gpu/gpu_device.cc:1613] Created device /job:localhost/replica:0/task:0/device:GPU:0 with 6120 MB memory:  -> device: 0, name: NVIDIA GeForce RTX 3070 Laptop GPU, pci bus id: 0000:01:00.0, compute capability: 8.6\n"
     ]
    },
    {
     "name": "stdout",
     "output_type": "stream",
     "text": [
      "<PrefetchDataset element_spec=(TensorSpec(shape=(None, 3, 224, 224), dtype=tf.float32, name=None), TensorSpec(shape=(None, 2), dtype=tf.float32, name=None))>\n",
      "<PrefetchDataset element_spec=(TensorSpec(shape=(None, 3, 224, 224), dtype=tf.float32, name=None), TensorSpec(shape=(None, 2), dtype=tf.float32, name=None))>\n",
      "num_train_steps = 3780\n"
     ]
    },
    {
     "data": {
      "application/vnd.jupyter.widget-view+json": {
       "model_id": "a93eb03d1e2f46399c0c98594102cd44",
       "version_major": 2,
       "version_minor": 0
      },
      "text/plain": [
       "Downloading (…)lve/main/config.json:   0%|          | 0.00/69.6k [00:00<?, ?B/s]"
      ]
     },
     "metadata": {},
     "output_type": "display_data"
    },
    {
     "data": {
      "application/vnd.jupyter.widget-view+json": {
       "model_id": "4e5d9e90775845e4b88f4e1690008469",
       "version_major": 2,
       "version_minor": 0
      },
      "text/plain": [
       "Downloading (…)\"tf_model.h5\";:   0%|          | 0.00/179M [00:00<?, ?B/s]"
      ]
     },
     "metadata": {},
     "output_type": "display_data"
    },
    {
     "name": "stderr",
     "output_type": "stream",
     "text": [
      "2023-05-21 01:07:36.706768: I tensorflow/compiler/xla/stream_executor/cuda/cuda_dnn.cc:428] Loaded cuDNN version 8100\n",
      "2023-05-21 01:07:37.224890: I tensorflow/tsl/platform/default/subprocess.cc:304] Start cannot spawn child process: No such file or directory\n",
      "2023-05-21 01:07:37.225765: I tensorflow/tsl/platform/default/subprocess.cc:304] Start cannot spawn child process: No such file or directory\n",
      "2023-05-21 01:07:37.225785: W tensorflow/compiler/xla/stream_executor/gpu/asm_compiler.cc:85] Couldn't get ptxas version string: INTERNAL: Couldn't invoke ptxas --version\n",
      "2023-05-21 01:07:37.226804: I tensorflow/tsl/platform/default/subprocess.cc:304] Start cannot spawn child process: No such file or directory\n",
      "2023-05-21 01:07:37.226866: W tensorflow/compiler/xla/stream_executor/gpu/redzone_allocator.cc:318] INTERNAL: Failed to launch ptxas\n",
      "Relying on driver to perform ptx compilation. \n",
      "Modify $PATH to customize ptxas location.\n",
      "This message will be only logged once.\n"
     ]
    },
    {
     "ename": "ValueError",
     "evalue": "cannot reshape array of size 2048000 into shape (2048,2)",
     "output_type": "error",
     "traceback": [
      "\u001b[0;31m---------------------------------------------------------------------------\u001b[0m",
      "\u001b[0;31mValueError\u001b[0m                                Traceback (most recent call last)",
      "\u001b[1;32m/home/miki/Documents/studia/praca_dyplomowa/vcs/train_models_only.ipynb Cell 28\u001b[0m in \u001b[0;36m3\n\u001b[1;32m      <a href='vscode-notebook-cell:/home/miki/Documents/studia/praca_dyplomowa/vcs/train_models_only.ipynb#X40sZmlsZQ%3D%3D?line=0'>1</a>\u001b[0m \u001b[39m# for idx in range(n_splits):\u001b[39;00m\n\u001b[1;32m      <a href='vscode-notebook-cell:/home/miki/Documents/studia/praca_dyplomowa/vcs/train_models_only.ipynb#X40sZmlsZQ%3D%3D?line=1'>2</a>\u001b[0m     \u001b[39m# run_fold(idx)\u001b[39;00m\n\u001b[0;32m----> <a href='vscode-notebook-cell:/home/miki/Documents/studia/praca_dyplomowa/vcs/train_models_only.ipynb#X40sZmlsZQ%3D%3D?line=2'>3</a>\u001b[0m run_fold(\u001b[39m0\u001b[39;49m)\n",
      "\u001b[1;32m/home/miki/Documents/studia/praca_dyplomowa/vcs/train_models_only.ipynb Cell 28\u001b[0m in \u001b[0;36m6\n\u001b[1;32m     <a href='vscode-notebook-cell:/home/miki/Documents/studia/praca_dyplomowa/vcs/train_models_only.ipynb#X40sZmlsZQ%3D%3D?line=61'>62</a>\u001b[0m \u001b[39mprint\u001b[39m(val_dataset)\n\u001b[1;32m     <a href='vscode-notebook-cell:/home/miki/Documents/studia/praca_dyplomowa/vcs/train_models_only.ipynb#X40sZmlsZQ%3D%3D?line=63'>64</a>\u001b[0m \u001b[39m# model_with_history = {}\u001b[39;00m\n\u001b[0;32m---> <a href='vscode-notebook-cell:/home/miki/Documents/studia/praca_dyplomowa/vcs/train_models_only.ipynb#X40sZmlsZQ%3D%3D?line=64'>65</a>\u001b[0m model_with_history \u001b[39m=\u001b[39m train_model(idx, train_dataset, val_dataset)\n\u001b[1;32m     <a href='vscode-notebook-cell:/home/miki/Documents/studia/praca_dyplomowa/vcs/train_models_only.ipynb#X40sZmlsZQ%3D%3D?line=65'>66</a>\u001b[0m model_with_history[\u001b[39m'\u001b[39m\u001b[39mpatient_ids\u001b[39m\u001b[39m'\u001b[39m] \u001b[39m=\u001b[39m {\n\u001b[1;32m     <a href='vscode-notebook-cell:/home/miki/Documents/studia/praca_dyplomowa/vcs/train_models_only.ipynb#X40sZmlsZQ%3D%3D?line=66'>67</a>\u001b[0m     \u001b[39m'\u001b[39m\u001b[39mtrain\u001b[39m\u001b[39m'\u001b[39m: \u001b[39mlist\u001b[39m(train_ids_unique), \u001b[39m'\u001b[39m\u001b[39mval\u001b[39m\u001b[39m'\u001b[39m: \u001b[39mlist\u001b[39m(val_ids_unique)}\n\u001b[1;32m     <a href='vscode-notebook-cell:/home/miki/Documents/studia/praca_dyplomowa/vcs/train_models_only.ipynb#X40sZmlsZQ%3D%3D?line=68'>69</a>\u001b[0m models_with_histories\u001b[39m.\u001b[39mappend(model_with_history)\n",
      "\u001b[1;32m/home/miki/Documents/studia/praca_dyplomowa/vcs/train_models_only.ipynb Cell 28\u001b[0m in \u001b[0;36m4\n\u001b[1;32m     <a href='vscode-notebook-cell:/home/miki/Documents/studia/praca_dyplomowa/vcs/train_models_only.ipynb#X40sZmlsZQ%3D%3D?line=39'>40</a>\u001b[0m optimizer \u001b[39m=\u001b[39m get_optimizer(\n\u001b[1;32m     <a href='vscode-notebook-cell:/home/miki/Documents/studia/praca_dyplomowa/vcs/train_models_only.ipynb#X40sZmlsZQ%3D%3D?line=40'>41</a>\u001b[0m     learning_rate, weight_decay_rate, num_warmup_steps, num_train_steps)\n\u001b[1;32m     <a href='vscode-notebook-cell:/home/miki/Documents/studia/praca_dyplomowa/vcs/train_models_only.ipynb#X40sZmlsZQ%3D%3D?line=42'>43</a>\u001b[0m \u001b[39m# load pre-trained ViT model\u001b[39;00m\n\u001b[0;32m---> <a href='vscode-notebook-cell:/home/miki/Documents/studia/praca_dyplomowa/vcs/train_models_only.ipynb#X40sZmlsZQ%3D%3D?line=43'>44</a>\u001b[0m model \u001b[39m=\u001b[39m model_arch\u001b[39m.\u001b[39;49mfrom_pretrained(\n\u001b[1;32m     <a href='vscode-notebook-cell:/home/miki/Documents/studia/praca_dyplomowa/vcs/train_models_only.ipynb#X40sZmlsZQ%3D%3D?line=44'>45</a>\u001b[0m     model_id,\n\u001b[1;32m     <a href='vscode-notebook-cell:/home/miki/Documents/studia/praca_dyplomowa/vcs/train_models_only.ipynb#X40sZmlsZQ%3D%3D?line=45'>46</a>\u001b[0m     num_labels\u001b[39m=\u001b[39;49m\u001b[39m2\u001b[39;49m,\n\u001b[1;32m     <a href='vscode-notebook-cell:/home/miki/Documents/studia/praca_dyplomowa/vcs/train_models_only.ipynb#X40sZmlsZQ%3D%3D?line=46'>47</a>\u001b[0m     \u001b[39m# id2label=id2label,\u001b[39;49;00m\n\u001b[1;32m     <a href='vscode-notebook-cell:/home/miki/Documents/studia/praca_dyplomowa/vcs/train_models_only.ipynb#X40sZmlsZQ%3D%3D?line=47'>48</a>\u001b[0m     \u001b[39m# label2id=label2id,\u001b[39;49;00m\n\u001b[1;32m     <a href='vscode-notebook-cell:/home/miki/Documents/studia/praca_dyplomowa/vcs/train_models_only.ipynb#X40sZmlsZQ%3D%3D?line=48'>49</a>\u001b[0m )\n\u001b[1;32m     <a href='vscode-notebook-cell:/home/miki/Documents/studia/praca_dyplomowa/vcs/train_models_only.ipynb#X40sZmlsZQ%3D%3D?line=50'>51</a>\u001b[0m \u001b[39m# compile model\u001b[39;00m\n\u001b[1;32m     <a href='vscode-notebook-cell:/home/miki/Documents/studia/praca_dyplomowa/vcs/train_models_only.ipynb#X40sZmlsZQ%3D%3D?line=51'>52</a>\u001b[0m model\u001b[39m.\u001b[39mcompile(optimizer\u001b[39m=\u001b[39moptimizer, loss\u001b[39m=\u001b[39mget_loss(), metrics\u001b[39m=\u001b[39mget_metrics())\n",
      "File \u001b[0;32m~/anaconda3/envs/tf/lib/python3.10/site-packages/transformers/modeling_tf_utils.py:2777\u001b[0m, in \u001b[0;36mTFPreTrainedModel.from_pretrained\u001b[0;34m(cls, pretrained_model_name_or_path, *model_args, **kwargs)\u001b[0m\n\u001b[1;32m   2771\u001b[0m         missing_keys, unexpected_keys, mismatched_keys \u001b[39m=\u001b[39m load_tf_sharded_weights(\n\u001b[1;32m   2772\u001b[0m             model,\n\u001b[1;32m   2773\u001b[0m             resolved_archive_file,\n\u001b[1;32m   2774\u001b[0m             ignore_mismatched_sizes\u001b[39m=\u001b[39mignore_mismatched_sizes,\n\u001b[1;32m   2775\u001b[0m         )\n\u001b[1;32m   2776\u001b[0m     \u001b[39melse\u001b[39;00m:\n\u001b[0;32m-> 2777\u001b[0m         missing_keys, unexpected_keys, mismatched_keys \u001b[39m=\u001b[39m load_tf_weights(\n\u001b[1;32m   2778\u001b[0m             model,\n\u001b[1;32m   2779\u001b[0m             resolved_archive_file,\n\u001b[1;32m   2780\u001b[0m             ignore_mismatched_sizes\u001b[39m=\u001b[39;49mignore_mismatched_sizes,\n\u001b[1;32m   2781\u001b[0m             _prefix\u001b[39m=\u001b[39;49mload_weight_prefix,\n\u001b[1;32m   2782\u001b[0m         )\n\u001b[1;32m   2783\u001b[0m \u001b[39mexcept\u001b[39;00m \u001b[39mOSError\u001b[39;00m \u001b[39mas\u001b[39;00m e:\n\u001b[1;32m   2784\u001b[0m     \u001b[39mtry\u001b[39;00m:\n",
      "File \u001b[0;32m~/anaconda3/envs/tf/lib/python3.10/site-packages/transformers/modeling_tf_utils.py:886\u001b[0m, in \u001b[0;36mload_tf_weights\u001b[0;34m(model, resolved_archive_file, ignore_mismatched_sizes, _prefix)\u001b[0m\n\u001b[1;32m    883\u001b[0m \u001b[39melse\u001b[39;00m:\n\u001b[1;32m    884\u001b[0m     load_function \u001b[39m=\u001b[39m load_tf_weights_from_h5\n\u001b[0;32m--> 886\u001b[0m \u001b[39mreturn\u001b[39;00m load_function(\n\u001b[1;32m    887\u001b[0m     model, resolved_archive_file, ignore_mismatched_sizes\u001b[39m=\u001b[39;49mignore_mismatched_sizes, _prefix\u001b[39m=\u001b[39;49m_prefix\n\u001b[1;32m    888\u001b[0m )\n",
      "File \u001b[0;32m~/anaconda3/envs/tf/lib/python3.10/site-packages/transformers/modeling_tf_utils.py:978\u001b[0m, in \u001b[0;36mload_tf_weights_from_h5\u001b[0;34m(model, resolved_archive_file, ignore_mismatched_sizes, _prefix)\u001b[0m\n\u001b[1;32m    976\u001b[0m             \u001b[39mcontinue\u001b[39;00m\n\u001b[1;32m    977\u001b[0m         \u001b[39melse\u001b[39;00m:\n\u001b[0;32m--> 978\u001b[0m             \u001b[39mraise\u001b[39;00m e\n\u001b[1;32m    979\u001b[0m \u001b[39melse\u001b[39;00m:\n\u001b[1;32m    980\u001b[0m     array \u001b[39m=\u001b[39m saved_weight_value\n",
      "File \u001b[0;32m~/anaconda3/envs/tf/lib/python3.10/site-packages/transformers/modeling_tf_utils.py:970\u001b[0m, in \u001b[0;36mload_tf_weights_from_h5\u001b[0;34m(model, resolved_archive_file, ignore_mismatched_sizes, _prefix)\u001b[0m\n\u001b[1;32m    966\u001b[0m \u001b[39mif\u001b[39;00m K\u001b[39m.\u001b[39mint_shape(symbolic_weight) \u001b[39m!=\u001b[39m saved_weight_value\u001b[39m.\u001b[39mshape:\n\u001b[1;32m    967\u001b[0m     \u001b[39m# If yes we reshape the weight from the H5 file accordingly to the current weight\u001b[39;00m\n\u001b[1;32m    968\u001b[0m     \u001b[39m# If the two shapes are not compatible we raise an issue\u001b[39;00m\n\u001b[1;32m    969\u001b[0m     \u001b[39mtry\u001b[39;00m:\n\u001b[0;32m--> 970\u001b[0m         array \u001b[39m=\u001b[39m np\u001b[39m.\u001b[39;49mreshape(saved_weight_value, K\u001b[39m.\u001b[39;49mint_shape(symbolic_weight))\n\u001b[1;32m    971\u001b[0m     \u001b[39mexcept\u001b[39;00m \u001b[39mValueError\u001b[39;00m \u001b[39mas\u001b[39;00m e:\n\u001b[1;32m    972\u001b[0m         \u001b[39mif\u001b[39;00m ignore_mismatched_sizes:\n",
      "File \u001b[0;32m<__array_function__ internals>:180\u001b[0m, in \u001b[0;36mreshape\u001b[0;34m(*args, **kwargs)\u001b[0m\n",
      "File \u001b[0;32m~/anaconda3/envs/tf/lib/python3.10/site-packages/numpy/core/fromnumeric.py:298\u001b[0m, in \u001b[0;36mreshape\u001b[0;34m(a, newshape, order)\u001b[0m\n\u001b[1;32m    198\u001b[0m \u001b[39m@array_function_dispatch\u001b[39m(_reshape_dispatcher)\n\u001b[1;32m    199\u001b[0m \u001b[39mdef\u001b[39;00m \u001b[39mreshape\u001b[39m(a, newshape, order\u001b[39m=\u001b[39m\u001b[39m'\u001b[39m\u001b[39mC\u001b[39m\u001b[39m'\u001b[39m):\n\u001b[1;32m    200\u001b[0m     \u001b[39m\"\"\"\u001b[39;00m\n\u001b[1;32m    201\u001b[0m \u001b[39m    Gives a new shape to an array without changing its data.\u001b[39;00m\n\u001b[1;32m    202\u001b[0m \n\u001b[0;32m   (...)\u001b[0m\n\u001b[1;32m    296\u001b[0m \u001b[39m           [5, 6]])\u001b[39;00m\n\u001b[1;32m    297\u001b[0m \u001b[39m    \"\"\"\u001b[39;00m\n\u001b[0;32m--> 298\u001b[0m     \u001b[39mreturn\u001b[39;00m _wrapfunc(a, \u001b[39m'\u001b[39;49m\u001b[39mreshape\u001b[39;49m\u001b[39m'\u001b[39;49m, newshape, order\u001b[39m=\u001b[39;49morder)\n",
      "File \u001b[0;32m~/anaconda3/envs/tf/lib/python3.10/site-packages/numpy/core/fromnumeric.py:57\u001b[0m, in \u001b[0;36m_wrapfunc\u001b[0;34m(obj, method, *args, **kwds)\u001b[0m\n\u001b[1;32m     54\u001b[0m     \u001b[39mreturn\u001b[39;00m _wrapit(obj, method, \u001b[39m*\u001b[39margs, \u001b[39m*\u001b[39m\u001b[39m*\u001b[39mkwds)\n\u001b[1;32m     56\u001b[0m \u001b[39mtry\u001b[39;00m:\n\u001b[0;32m---> 57\u001b[0m     \u001b[39mreturn\u001b[39;00m bound(\u001b[39m*\u001b[39;49margs, \u001b[39m*\u001b[39;49m\u001b[39m*\u001b[39;49mkwds)\n\u001b[1;32m     58\u001b[0m \u001b[39mexcept\u001b[39;00m \u001b[39mTypeError\u001b[39;00m:\n\u001b[1;32m     59\u001b[0m     \u001b[39m# A TypeError occurs if the object does have such a method in its\u001b[39;00m\n\u001b[1;32m     60\u001b[0m     \u001b[39m# class, but its signature is not identical to that of NumPy's. This\u001b[39;00m\n\u001b[0;32m   (...)\u001b[0m\n\u001b[1;32m     64\u001b[0m     \u001b[39m# Call _wrapit from within the except clause to ensure a potential\u001b[39;00m\n\u001b[1;32m     65\u001b[0m     \u001b[39m# exception has a traceback chain.\u001b[39;00m\n\u001b[1;32m     66\u001b[0m     \u001b[39mreturn\u001b[39;00m _wrapit(obj, method, \u001b[39m*\u001b[39margs, \u001b[39m*\u001b[39m\u001b[39m*\u001b[39mkwds)\n",
      "\u001b[0;31mValueError\u001b[0m: cannot reshape array of size 2048000 into shape (2048,2)"
     ]
    }
   ],
   "source": [
    "# for idx in range(n_splits):\n",
    "    # run_fold(idx)\n",
    "run_fold(0)"
   ]
  },
  {
   "attachments": {},
   "cell_type": "markdown",
   "metadata": {},
   "source": [
    "#### Dump histories"
   ]
  },
  {
   "cell_type": "code",
   "execution_count": null,
   "metadata": {},
   "outputs": [],
   "source": [
    "# for idx, model_with_history in enumerate(models_with_histories):\n",
    "#     history = model_with_history.get('history', None)\n",
    "#     np.save(output_path / f'train_history_{idx}.npy', history.history)\n",
    "\n",
    "# To load:\n",
    "# history = np.load(output_path / f'train_history_{idx}.npy', allow_pickle='TRUE').item()\n"
   ]
  },
  {
   "attachments": {},
   "cell_type": "markdown",
   "metadata": {},
   "source": [
    "#### Save the best model"
   ]
  },
  {
   "cell_type": "code",
   "execution_count": null,
   "metadata": {},
   "outputs": [],
   "source": [
    "import pandas as pd\n",
    "\n",
    "csv_files = [output_path / f'train_metrics_{idx}.csv' for idx in range(n_splits)]\n",
    "dataframes = [pd.read_csv(file) for file in csv_files]\n",
    "\n",
    "\n",
    "best_model_index = None\n",
    "best_val_accuracy = 0.0\n",
    "\n",
    "for i, df in enumerate(dataframes):\n",
    "    val_accuracy = df.iloc[-1]['val_accuracy']\n",
    "    if val_accuracy > best_val_accuracy:\n",
    "        best_val_accuracy = val_accuracy\n",
    "        best_model_index = i\n",
    "\n",
    "print(f\"Best model index: {best_model_index}, val_accuracy: {best_val_accuracy}\")\n",
    "\n",
    "\n",
    "best_model = models_with_histories[best_model_index].get('model', None)\n",
    "best_model.save_pretrained(output_path / 'best_model', from_tf=True) \n",
    "\n",
    "best_model_info = {\"idx\": best_model_index,\n",
    "                   \"model_id\": model_id,\n",
    "                   \"zoom\": zoom,\n",
    "                   \"n_splits\": n_splits,\n",
    "                   \"num_train_epochs\": num_train_epochs,\n",
    "                   \"train_batch_size\": train_batch_size,\n",
    "                   \"eval_batch_size\": eval_batch_size,\n",
    "                   \"learning_rate\": learning_rate,\n",
    "                   \"weight_decay_rate\": weight_decay_rate,\n",
    "                   \"num_warmup_steps\": num_warmup_steps,\n",
    "                   \"num_train_steps\": num_train_steps_list[best_model_index]}\n",
    "\n",
    "with open(output_path / 'best_model_info.json', 'w') as f:\n",
    "    json.dump(best_model_info, f, indent=4)\n",
    "\n",
    "print(json.dumps(best_model_info, indent=4))"
   ]
  },
  {
   "cell_type": "code",
   "execution_count": null,
   "metadata": {},
   "outputs": [],
   "source": [
    "numeric_columns = ['accuracy', 'auc', 'auc_multi', 'loss', 'precision', 'recall',\n",
    "                   'val_accuracy', 'val_auc', 'val_auc_multi', 'val_loss', 'val_precision', 'val_recall']\n",
    "\n",
    "last_rows_numeric = [df[numeric_columns].iloc[-1] for df in dataframes]\n",
    "mean_metrics = pd.concat(last_rows_numeric, axis=1).mean(axis=1)\n",
    "std_metrics = pd.concat(last_rows_numeric, axis=1).std(axis=1)\n",
    "\n",
    "metrics_dict = {\n",
    "    metric_name: {\n",
    "        \"mean\": mean_metrics[metric_name],\n",
    "        \"std\": std_metrics[metric_name],\n",
    "    }\n",
    "    for metric_name in mean_metrics.index\n",
    "}\n",
    "\n",
    "with open(output_path / 'train_metrics_mean_with_std.json', 'w') as f:\n",
    "    json.dump(metrics_dict, f, indent=4)\n",
    "\n",
    "print(json.dumps(metrics_dict, indent=4))\n"
   ]
  }
 ],
 "metadata": {
  "instance_type": "ml.t3.medium",
  "interpreter": {
   "hash": "ec1370a512a4612a2908be3c3c8b0de1730d00dc30104daff827065aeaf438b7"
  },
  "kernelspec": {
   "display_name": "Python 3 (ipykernel)",
   "language": "python",
   "name": "python3"
  },
  "language_info": {
   "codemirror_mode": {
    "name": "ipython",
    "version": 3
   },
   "file_extension": ".py",
   "mimetype": "text/x-python",
   "name": "python",
   "nbconvert_exporter": "python",
   "pygments_lexer": "ipython3",
   "version": "3.10.9"
  }
 },
 "nbformat": 4,
 "nbformat_minor": 4
}
